{
 "cells": [
  {
   "cell_type": "markdown",
   "metadata": {},
   "source": [
    "#### Problem 1 solution"
   ]
  },
  {
   "cell_type": "code",
   "execution_count": 1,
   "metadata": {},
   "outputs": [],
   "source": [
    "# Complete the following function.\n",
    "\n",
    "# DO NOT CHANGE THE FUNCTION NAME AND ARGUMENTS!!! They will be used to test your answers.\n",
    "\n",
    "def sum_sqr_list(l):\n",
    "    s = 0\n",
    "    ss = 0\n",
    "    if type(l) != type(list()):\n",
    "        print(\"Error: The argument is not a list.\")\n",
    "    else:\n",
    "        s = 0\n",
    "        ss = 0\n",
    "        for i in l:\n",
    "            s += i\n",
    "            ss += i**2\n",
    "            \n",
    "    return [s, ss]"
   ]
  },
  {
   "cell_type": "code",
   "execution_count": 2,
   "metadata": {},
   "outputs": [
    {
     "name": "stdout",
     "output_type": "stream",
     "text": [
      "Error: The argument is not a list.\n",
      "[0, 0]\n",
      "[15, 55]\n"
     ]
    }
   ],
   "source": [
    "# The following code is provided for your test.\n",
    "# You can modify it as you want, to test your function.\n",
    "\n",
    "l = {1, 2, 3, 4, 5}\n",
    "a = sum_sqr_list(l)\n",
    "print(a)\n",
    "\n",
    "l = [1, 2, 3, 4, 5]\n",
    "a = sum_sqr_list(l)\n",
    "print(a)"
   ]
  },
  {
   "cell_type": "markdown",
   "metadata": {},
   "source": [
    "---\n",
    "#### Problem 2 solution"
   ]
  },
  {
   "cell_type": "code",
   "execution_count": 3,
   "metadata": {},
   "outputs": [],
   "source": [
    "# Complete the following function.\n",
    "\n",
    "# DO NOT CHANGE THE FUNCTION NAME AND ARGUMENTS!!! They will be used to test your answers.\n",
    "\n",
    "def make_dict(keys, values):\n",
    "    if len(keys) != len(values):\n",
    "        print(\"Error: the lengths of two lists are not the same\")\n",
    "    else:\n",
    "        d = { }\n",
    "        for idx, k in enumerate(keys):\n",
    "            d.update({k:values[idx]})\n",
    "        return d\n",
    "        "
   ]
  },
  {
   "cell_type": "code",
   "execution_count": 4,
   "metadata": {},
   "outputs": [
    {
     "name": "stdout",
     "output_type": "stream",
     "text": [
      "{'a': 1, 'b': 2, 'c': 3, 'd': 4}\n",
      " \n",
      "{'A': [1, 2, 3], 'B': ['n', 'm', 'p', 'q', 'x'], 'C': ['USA', 'China', 'Chile', 'Kenya']}\n"
     ]
    }
   ],
   "source": [
    "# The following code is provided for your test.\n",
    "# You can modify it as you want, to test your function.\n",
    "\n",
    "k = ['a','b','c','d']\n",
    "v = [1,2,3,4]\n",
    "d = make_dict(k,v)\n",
    "print(d)\n",
    "print(' ')\n",
    "\n",
    "k = ['A','B','C']\n",
    "v = [[1,2,3], ['n','m','p','q','x'], ['USA', 'China', 'Chile', 'Kenya']]\n",
    "d = make_dict(k,v)\n",
    "print(d)"
   ]
  },
  {
   "cell_type": "markdown",
   "metadata": {},
   "source": [
    "---\n",
    "#### Problem 3 solution"
   ]
  },
  {
   "cell_type": "code",
   "execution_count": 5,
   "metadata": {},
   "outputs": [],
   "source": [
    "# Complete the following function.\n",
    "\n",
    "# DO NOT CHANGE THE FUNCTION NAME AND ARGUMENTS!!! They will be used to test your answers.\n",
    "\n",
    "def append_n_elements_from_2nd_to_1st(la, lb, n):\n",
    "    if len(lb)<n:\n",
    "        print(\"Error: the 2nd list must have at least 'n' number of elements.\")\n",
    "        return\n",
    "    \n",
    "    for i in range(n):\n",
    "        la.append(lb.pop())\n",
    "    "
   ]
  },
  {
   "cell_type": "code",
   "execution_count": 6,
   "metadata": {},
   "outputs": [
    {
     "name": "stdout",
     "output_type": "stream",
     "text": [
      "[1, 2, 3, 9, 8, 7, 6]\n",
      "[4, 5]\n",
      " \n",
      "Error: the 2nd list must have at least 'n' number of elements.\n",
      "[1, 2, 3, 4, 5, 6]\n",
      "[7, 8, 9]\n"
     ]
    }
   ],
   "source": [
    "# The following code is provided for your test.\n",
    "# You can modify it as you want, to test your function.\n",
    "\n",
    "A = [1,2,3]\n",
    "B = [4,5,6,7,8,9]\n",
    "append_n_elements_from_2nd_to_1st(A, B, 4)\n",
    "print(A)\n",
    "print(B)\n",
    "print(' ')\n",
    "\n",
    "A = [1,2,3,4,5,6]\n",
    "B = [7,8,9]\n",
    "append_n_elements_from_2nd_to_1st(A, B, 6)\n",
    "print(A)\n",
    "print(B)"
   ]
  },
  {
   "cell_type": "markdown",
   "metadata": {},
   "source": [
    "---\n",
    "#### Problem 4 solution"
   ]
  },
  {
   "cell_type": "code",
   "execution_count": 7,
   "metadata": {},
   "outputs": [],
   "source": [
    "# Complete the following class.\n",
    "\n",
    "# DO NOT CHANGE THE CLASS NAME!!!\n",
    "\n",
    "class petClass():\n",
    "    def __init__(self, name, color=\"brown\" ):\n",
    "        self.name = name\n",
    "        self.color = color\n",
    "        # Add a new member 'nick' to store a nickname. Default is 'no nick yet'\n",
    "        self.nick = 'no nick yet'\n",
    "    \n",
    "    def petColor(self):\n",
    "        print(self.name, 'is', self.color)\n",
    "        \n",
    "    def dye(self, color):\n",
    "        self.color = color\n",
    "        self.petColor()\n",
    "        \n",
    "    def changeName(self,  newName ):\n",
    "        # Fill code here\n",
    "        self.name = newName\n",
    "    \n",
    "    def nickName(self, newNick):\n",
    "        self.nick = newNick"
   ]
  },
  {
   "cell_type": "code",
   "execution_count": 8,
   "metadata": {},
   "outputs": [
    {
     "name": "stdout",
     "output_type": "stream",
     "text": [
      "Spot\n",
      " \n",
      "Cow\n",
      " \n",
      "no nick yet\n",
      "Ticky\n",
      " \n"
     ]
    }
   ],
   "source": [
    "# The following code is provided for your test.\n",
    "# You can modify it as you want, to test your function.\n",
    "\n",
    "myDog = petClass('Spot', 'black and white')\n",
    "print(myDog.name)\n",
    "print(\" \")\n",
    "\n",
    "myDog.changeName('Cow')\n",
    "print(myDog.name)\n",
    "print(\" \")\n",
    "\n",
    "print(myDog.nick)\n",
    "myDog.nickName('Ticky')\n",
    "print(myDog.nick)\n",
    "print(\" \")\n"
   ]
  }
 ],
 "metadata": {
  "kernelspec": {
   "display_name": "Python 3",
   "language": "python",
   "name": "python3"
  },
  "language_info": {
   "codemirror_mode": {
    "name": "ipython",
    "version": 3
   },
   "file_extension": ".py",
   "mimetype": "text/x-python",
   "name": "python",
   "nbconvert_exporter": "python",
   "pygments_lexer": "ipython3",
   "version": "3.7.4"
  }
 },
 "nbformat": 4,
 "nbformat_minor": 4
}

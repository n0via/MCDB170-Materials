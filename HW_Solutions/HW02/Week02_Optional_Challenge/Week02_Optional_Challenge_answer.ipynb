{
 "cells": [
  {
   "cell_type": "markdown",
   "metadata": {},
   "source": [
    "#### Problem 1 solution"
   ]
  },
  {
   "cell_type": "code",
   "execution_count": null,
   "metadata": {},
   "outputs": [],
   "source": [
    "def move_element(list_A, idx_a, list_B, idx_b):\n",
    "    list_B.insert(idx_b, list_A.pop(idx_a))"
   ]
  },
  {
   "cell_type": "code",
   "execution_count": null,
   "metadata": {},
   "outputs": [],
   "source": [
    "list_A = [4,5]\n",
    "list_B = [1,2,3]\n",
    "move_element(list_A, 1, list_B, 2)\n",
    "print(list_A, list_B)\n",
    "move_element(list_B, 0, list_A, 0)\n",
    "print(list_A, list_B)\n",
    "\n",
    "disks = {'A':[1, 2, 3], 'B':[], 'C':[]}\n",
    "# Think about how to move the a-th element in 'A' to c-th element in 'C'.\n",
    "# We will use it in other problems.\n",
    "#move_element(???) # try filling ???\n",
    "print(disks)"
   ]
  },
  {
   "cell_type": "code",
   "execution_count": null,
   "metadata": {},
   "outputs": [],
   "source": []
  },
  {
   "cell_type": "markdown",
   "metadata": {},
   "source": [
    "#### Problem 2 solution"
   ]
  },
  {
   "cell_type": "code",
   "execution_count": null,
   "metadata": {},
   "outputs": [],
   "source": [
    "def towerOfHanoi_move_1(disks, n_disks_to_move, from_peg, to_peg, aux_peg):\n",
    "    if n_disks_to_move == 1:\n",
    "        if len(disks[to_peg]) == 0 or disks[to_peg][0]>disks[from_peg][0]:\n",
    "            print('moving', disks[from_peg][0], 'from', from_peg, 'to', to_peg)\n",
    "            disks[to_peg].insert(0, disks[from_peg].pop(0))\n",
    "        elif disks[to_peg][0] <= disks[from_peg][0]:\n",
    "            print('error: move is not valid')\n",
    "        "
   ]
  },
  {
   "cell_type": "code",
   "execution_count": null,
   "metadata": {},
   "outputs": [],
   "source": [
    "disks = {'A':[1, 2, 3], 'B':[], 'C':[]}\n",
    "print(disks)\n",
    "towerOfHanoi_move_1(disks, 1, 'A', 'C', 'B')\n",
    "print(disks)\n",
    "towerOfHanoi_move_1(disks, 1, 'A', 'B', 'C')\n",
    "print(disks)\n",
    "towerOfHanoi_move_1(disks, 1, 'C', 'B', 'A')\n",
    "print(disks)\n",
    "towerOfHanoi_move_1(disks, 1, 'A', 'B', 'C')"
   ]
  },
  {
   "cell_type": "code",
   "execution_count": null,
   "metadata": {},
   "outputs": [],
   "source": []
  },
  {
   "cell_type": "markdown",
   "metadata": {},
   "source": [
    "#### Problem 3 solution"
   ]
  },
  {
   "cell_type": "code",
   "execution_count": null,
   "metadata": {},
   "outputs": [],
   "source": [
    "def towerOfHanoi(disks, n_disks_to_move, from_peg, to_peg, aux_peg):\n",
    "    # If there is only one disk left in the \"from_peg\" AND the \"to_peg\" has\n",
    "    # zero disk, simply move the disk to the \"to_peg\"\n",
    "    if n_disks_to_move == 1:\n",
    "        if len(disks[to_peg]) == 0 or disks[to_peg][0]>disks[from_peg][0]:\n",
    "            print(disks)\n",
    "            print('moving', disks[from_peg][0], 'from', from_peg, 'to', to_peg)\n",
    "            disks[to_peg].insert(0, disks[from_peg].pop(0))\n",
    "        elif disks[to_peg][0] <= disks[from_peg][0]:\n",
    "            print('error: move is not valid')\n",
    "            \n",
    "    else:\n",
    "        towerOfHanoi(disks, n_disks_to_move-1, from_peg, aux_peg, to_peg)\n",
    "        towerOfHanoi(disks, 1, from_peg, to_peg, aux_peg)\n",
    "        towerOfHanoi(disks, n_disks_to_move-1, aux_peg, to_peg, from_peg)\n",
    "    \n",
    "    "
   ]
  },
  {
   "cell_type": "code",
   "execution_count": null,
   "metadata": {},
   "outputs": [],
   "source": [
    "disks = {'A':[1, 2, 3], 'B':[], 'C':[]}\n",
    "towerOfHanoi(disks, len(disks['A']), 'A', 'C', 'B')\n",
    "print(disks)\n",
    "\n",
    "disks = {'A':[1, 3, 2], 'B':[], 'C':[]} # format is wrong\n",
    "towerOfHanoi(disks, len(disks['A']), 'A', 'C', 'B') # generates error\n",
    "print(disks)"
   ]
  },
  {
   "cell_type": "code",
   "execution_count": null,
   "metadata": {},
   "outputs": [],
   "source": []
  },
  {
   "cell_type": "markdown",
   "metadata": {},
   "source": [
    "#### Problem 4 solution"
   ]
  },
  {
   "cell_type": "code",
   "execution_count": null,
   "metadata": {},
   "outputs": [],
   "source": [
    "def towerOfHanoi_v2(disks, n_disks_to_move, from_peg, to_peg, aux_peg):\n",
    "    # If there is only one disk left in the \"from_peg\" AND the \"to_peg\" has\n",
    "    # zero disk, simply move the disk to the \"to_peg\"\n",
    "    if n_disks_to_move == 1:\n",
    "        if len(disks[to_peg]) == 0 or disks[to_peg][-1]>disks[from_peg][-1]:\n",
    "            print(disks)\n",
    "            print('moving', disks[from_peg][-1], 'from', from_peg, 'to', to_peg)\n",
    "            disks[to_peg].append(disks[from_peg].pop(-1))\n",
    "        elif disks[to_peg][-1] <= disks[from_peg][-1]:\n",
    "            print('error: move is not valid')\n",
    "            \n",
    "    else:\n",
    "        towerOfHanoi_v2(disks, n_disks_to_move-1, from_peg, aux_peg, to_peg)\n",
    "        towerOfHanoi_v2(disks, 1, from_peg, to_peg, aux_peg)\n",
    "        towerOfHanoi_v2(disks, n_disks_to_move-1, aux_peg, to_peg, from_peg)\n",
    "    \n",
    "    "
   ]
  },
  {
   "cell_type": "code",
   "execution_count": null,
   "metadata": {},
   "outputs": [],
   "source": [
    "disks = {'A':[3,2,1], 'B':[], 'C':[]}\n",
    "towerOfHanoi_v2(disks, len(disks['A']), 'A', 'C', 'B')\n",
    "print(disks)"
   ]
  },
  {
   "cell_type": "code",
   "execution_count": null,
   "metadata": {},
   "outputs": [],
   "source": []
  }
 ],
 "metadata": {
  "kernelspec": {
   "display_name": "Python 3",
   "language": "python",
   "name": "python3"
  },
  "language_info": {
   "codemirror_mode": {
    "name": "ipython",
    "version": 3
   },
   "file_extension": ".py",
   "mimetype": "text/x-python",
   "name": "python",
   "nbconvert_exporter": "python",
   "pygments_lexer": "ipython3",
   "version": "3.7.4"
  }
 },
 "nbformat": 4,
 "nbformat_minor": 4
}

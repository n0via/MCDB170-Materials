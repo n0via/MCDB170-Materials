{
 "cells": [
  {
   "cell_type": "markdown",
   "metadata": {},
   "source": [
    "### **Week 3, Homework**"
   ]
  },
  {
   "cell_type": "markdown",
   "metadata": {},
   "source": [
    "---"
   ]
  },
  {
   "cell_type": "markdown",
   "metadata": {},
   "source": [
    "#### Problem 1 solution"
   ]
  },
  {
   "cell_type": "code",
   "execution_count": 1,
   "metadata": {},
   "outputs": [],
   "source": [
    "# Complete the following function.\n",
    "\n",
    "# DO NOT CHANGE THE FUNCTION NAME AND ARGUMENTS!!!\n",
    "\n",
    "def base_percent(seq, base):\n",
    "    return sum([c == base for c in seq])/len(seq)*100"
   ]
  },
  {
   "cell_type": "code",
   "execution_count": 2,
   "metadata": {},
   "outputs": [
    {
     "name": "stdout",
     "output_type": "stream",
     "text": [
      "Percent of A in the sequence: 23.75 %\n",
      "Percent of T in the sequence: 26.25 %\n",
      "Percent of G in the sequence: 22.50 %\n",
      "Percent of C in the sequence: 27.50 %\n",
      "Total = 100.00 %\n"
     ]
    }
   ],
   "source": [
    "# The following code is provided for your test.\n",
    "# You can modify it as you want, to test your function.\n",
    "\n",
    "seq = 'AAGCCTTGTTCTTGCAGTAAATCACTCAGGTGGTCACCCACATATTCCGCACCGCCTAGGGTGCTGCCAGTAATGATATG'\n",
    "\n",
    "a = base_percent(seq, 'A')\n",
    "t = base_percent(seq, 'T')\n",
    "g = base_percent(seq, 'G')\n",
    "c = base_percent(seq, 'C')\n",
    "print(\"Percent of A in the sequence: %4.2f\" % a, '%') # You can format strings. See string_err_fileIO_debugging.ipynb\n",
    "print(\"Percent of T in the sequence: %4.2f\" % t, '%') # You don't have to modify these lines.\n",
    "print(\"Percent of G in the sequence: %4.2f\" % g, '%')\n",
    "print(\"Percent of C in the sequence: %4.2f\" % c, '%')\n",
    "print(\"Total = %5.2f\" % (a+t+g+c), '%')"
   ]
  },
  {
   "cell_type": "code",
   "execution_count": null,
   "metadata": {},
   "outputs": [],
   "source": []
  },
  {
   "cell_type": "markdown",
   "metadata": {},
   "source": [
    "---"
   ]
  },
  {
   "cell_type": "markdown",
   "metadata": {},
   "source": [
    "#### Problem 2 solution"
   ]
  },
  {
   "cell_type": "code",
   "execution_count": 3,
   "metadata": {},
   "outputs": [],
   "source": [
    "# This cell is given. Run this cell. DO NOT modify this cell\n",
    "\n",
    "def read_seq_file(filename):\n",
    "    lines = open(filename,'r').readlines()\n",
    "    return ''.join([  line.strip() for line in lines  ])\n",
    "\n",
    "def read_exon_positions(filename):\n",
    "    return [ tuple(int(num_str) for num_str in line.split() ) for line in open(filename, 'r') ]"
   ]
  },
  {
   "cell_type": "code",
   "execution_count": 4,
   "metadata": {},
   "outputs": [],
   "source": [
    "# Fix the following function.\n",
    "\n",
    "# DO NOT CHANGE THE FUNCTION NAME AND ARGUMENTS!!!\n",
    "\n",
    "def create_mRNA(dna_seq, exon_pos):\n",
    "    return ''.join([  dna_seq[begin:end]   for begin, end in exon_pos     ]).replace('T', 'U')"
   ]
  },
  {
   "cell_type": "code",
   "execution_count": 5,
   "metadata": {},
   "outputs": [
    {
     "name": "stdout",
     "output_type": "stream",
     "text": [
      "GTTCCTAGAAAATGGAGCTGTCTTGGCATGTAGTCTTTATTGCCCTGCTAAGTTTTTCATGCTGGGGGTC\n",
      "GUUCCUAGAAAAUGGAGCUGUCUUGGCAUGUAGUCUUUAUUGCCCUGCUAAGUUUUUCAUGCUGGGGGUC\n",
      "def create_mRNA(dna_seq, exon_pos):\n",
      "    return ''.join([  dna_seq[begin:end]   for begin, end in exon_pos     ]).replace('T', 'U')\n",
      "\n"
     ]
    }
   ],
   "source": [
    "# The following code is provided for your test.\n",
    "# You can modify it as you want, to test your function.\n",
    "\n",
    "import os\n",
    "dna_seq = read_seq_file(os.path.join('data', 'lactase_gene.txt'))\n",
    "exon_pos = read_exon_positions(os.path.join('data','lactase_exon.tsv'))\n",
    "\n",
    "print(dna_seq[:70])\n",
    "mRNA_seq = create_mRNA(dna_seq, exon_pos)\n",
    "print(mRNA_seq[:70])\n",
    "\n",
    "\n",
    "# Jon, use the following code to check if the source code of the function is indeed\n",
    "# a one-liner. The output should be one line for function name and another for the return statement\n",
    "import inspect\n",
    "lines = inspect.getsource(create_mRNA)\n",
    "print(lines)"
   ]
  },
  {
   "cell_type": "code",
   "execution_count": null,
   "metadata": {},
   "outputs": [],
   "source": []
  },
  {
   "cell_type": "markdown",
   "metadata": {},
   "source": [
    "---"
   ]
  },
  {
   "cell_type": "markdown",
   "metadata": {},
   "source": [
    "#### Problem 3 solution"
   ]
  },
  {
   "cell_type": "code",
   "execution_count": 6,
   "metadata": {},
   "outputs": [],
   "source": [
    "# Complete the following function.\n",
    "\n",
    "# DO NOT CHANGE THE FUNCTION NAME AND ARGUMENTS!!!\n",
    "\n",
    "def mutate_seq(seq, pos, base):\n",
    "    return seq[:pos] + base + seq[pos+1:]"
   ]
  },
  {
   "cell_type": "code",
   "execution_count": 7,
   "metadata": {},
   "outputs": [
    {
     "name": "stdout",
     "output_type": "stream",
     "text": [
      "AAGCCTTGTTC\n",
      "AAGCATTGTTC\n"
     ]
    }
   ],
   "source": [
    "# The following code is provided for your test.\n",
    "# You can modify it as you want, to test your function.\n",
    "\n",
    "seq = 'AAGCCTTGTTC'\n",
    "mutated_seq = mutate_seq(seq, 4, 'A')\n",
    "\n",
    "print(seq)\n",
    "print(mutated_seq)"
   ]
  },
  {
   "cell_type": "code",
   "execution_count": null,
   "metadata": {},
   "outputs": [],
   "source": []
  },
  {
   "cell_type": "markdown",
   "metadata": {},
   "source": [
    "---"
   ]
  },
  {
   "cell_type": "markdown",
   "metadata": {},
   "source": [
    "#### Problem 4 solution"
   ]
  },
  {
   "cell_type": "code",
   "execution_count": 8,
   "metadata": {},
   "outputs": [
    {
     "name": "stdout",
     "output_type": "stream",
     "text": [
      "CACCGCTGGTCCTCTAACCAATGACTTGCTGCACAACCTGAGTGGTCTCC\n",
      "CACTGCTGGTCCTCTAACCAATGACTTGCTGCACAACCTGAGTGGTCTCC\n"
     ]
    }
   ],
   "source": [
    "# The following code is provided for your test.\n",
    "# You can modify it as you want, to test your function.\n",
    "\n",
    "from Gene import Gene\n",
    "import os\n",
    "\n",
    "dna_seq_filename = os.path.join('data','lactase_gene.txt')\n",
    "lactase_gene = Gene('lactase')\n",
    "lactase_gene.read_dna_seq_file(dna_seq_filename)\n",
    "\n",
    "print(lactase_gene.dna_seq[100:150])\n",
    "lactase_gene.mutate_dna_seq(103, 'T')\n",
    "print(lactase_gene.dna_seq[100:150])"
   ]
  },
  {
   "cell_type": "code",
   "execution_count": null,
   "metadata": {},
   "outputs": [],
   "source": []
  },
  {
   "cell_type": "markdown",
   "metadata": {},
   "source": [
    "---"
   ]
  },
  {
   "cell_type": "markdown",
   "metadata": {},
   "source": [
    "#### Problem 5 solution"
   ]
  },
  {
   "cell_type": "code",
   "execution_count": 9,
   "metadata": {},
   "outputs": [],
   "source": [
    "from Gene import Gene\n",
    "import os\n",
    "\n",
    "def examine_mutation(pos, base):\n",
    "    dna_seq_filename = os.path.join('data','lactase_gene.txt')\n",
    "    exon_position_filename = os.path.join('data', 'lactase_exon.tsv')\n",
    "    mRNA_save_filename = os.path.join('output','lactase_mRNA.txt')\n",
    "    translation_conversion_map_filename = os.path.join('data', 'conversion_map.tsv')\n",
    "\n",
    "    # Make a Gene object\n",
    "    lactase_gene = Gene('lactase')    # Fill in the blank space\n",
    "    # Fill in this gap to create protein sequence\n",
    "    lactase_gene.read_dna_seq_file(dna_seq_filename)\n",
    "    lactase_gene.read_exon_positions(exon_position_filename)\n",
    "    lactase_gene.create_mRNA()\n",
    "    lactase_gene.read_translation_conversion_map(translation_conversion_map_filename)\n",
    "    lactase_gene.create_protein_seq()\n",
    "\n",
    "    \n",
    "    seq = lactase_gene.protein_seq\n",
    "    print(\"The length of lactase protein: \", len(seq))    # Fill the missing code\n",
    "    \n",
    "    # Mutate the gene, create mRNA seq and protein seq\n",
    "    lactase_gene.mutate_dna_seq(pos, base)\n",
    "    lactase_gene.create_mRNA()\n",
    "    lactase_gene.create_protein_seq()\n",
    "    \n",
    "    seq = lactase_gene.protein_seq\n",
    "    print(\"The length of mutated protein: \", len(seq))\n",
    "    "
   ]
  },
  {
   "cell_type": "code",
   "execution_count": 10,
   "metadata": {},
   "outputs": [
    {
     "name": "stdout",
     "output_type": "stream",
     "text": [
      "The length of lactase protein:  1927\n",
      "The length of mutated protein:  1389\n"
     ]
    }
   ],
   "source": [
    "examine_mutation(30049, 'A')"
   ]
  },
  {
   "cell_type": "code",
   "execution_count": null,
   "metadata": {},
   "outputs": [],
   "source": []
  }
 ],
 "metadata": {
  "kernelspec": {
   "display_name": "Python 3",
   "language": "python",
   "name": "python3"
  },
  "language_info": {
   "codemirror_mode": {
    "name": "ipython",
    "version": 3
   },
   "file_extension": ".py",
   "mimetype": "text/x-python",
   "name": "python",
   "nbconvert_exporter": "python",
   "pygments_lexer": "ipython3",
   "version": "3.7.4"
  }
 },
 "nbformat": 4,
 "nbformat_minor": 4
}

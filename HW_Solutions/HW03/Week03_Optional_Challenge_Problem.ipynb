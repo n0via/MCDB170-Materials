{
 "cells": [
  {
   "cell_type": "markdown",
   "metadata": {},
   "source": [
    "### **Week 3, Challenge (Optional)**"
   ]
  },
  {
   "cell_type": "markdown",
   "metadata": {},
   "source": [
    "---"
   ]
  },
  {
   "cell_type": "markdown",
   "metadata": {},
   "source": [
    "#### Simulate random mutation and its effect\n",
    "\n",
    "\n",
    "Mutations can happen anywhere in the gene. Write a member function in `Gene.py` called `mutate_n_times(self, n)`. This function performs the following things.\n",
    "\n",
    "1. It first converts the DNA sequence into a list because Python string is not mutable. \n",
    "    - Use `list()` function to convert a string to a list. You may google about how to convert a string to a list.\n",
    "2. In each iteration of a for-loop with `n` repetitions, it selects a random location in the list and mutate it.\n",
    "    - Use `random.randinit(a, b)` to select a location (google to find how to use it). \n",
    "    - Then use `random.choice(list)` to randomly choose a base from ATGC. \n",
    "    - All this can be done in a single line. Even the for loop can be combined into a single line using comprehension. Try to see if you can push the comprehension to its extreme!\n",
    "3. Combine the list into a string and save it into the new member variable, `mutated_dna_seq`, of the `Gene` class.\n",
    "    - Keep the original dna sequence intact.\n",
    "4. Modify the `Gene.py` so that you can check the consequence (i.e., protein) of the mutation, while keeping the original dna sequence.\n",
    "\n",
    "\n",
    "Now, you can use this simulation to answer interesting questions. \n",
    "\n",
    "For example, consider the Problem 5 in the homework, where the length of the protein changed. However, some mutations would not result in such change in length. Now we can answer how often random mutations could result in protein length change. Try answer this question by simulating 10,000 times of a random mutation in a single position in the lactase DNA sequence. Then do the same simulation and analysis for mutations in two positions. Then three positions, and so on. Does the rate of protein length change linearly increase with the number of mutations? Or is it nonlinear? (We have not learned how to plot data, which will be covered in Week 4. But try google and plot what you obtained.)\n",
    "\n"
   ]
  },
  {
   "cell_type": "code",
   "execution_count": null,
   "metadata": {},
   "outputs": [],
   "source": []
  }
 ],
 "metadata": {
  "kernelspec": {
   "display_name": "Python 3",
   "language": "python",
   "name": "python3"
  },
  "language_info": {
   "codemirror_mode": {
    "name": "ipython",
    "version": 3
   },
   "file_extension": ".py",
   "mimetype": "text/x-python",
   "name": "python",
   "nbconvert_exporter": "python",
   "pygments_lexer": "ipython3",
   "version": "3.7.4"
  }
 },
 "nbformat": 4,
 "nbformat_minor": 4
}

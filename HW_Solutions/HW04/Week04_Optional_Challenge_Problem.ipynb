{
 "cells": [
  {
   "cell_type": "markdown",
   "metadata": {},
   "source": [
    "### **Week 4, Optional Challenge**"
   ]
  },
  {
   "cell_type": "markdown",
   "metadata": {},
   "source": [
    "---"
   ]
  },
  {
   "cell_type": "markdown",
   "metadata": {},
   "source": [
    "## Biopython\n",
    "\n",
    "The goal of this challenge is to expose yourself to a new real-world python package and experience learning from reading online materials. That being said, it is not a toally new package. The challenge is to get deeper into the Biopython by yourself. The tutorial can be found at:\n",
    "\n",
    "http://biopython.org/DIST/docs/tutorial/Tutorial.html\n",
    "\n",
    "We covered a large part of Chapter 2, 3, 4, and 5. We also covered a small portion of Chapter 6, 7, and 9.\n",
    "\n",
    "See if you can read this tutorial and make sense of what it presents. Some parts can be confusing or hard to get into, and that's normal. No tutorial is perfect and you will need to google to understand it. \n",
    "\n",
    "### Here are a few practical challenges.\n",
    "\n",
    "1. Read and try code in Section 3.10, 3.11, 4.4, and 4.8.\n",
    "\n",
    "2. Read and try some of code in Section 6.5. This section may be quite challenging.\n",
    "\n",
    "### Next, visit https://biopython.org/\n",
    "\n",
    "In this page, there is a link to `Cookbock`. Then, try the following links. These are relatively simple examples.\n",
    "\n",
    "    - Converting sequence files with the Bio.SeqIO module.\n",
    "    \n",
    "    - Retrieve nonmatching blast queries\n",
    "    \n",
    "    - Split large file\n",
    "    \n",
    "### Finally, visit again: https://biopython.org/\n",
    "\n",
    "Click `Discuss and ask questions`\n",
    "\n",
    "You can see `BioStar` and `StackOverflow`. You can get help from these forums when you encounter problems.\n"
   ]
  },
  {
   "cell_type": "code",
   "execution_count": null,
   "metadata": {},
   "outputs": [],
   "source": []
  }
 ],
 "metadata": {
  "kernelspec": {
   "display_name": "Python 3",
   "language": "python",
   "name": "python3"
  },
  "language_info": {
   "codemirror_mode": {
    "name": "ipython",
    "version": 3
   },
   "file_extension": ".py",
   "mimetype": "text/x-python",
   "name": "python",
   "nbconvert_exporter": "python",
   "pygments_lexer": "ipython3",
   "version": "3.7.4"
  }
 },
 "nbformat": 4,
 "nbformat_minor": 4
}

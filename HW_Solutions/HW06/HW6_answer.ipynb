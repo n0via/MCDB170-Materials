{
 "cells": [
  {
   "cell_type": "markdown",
   "metadata": {},
   "source": [
    "#### Problem 1 solution"
   ]
  },
  {
   "cell_type": "code",
   "execution_count": 88,
   "metadata": {},
   "outputs": [],
   "source": [
    "# Complete the following function.\n",
    "\n",
    "# DO NOT CHANGE THE FUNCTION NAME AND ARGUMENTS!!!\n",
    "\n",
    "import numpy as np\n",
    "def n_array(n, m):\n",
    "    return np.ones(m) * n\n"
   ]
  },
  {
   "cell_type": "code",
   "execution_count": 100,
   "metadata": {},
   "outputs": [
    {
     "data": {
      "text/plain": [
       "array([7., 7., 7., 7., 7., 7., 7., 7., 7., 7., 7., 7., 7., 7., 7., 7., 7.,\n",
       "       7., 7., 7., 7., 7., 7., 7., 7., 7., 7., 7., 7., 7.])"
      ]
     },
     "execution_count": 100,
     "metadata": {},
     "output_type": "execute_result"
    }
   ],
   "source": [
    "n = 7\n",
    "m = 30\n",
    "a = n_array(n, m)\n",
    "a"
   ]
  },
  {
   "cell_type": "code",
   "execution_count": null,
   "metadata": {},
   "outputs": [],
   "source": []
  },
  {
   "cell_type": "markdown",
   "metadata": {},
   "source": [
    "---"
   ]
  },
  {
   "cell_type": "markdown",
   "metadata": {},
   "source": [
    "#### Problem 2 solution"
   ]
  },
  {
   "cell_type": "code",
   "execution_count": 90,
   "metadata": {},
   "outputs": [],
   "source": [
    "# Change the following function.\n",
    "\n",
    "# DO NOT CHANGE THE FUNCTION NAME AND ARGUMENTS!!!\n",
    "\n",
    "import numpy as np\n",
    "\n",
    "\n",
    "def test_nonnegative( x ):\n",
    "    return np.all(x>=0)\n"
   ]
  },
  {
   "cell_type": "code",
   "execution_count": 91,
   "metadata": {},
   "outputs": [
    {
     "name": "stdout",
     "output_type": "stream",
     "text": [
      "False\n",
      "True\n",
      "False\n"
     ]
    }
   ],
   "source": [
    "# The following code is provided for your test.\n",
    "# You can modify it as you want, to test your function.\n",
    "\n",
    "a = np.array([-1, 0, 1])\n",
    "print(test_nonnegative(a))\n",
    "\n",
    "b = np.arange(5)\n",
    "print(test_nonnegative(b))\n",
    "\n",
    "c = np.arange(-5, 10)\n",
    "print(test_nonnegative(c))"
   ]
  },
  {
   "cell_type": "code",
   "execution_count": null,
   "metadata": {},
   "outputs": [],
   "source": []
  },
  {
   "cell_type": "markdown",
   "metadata": {},
   "source": [
    "---"
   ]
  },
  {
   "cell_type": "markdown",
   "metadata": {},
   "source": [
    "#### Problem 3 solution"
   ]
  },
  {
   "cell_type": "code",
   "execution_count": 5,
   "metadata": {},
   "outputs": [],
   "source": [
    "# Complete the following function.\n",
    "\n",
    "# DO NOT CHANGE THE FUNCTION NAME AND ARGUMENTS!!!\n",
    "\n",
    "import numpy as np\n",
    "def c2f( c ):\n",
    "    return (c*9/5)+32\n",
    "    "
   ]
  },
  {
   "cell_type": "code",
   "execution_count": 6,
   "metadata": {},
   "outputs": [
    {
     "data": {
      "text/plain": [
       "[(-1.0, 30.2),\n",
       " (0.0, 32.0),\n",
       " (1.0, 33.8),\n",
       " (2.0, 35.6),\n",
       " (4.0, 39.2),\n",
       " (35.0, 95.0),\n",
       " (36.0, 96.8),\n",
       " (36.5, 97.7),\n",
       " (37.0, 98.6),\n",
       " (38.0, 100.4),\n",
       " (99.0, 210.2),\n",
       " (100.0, 212.0)]"
      ]
     },
     "execution_count": 6,
     "metadata": {},
     "output_type": "execute_result"
    }
   ],
   "source": [
    "c = np.array([-1, 0, 1, 2, 4, 35, 36, 36.5, 37, 38, 99, 100])\n",
    "f = c2f(c)\n",
    "list(zip(c,f))"
   ]
  },
  {
   "cell_type": "code",
   "execution_count": null,
   "metadata": {},
   "outputs": [],
   "source": []
  },
  {
   "cell_type": "markdown",
   "metadata": {},
   "source": [
    "---"
   ]
  },
  {
   "cell_type": "markdown",
   "metadata": {},
   "source": [
    "#### Problem 4 solution"
   ]
  },
  {
   "cell_type": "code",
   "execution_count": 94,
   "metadata": {},
   "outputs": [],
   "source": [
    "# Complete the following function.\n",
    "\n",
    "# DO NOT CHANGE THE FUNCTION NAME AND ARGUMENTS!!!\n",
    "\n",
    "import numpy as np\n",
    "def get_deviation( x ):\n",
    "    x_bar = x.sum()/x.size\n",
    "    D = np.absolute((x-x_bar)).sum()/x.size\n",
    "    return D"
   ]
  },
  {
   "cell_type": "code",
   "execution_count": 103,
   "metadata": {},
   "outputs": [
    {
     "name": "stdout",
     "output_type": "stream",
     "text": [
      "25.0\n",
      "4.222222222222222\n"
     ]
    }
   ],
   "source": [
    "data = np.arange(100)\n",
    "D = get_deviation(data)\n",
    "print(D)\n",
    "\n",
    "data = np.array([5,3,7,9,16,3,9,8,21])\n",
    "D = get_deviation(data)\n",
    "print(D)"
   ]
  },
  {
   "cell_type": "code",
   "execution_count": null,
   "metadata": {},
   "outputs": [],
   "source": []
  },
  {
   "cell_type": "markdown",
   "metadata": {},
   "source": [
    "---"
   ]
  },
  {
   "cell_type": "markdown",
   "metadata": {},
   "source": [
    "#### Problem 5 solution"
   ]
  },
  {
   "cell_type": "code",
   "execution_count": 105,
   "metadata": {},
   "outputs": [],
   "source": [
    "# Complete the following function.\n",
    "\n",
    "# DO NOT CHANGE THE FUNCTION NAME AND ARGUMENTS!!!\n",
    "\n",
    "import numpy as np\n",
    "from scipy.special import factorial\n",
    "\n",
    "def coefficients( n ):\n",
    "    num = np.ones(n+1)*n\n",
    "    den = np.arange(n+1)\n",
    "    \n",
    "    return factorial(num)/factorial(den)/factorial(n-den)\n",
    "    "
   ]
  },
  {
   "cell_type": "code",
   "execution_count": 99,
   "metadata": {},
   "outputs": [
    {
     "name": "stdout",
     "output_type": "stream",
     "text": [
      "[1.]\n",
      "[1. 1.]\n",
      "[1. 2. 1.]\n",
      "[1. 3. 3. 1.]\n",
      "[1. 4. 6. 4. 1.]\n",
      "[ 1.  5. 10. 10.  5.  1.]\n",
      "[ 1.  6. 15. 20. 15.  6.  1.]\n",
      "[ 1.  7. 21. 35. 35. 21.  7.  1.]\n",
      "[ 1.  8. 28. 56. 70. 56. 28.  8.  1.]\n",
      "[  1.   9.  36.  84. 126. 126.  84.  36.   9.   1.]\n"
     ]
    }
   ],
   "source": [
    "for n in range(10):\n",
    "    print(coefficients(n))"
   ]
  },
  {
   "cell_type": "code",
   "execution_count": 1,
   "metadata": {},
   "outputs": [
    {
     "name": "stdout",
     "output_type": "stream",
     "text": [
      "[  1.   2.   6.  24. 120.]\n",
      "[5 7 9]\n",
      "[-3 -3 -3]\n",
      "[ 4 10 18]\n",
      "[0.25 0.4  0.5 ]\n"
     ]
    }
   ],
   "source": [
    "## Hint 1\n",
    "## An example of using factorial()\n",
    "\n",
    "import numpy as np\n",
    "from scipy.special import factorial\n",
    "\n",
    "k = np.array([1,2,3,4,5])\n",
    "m = factorial(k)\n",
    "print(m)\n",
    "\n",
    "\n",
    "## Hint 2\n",
    "## Element-wise addition, subtraction, multiplication, and division\n",
    "a = np.array([1,2,3])\n",
    "b = np.array([4,5,6])\n",
    "print(a+b)\n",
    "print(a-b)\n",
    "print(a*b)\n",
    "print(a/b)"
   ]
  },
  {
   "cell_type": "code",
   "execution_count": null,
   "metadata": {},
   "outputs": [],
   "source": []
  }
 ],
 "metadata": {
  "kernelspec": {
   "display_name": "Python 3",
   "language": "python",
   "name": "python3"
  },
  "language_info": {
   "codemirror_mode": {
    "name": "ipython",
    "version": 3
   },
   "file_extension": ".py",
   "mimetype": "text/x-python",
   "name": "python",
   "nbconvert_exporter": "python",
   "pygments_lexer": "ipython3",
   "version": "3.7.4"
  }
 },
 "nbformat": 4,
 "nbformat_minor": 4
}

{
 "cells": [
  {
   "cell_type": "markdown",
   "metadata": {},
   "source": [
    "### **Week 7, Challenge (Optional)**"
   ]
  },
  {
   "cell_type": "markdown",
   "metadata": {},
   "source": [
    "---"
   ]
  },
  {
   "cell_type": "markdown",
   "metadata": {},
   "source": [
    "#### Conway's Game of Life\n",
    "\n",
    "Using Numpy, let's simulate the Conway's Game of Life. (See https://en.wikipedia.org/wiki/Conway%27s_Game_of_Life for the history and detailed descriptions.)\n",
    "\n",
    "![GoLUrl](https://upload.wikimedia.org/wikipedia/commons/e/e5/Gospers_glider_gun.gif \"Game of Life\")\n",
    "\n",
    "Game of Life is a simulation of a system called *Cellular Automata*. You simply initialize the dots in a two-dimensional world and apply rules to obtain the next state. Over time, you will observe some moving patterns. An example is shown above.\n",
    "\n",
    "The rules of the Life is shown below. At each time point:\n",
    "\n",
    "- Any live cell with two or three live neighbors survives. (Neighbors: 8 cells aroun the cell)\n",
    "\n",
    "- Any dead cell with three live neighbors becomes a live cell.\n",
    "\n",
    "- All other live cells die in the next generation. Similarly, all other dead cells stay dead.\n",
    "\n",
    "\n",
    "Try implement it.\n",
    "\n",
    "1. Initialize a matrix with random 0's and 1's. Then you need another matrix to store a future world.\n",
    "\n",
    "2. Write a for-loop with some iterations.\n",
    "\n",
    "3. Inside the for-loop, update each cell, based on the three rules described above.\n",
    "    \n",
    "4. Plot it and wait 0.2 seconds.\n"
   ]
  },
  {
   "cell_type": "code",
   "execution_count": null,
   "metadata": {},
   "outputs": [],
   "source": [
    "\n"
   ]
  }
 ],
 "metadata": {
  "kernelspec": {
   "display_name": "Python 3",
   "language": "python",
   "name": "python3"
  },
  "language_info": {
   "codemirror_mode": {
    "name": "ipython",
    "version": 3
   },
   "file_extension": ".py",
   "mimetype": "text/x-python",
   "name": "python",
   "nbconvert_exporter": "python",
   "pygments_lexer": "ipython3",
   "version": "3.7.4"
  }
 },
 "nbformat": 4,
 "nbformat_minor": 4
}

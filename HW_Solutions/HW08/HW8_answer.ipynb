{
 "cells": [
  {
   "cell_type": "markdown",
   "metadata": {},
   "source": [
    "### **Week 8, Homework**"
   ]
  },
  {
   "cell_type": "markdown",
   "metadata": {},
   "source": [
    "---"
   ]
  },
  {
   "cell_type": "markdown",
   "metadata": {},
   "source": [
    "#### Problem 1 solution"
   ]
  },
  {
   "cell_type": "code",
   "execution_count": null,
   "metadata": {},
   "outputs": [],
   "source": [
    "# Change the following function.\n",
    "\n",
    "# DO NOT CHANGE THE FUNCTION NAME AND ARGUMENTS!!!\n",
    "\n",
    "\n",
    "# Packages to import\n",
    "import numpy as np\n",
    "from scipy.integrate import solve_ivp\n",
    "\n",
    "def LV_model(t, z):\n",
    "    \n",
    "    x, y = z  # x: the biomass of the prey population; y: the biomass of the predator population\n",
    "    \n",
    "    a = 1.5\n",
    "    b = 1\n",
    "    c = 3\n",
    "    d = 1\n",
    "    \n",
    "    dxdt = a*x - b*x*y\n",
    "    dydt = -c*y + d*x*y\n",
    "        \n",
    "    return [dxdt, dydt]"
   ]
  },
  {
   "cell_type": "code",
   "execution_count": null,
   "metadata": {},
   "outputs": [],
   "source": [
    "# The following code is provided for your test.\n",
    "# You can modify it as you want, to test your function.\n",
    "\n",
    "tspan = np.linspace(0,20,1000)\n",
    "yinit = [5, 5]\n",
    "sol = solve_ivp(LV_model, (tspan[0], tspan[-1]), yinit, t_eval = tspan)\n",
    "\n",
    "print('Success?', sol.success)\n",
    "print(sol.status, ':', sol.message)\n",
    "\n",
    "\n",
    "# Plotting\n",
    "import matplotlib.pyplot as plt\n",
    "plt.figure(1, figsize=(12,4))\n",
    "\n",
    "plt.subplot(1,2,1)\n",
    "plt.plot(sol.t, sol.y[0])\n",
    "plt.plot(sol.t, sol.y[1],'r--')\n",
    "plt.legend(['prey', 'predator'], shadow=True)\n",
    "plt.xlabel('t')\n",
    "plt.title(\"Lotka-Volterra's predator-prey model\")\n",
    "plt.grid(color='g', linestyle=':', linewidth=0.5)\n",
    "\n",
    "plt.subplot(1,2,2)\n",
    "plt.plot(sol.y[0], sol.y[1], linewidth = 0.5)\n",
    "plt.xlabel('prey')\n",
    "plt.ylabel('predator')\n",
    "plt.title(\"Limite cycle of Lotka-Volterra's predator-prey model\")\n",
    "plt.grid(color='g', linestyle=':', linewidth=0.5)"
   ]
  },
  {
   "cell_type": "code",
   "execution_count": null,
   "metadata": {},
   "outputs": [],
   "source": []
  },
  {
   "cell_type": "markdown",
   "metadata": {},
   "source": [
    "---"
   ]
  },
  {
   "cell_type": "markdown",
   "metadata": {},
   "source": [
    "#### Problem 2 solution"
   ]
  },
  {
   "cell_type": "code",
   "execution_count": null,
   "metadata": {},
   "outputs": [],
   "source": [
    "# Change the following function.\n",
    "\n",
    "# DO NOT CHANGE THE FUNCTION NAME AND ARGUMENTS!!!\n",
    "\n",
    "\n",
    "import numpy as np\n",
    "from scipy.integrate import solve_ivp\n",
    "\n",
    "def Goodwin_oscillator(t, g):\n",
    "    x, y, z = g\n",
    "    \n",
    "    a = 360\n",
    "    k = 1.368\n",
    "    n = 12\n",
    "    b = 1\n",
    "    alpha = 1\n",
    "    beta = 0.6\n",
    "    gamma = 1\n",
    "    delta = 0.8\n",
    "    \n",
    "    dxdt = a/(k**n + z**n) - b*x\n",
    "    dydt = alpha*x - beta*y\n",
    "    dzdt = gamma*y - delta*z\n",
    "    \n",
    "    return np.array([dxdt, dydt, dzdt])"
   ]
  },
  {
   "cell_type": "code",
   "execution_count": null,
   "metadata": {},
   "outputs": [],
   "source": [
    "# The following code is provided for your test.\n",
    "# You can modify it as you want, to test your function.\n",
    "\n",
    "tspan = np.linspace(0,35,1000)\n",
    "yinit = [0,0,0]\n",
    "sol = solve_ivp(Goodwin_oscillator, (tspan[0], tspan[-1]), yinit, t_eval = tspan)\n",
    "\n",
    "print('Success?', sol.success)\n",
    "print(sol.status, ':', sol.message)\n",
    "\n",
    "\n",
    "# Plotting\n",
    "import matplotlib.pyplot as plt\n",
    "from mpl_toolkits.mplot3d import Axes3D\n",
    "\n",
    "fig = plt.figure(1, figsize=(15,4))\n",
    "\n",
    "plt.subplot(1,2,1)\n",
    "plt.plot(sol.t, sol.y[0])\n",
    "plt.plot(sol.t, sol.y[1],'r')\n",
    "plt.plot(sol.t, sol.y[2],'g')\n",
    "plt.legend(['X', 'Y', 'Z'], shadow=True)\n",
    "plt.xlabel('t')\n",
    "plt.title(\"Goodwin Oscillator\")\n",
    "plt.grid(color='g', linestyle=':', linewidth=0.5)\n",
    "\n",
    "ax = fig.add_subplot(122, projection='3d')\n",
    "ax.plot(sol.y[0], sol.y[1], sol.y[2], linewidth = 0.5)\n",
    "ax.set_xlabel('X')\n",
    "ax.set_ylabel('Y')\n",
    "ax.set_zlabel('Z')\n",
    "plt.title(\"Limite cycle of Goodwin oscillator\")\n"
   ]
  },
  {
   "cell_type": "code",
   "execution_count": null,
   "metadata": {},
   "outputs": [],
   "source": []
  },
  {
   "cell_type": "markdown",
   "metadata": {},
   "source": [
    "---"
   ]
  },
  {
   "cell_type": "markdown",
   "metadata": {},
   "source": [
    "#### Problem 3 solution"
   ]
  },
  {
   "cell_type": "code",
   "execution_count": null,
   "metadata": {},
   "outputs": [],
   "source": [
    "# Change the following function.\n",
    "\n",
    "# DO NOT CHANGE THE FUNCTION NAME AND ARGUMENTS!!!\n",
    "\n",
    "\n",
    "import numpy as np\n",
    "from scipy.integrate import solve_ivp\n",
    "\n",
    "def FN_model(t, x, a, b, tau, I):\n",
    "\n",
    "    v, w = x\n",
    "    \n",
    "    dvdt = v - v**3/3 - w + I\n",
    "    dwdt = (v + a -b*w)/tau\n",
    "    \n",
    "    \n",
    "    return np.array([dvdt, dwdt])"
   ]
  },
  {
   "cell_type": "code",
   "execution_count": null,
   "metadata": {},
   "outputs": [],
   "source": [
    "# The following code is provided for your test.\n",
    "# You can modify it as you want, to test your function.\n",
    "\n",
    "tspan = np.linspace(0,500,10000)\n",
    "yinit = [0,0]\n",
    "param1 = (0.7, 0.8, 12.5, 0.5)\n",
    "param2 = (0.3, 1.4, 20, 0.23)\n",
    "\n",
    "# Note that additional argument to the FN_model is assigned to \"args\".\n",
    "sol1 = solve_ivp(FN_model, (tspan[0], tspan[-1]), yinit, t_eval = tspan, args=param1)\n",
    "sol2 = solve_ivp(FN_model, (tspan[0], tspan[-1]), yinit, t_eval = tspan, args=param2)\n",
    "\n",
    "print('Param 1 success?', sol1.success)\n",
    "print(sol1.status, ':', sol1.message)\n",
    "print('Param 2 success?', sol2.success)\n",
    "print(sol2.status, ':', sol2.message)\n",
    "\n",
    "# Plotting\n",
    "import matplotlib.pyplot as plt\n",
    "\n",
    "fig = plt.figure(1, figsize=(12,4))\n",
    "\n",
    "sol = sol1\n",
    "plt.subplot(1,2,1)\n",
    "plt.plot(sol.t, sol.y[0])\n",
    "plt.plot(sol.t, sol.y[1],'r')\n",
    "plt.legend(['v', 'w'], shadow=True)\n",
    "plt.xlabel('t')\n",
    "plt.title(\"F-N model\")\n",
    "plt.grid(color='g', linestyle=':', linewidth=0.5)\n",
    "\n",
    "sol = sol2\n",
    "plt.subplot(1,2,2)\n",
    "plt.plot(sol.t, sol.y[0])\n",
    "plt.plot(sol.t, sol.y[1],'r')\n",
    "plt.legend(['v', 'w'], shadow=True)\n",
    "plt.xlabel('t')\n",
    "plt.title(\"F-N model\")\n",
    "plt.grid(color='g', linestyle=':', linewidth=0.5)\n"
   ]
  },
  {
   "cell_type": "code",
   "execution_count": null,
   "metadata": {},
   "outputs": [],
   "source": []
  }
 ],
 "metadata": {
  "kernelspec": {
   "display_name": "Python 3",
   "language": "python",
   "name": "python3"
  },
  "language_info": {
   "codemirror_mode": {
    "name": "ipython",
    "version": 3
   },
   "file_extension": ".py",
   "mimetype": "text/x-python",
   "name": "python",
   "nbconvert_exporter": "python",
   "pygments_lexer": "ipython3",
   "version": "3.7.4"
  }
 },
 "nbformat": 4,
 "nbformat_minor": 4
}

{
 "cells": [
  {
   "cell_type": "markdown",
   "metadata": {},
   "source": [
    "### **Week 9, Homework**"
   ]
  },
  {
   "cell_type": "markdown",
   "metadata": {},
   "source": [
    "---"
   ]
  },
  {
   "cell_type": "markdown",
   "metadata": {},
   "source": [
    "#### Problem 1 solution"
   ]
  },
  {
   "cell_type": "code",
   "execution_count": 1,
   "metadata": {},
   "outputs": [],
   "source": [
    "# Change the following function.\n",
    "\n",
    "# DO NOT CHANGE THE FUNCTION NAME AND ARGUMENTS!!!\n",
    "\n",
    "\n",
    "# Packages to import\n",
    "import numpy as np\n",
    "from scipy.integrate import solve_ivp\n",
    "\n",
    "def RingAttractorODEs_with_turning(t,f):\n",
    "    \n",
    "    v = 0.3 # some number between -0.3 and +0.3 works good\n",
    "    \n",
    "    tau = 0.05\n",
    "    alpha = 2.6183\n",
    "    beta = 1.9635\n",
    "    D = 5.1876\n",
    "    \n",
    "    tmp = alpha*f + D*(np.roll(f,-1)+np.roll(f,1)-2*f) - beta*sum(f)  + 1  -v*(np.roll(f,-1)-np.roll(f,1))/2\n",
    "    tmp[tmp<0] = 0\n",
    "    \n",
    "    dfdt = (  -f + tmp )/tau\n",
    "    \n",
    "    return dfdt"
   ]
  },
  {
   "cell_type": "code",
   "execution_count": 2,
   "metadata": {},
   "outputs": [
    {
     "data": {
      "text/plain": [
       "<matplotlib.image.AxesImage at 0x7fad04944750>"
      ]
     },
     "execution_count": 2,
     "metadata": {},
     "output_type": "execute_result"
    },
    {
     "data": {
      "image/png": "[encoded data removed]",
      "text/plain": [
       "<Figure size 864x720 with 1 Axes>"
      ]
     },
     "metadata": {
      "needs_background": "light"
     },
     "output_type": "display_data"
    }
   ],
   "source": [
    "# The following code is provided for your test.\n",
    "# You can modify it as you want, to test your function.\n",
    "\n",
    "tspan = np.linspace(0, 5, 500)\n",
    "f_init = np.random.random(size=(32,))*0.05\n",
    "\n",
    "sol = solve_ivp(RingAttractorODEs_with_turning,\n",
    "                [tspan[0], tspan[-1]], f_init, t_eval=tspan)\n",
    "\n",
    "import matplotlib.pyplot as plt\n",
    "plt.figure(1, figsize=(12,10))\n",
    "plt.imshow(sol.y, extent=[0,tspan[-1],32.5,0.5], aspect=tspan[-1]/32/8)"
   ]
  },
  {
   "cell_type": "code",
   "execution_count": null,
   "metadata": {},
   "outputs": [],
   "source": []
  },
  {
   "cell_type": "markdown",
   "metadata": {},
   "source": [
    "---"
   ]
  },
  {
   "cell_type": "markdown",
   "metadata": {},
   "source": [
    "#### Problem 2 solution"
   ]
  },
  {
   "cell_type": "code",
   "execution_count": 3,
   "metadata": {},
   "outputs": [],
   "source": [
    "# Change the following function.\n",
    "\n",
    "# DO NOT CHANGE THE FUNCTION NAME AND ARGUMENTS!!!\n",
    "\n",
    "import numpy as np\n",
    "import pandas as pd\n",
    "\n",
    "def shrub_carbon(shrub):\n",
    "    \n",
    "    # Write code to add a new column, 'volume', to the dataframe 'shrub'\n",
    "    shrub['volume'] = shrub.length * shrub.width * shrub.height\n",
    "\n",
    "    \n",
    "    # Write code to add a new column, 'shrub', to the dataframe 'shrub'\n",
    "    # You need to use a numpy function 'log'\n",
    "    shrub['total carbon'] = 1.8 + 2 * np.log(shrub.volume)"
   ]
  },
  {
   "cell_type": "code",
   "execution_count": 4,
   "metadata": {},
   "outputs": [
    {
     "data": {
      "text/html": [
       "<div>\n",
       "<style scoped>\n",
       "    .dataframe tbody tr th:only-of-type {\n",
       "        vertical-align: middle;\n",
       "    }\n",
       "\n",
       "    .dataframe tbody tr th {\n",
       "        vertical-align: top;\n",
       "    }\n",
       "\n",
       "    .dataframe thead th {\n",
       "        text-align: right;\n",
       "    }\n",
       "</style>\n",
       "<table border=\"1\" class=\"dataframe\">\n",
       "  <thead>\n",
       "    <tr style=\"text-align: right;\">\n",
       "      <th></th>\n",
       "      <th>site</th>\n",
       "      <th>experiment</th>\n",
       "      <th>length</th>\n",
       "      <th>width</th>\n",
       "      <th>height</th>\n",
       "      <th>volume</th>\n",
       "      <th>total carbon</th>\n",
       "    </tr>\n",
       "  </thead>\n",
       "  <tbody>\n",
       "    <tr>\n",
       "      <th>0</th>\n",
       "      <td>1</td>\n",
       "      <td>1</td>\n",
       "      <td>2.2</td>\n",
       "      <td>1.3</td>\n",
       "      <td>9.6</td>\n",
       "      <td>27.456</td>\n",
       "      <td>8.425169</td>\n",
       "    </tr>\n",
       "    <tr>\n",
       "      <th>1</th>\n",
       "      <td>1</td>\n",
       "      <td>2</td>\n",
       "      <td>2.1</td>\n",
       "      <td>2.2</td>\n",
       "      <td>7.6</td>\n",
       "      <td>35.112</td>\n",
       "      <td>8.917086</td>\n",
       "    </tr>\n",
       "    <tr>\n",
       "      <th>2</th>\n",
       "      <td>1</td>\n",
       "      <td>3</td>\n",
       "      <td>2.7</td>\n",
       "      <td>1.5</td>\n",
       "      <td>2.2</td>\n",
       "      <td>8.910</td>\n",
       "      <td>6.174348</td>\n",
       "    </tr>\n",
       "    <tr>\n",
       "      <th>3</th>\n",
       "      <td>2</td>\n",
       "      <td>1</td>\n",
       "      <td>3.0</td>\n",
       "      <td>4.5</td>\n",
       "      <td>1.5</td>\n",
       "      <td>20.250</td>\n",
       "      <td>7.816310</td>\n",
       "    </tr>\n",
       "    <tr>\n",
       "      <th>4</th>\n",
       "      <td>2</td>\n",
       "      <td>2</td>\n",
       "      <td>3.1</td>\n",
       "      <td>3.1</td>\n",
       "      <td>4.0</td>\n",
       "      <td>38.440</td>\n",
       "      <td>9.098197</td>\n",
       "    </tr>\n",
       "    <tr>\n",
       "      <th>5</th>\n",
       "      <td>2</td>\n",
       "      <td>3</td>\n",
       "      <td>2.5</td>\n",
       "      <td>2.8</td>\n",
       "      <td>3.0</td>\n",
       "      <td>21.000</td>\n",
       "      <td>7.889045</td>\n",
       "    </tr>\n",
       "    <tr>\n",
       "      <th>6</th>\n",
       "      <td>3</td>\n",
       "      <td>1</td>\n",
       "      <td>1.9</td>\n",
       "      <td>1.8</td>\n",
       "      <td>4.5</td>\n",
       "      <td>15.390</td>\n",
       "      <td>7.267436</td>\n",
       "    </tr>\n",
       "    <tr>\n",
       "      <th>7</th>\n",
       "      <td>3</td>\n",
       "      <td>2</td>\n",
       "      <td>1.1</td>\n",
       "      <td>0.5</td>\n",
       "      <td>2.3</td>\n",
       "      <td>1.265</td>\n",
       "      <td>2.270144</td>\n",
       "    </tr>\n",
       "    <tr>\n",
       "      <th>8</th>\n",
       "      <td>3</td>\n",
       "      <td>3</td>\n",
       "      <td>3.5</td>\n",
       "      <td>2.0</td>\n",
       "      <td>7.5</td>\n",
       "      <td>52.500</td>\n",
       "      <td>9.721626</td>\n",
       "    </tr>\n",
       "    <tr>\n",
       "      <th>9</th>\n",
       "      <td>4</td>\n",
       "      <td>1</td>\n",
       "      <td>2.9</td>\n",
       "      <td>2.7</td>\n",
       "      <td>3.2</td>\n",
       "      <td>25.056</td>\n",
       "      <td>8.242227</td>\n",
       "    </tr>\n",
       "    <tr>\n",
       "      <th>10</th>\n",
       "      <td>4</td>\n",
       "      <td>2</td>\n",
       "      <td>4.5</td>\n",
       "      <td>4.8</td>\n",
       "      <td>6.5</td>\n",
       "      <td>140.400</td>\n",
       "      <td>11.688991</td>\n",
       "    </tr>\n",
       "    <tr>\n",
       "      <th>11</th>\n",
       "      <td>4</td>\n",
       "      <td>3</td>\n",
       "      <td>1.2</td>\n",
       "      <td>1.8</td>\n",
       "      <td>2.7</td>\n",
       "      <td>5.832</td>\n",
       "      <td>5.326720</td>\n",
       "    </tr>\n",
       "  </tbody>\n",
       "</table>\n",
       "</div>"
      ],
      "text/plain": [
       "    site  experiment  length  width  height   volume  total carbon\n",
       "0      1           1     2.2    1.3     9.6   27.456      8.425169\n",
       "1      1           2     2.1    2.2     7.6   35.112      8.917086\n",
       "2      1           3     2.7    1.5     2.2    8.910      6.174348\n",
       "3      2           1     3.0    4.5     1.5   20.250      7.816310\n",
       "4      2           2     3.1    3.1     4.0   38.440      9.098197\n",
       "5      2           3     2.5    2.8     3.0   21.000      7.889045\n",
       "6      3           1     1.9    1.8     4.5   15.390      7.267436\n",
       "7      3           2     1.1    0.5     2.3    1.265      2.270144\n",
       "8      3           3     3.5    2.0     7.5   52.500      9.721626\n",
       "9      4           1     2.9    2.7     3.2   25.056      8.242227\n",
       "10     4           2     4.5    4.8     6.5  140.400     11.688991\n",
       "11     4           3     1.2    1.8     2.7    5.832      5.326720"
      ]
     },
     "execution_count": 4,
     "metadata": {},
     "output_type": "execute_result"
    }
   ],
   "source": [
    "# The following code is provided for your test.\n",
    "# You can modify it as you want, to test your function.\n",
    "\n",
    "shrub = pd.read_csv('shrub-volume-data.csv')\n",
    "shrub_carbon(shrub)\n",
    "shrub"
   ]
  },
  {
   "cell_type": "code",
   "execution_count": null,
   "metadata": {},
   "outputs": [],
   "source": []
  },
  {
   "cell_type": "markdown",
   "metadata": {},
   "source": [
    "---"
   ]
  },
  {
   "cell_type": "markdown",
   "metadata": {},
   "source": [
    "#### Problem 3 solution"
   ]
  },
  {
   "cell_type": "code",
   "execution_count": 5,
   "metadata": {},
   "outputs": [
    {
     "name": "stdout",
     "output_type": "stream",
     "text": [
      "WARNING: pip is being invoked by an old script wrapper. This will fail in a future version of pip.\n",
      "Please see https://github.com/pypa/pip/issues/5599 for advice on fixing the underlying issue.\n",
      "To avoid this problem you can invoke Python with '-m pip' instead of running pip directly.\n",
      "Requirement already up-to-date: pandas in /opt/conda/lib/python3.7/site-packages (1.3.5)\n",
      "Requirement already satisfied, skipping upgrade: python-dateutil>=2.7.3 in /opt/conda/lib/python3.7/site-packages (from pandas) (2.8.1)\n",
      "Requirement already satisfied, skipping upgrade: pytz>=2017.3 in /opt/conda/lib/python3.7/site-packages (from pandas) (2019.3)\n",
      "Requirement already satisfied, skipping upgrade: numpy>=1.17.3; platform_machine != \"aarch64\" and platform_machine != \"arm64\" and python_version < \"3.10\" in /opt/conda/lib/python3.7/site-packages (from pandas) (1.21.4)\n",
      "Requirement already satisfied, skipping upgrade: six>=1.5 in /opt/conda/lib/python3.7/site-packages (from python-dateutil>=2.7.3->pandas) (1.14.0)\n"
     ]
    }
   ],
   "source": [
    "# If you encounter errors with 'describe()' function, run the following code.\n",
    "# Then you MUST restart the kernal.\n",
    "!pip install pandas --upgrade\n",
    "\n",
    "# Also, whenever you restart the server you need to run the above code."
   ]
  },
  {
   "cell_type": "code",
   "execution_count": 6,
   "metadata": {},
   "outputs": [],
   "source": [
    "# Change the following function.\n",
    "\n",
    "# DO NOT CHANGE THE FUNCTION NAME AND ARGUMENTS!!!\n",
    "\n",
    "import numpy as np\n",
    "import pandas as pd\n",
    "\n",
    "def shrub_class(shrub):\n",
    "    \n",
    "    # You don't have to follow the suggestions below. This is one way of solving the problem.\n",
    "    # Make a new column 'class' and fill it with np.nan\n",
    "    shrub['class'] = np.nan\n",
    "    \n",
    "    # Fill the column with 'tall', 'medium', and 'short'. Use conditional indexing\n",
    "    shrub.loc[  shrub.height>=5                          , 'class' ] = 'tall'\n",
    "    shrub.loc[  (shrub.height<5) & (shrub.height>=2)     , 'class' ] = 'medium'\n",
    "    shrub.loc[  shrub.height<2                           , 'class' ] = 'short'\n",
    "    \n",
    "    # Use 'describe()' function. But select only 'total carbon' for print.\n",
    "    tmp = shrub.loc[:,['total carbon','class']].groupby('class').describe()\n",
    "    print(tmp)\n"
   ]
  },
  {
   "cell_type": "code",
   "execution_count": 7,
   "metadata": {},
   "outputs": [
    {
     "name": "stdout",
     "output_type": "stream",
     "text": [
      "       total carbon                                                    \\\n",
      "              count      mean       std       min       25%       50%   \n",
      "class                                                                   \n",
      "medium          7.0  6.609731  2.294719  2.270144  5.750534  7.267436   \n",
      "short           1.0  7.816310       NaN  7.816310  7.816310  7.816310   \n",
      "tall            4.0  9.688218  1.436912  8.425169  8.794107  9.319356   \n",
      "\n",
      "                              \n",
      "              75%        max  \n",
      "class                         \n",
      "medium   8.065636   9.098197  \n",
      "short    7.816310   7.816310  \n",
      "tall    10.213468  11.688991  \n"
     ]
    },
    {
     "data": {
      "text/html": [
       "<div>\n",
       "<style scoped>\n",
       "    .dataframe tbody tr th:only-of-type {\n",
       "        vertical-align: middle;\n",
       "    }\n",
       "\n",
       "    .dataframe tbody tr th {\n",
       "        vertical-align: top;\n",
       "    }\n",
       "\n",
       "    .dataframe thead th {\n",
       "        text-align: right;\n",
       "    }\n",
       "</style>\n",
       "<table border=\"1\" class=\"dataframe\">\n",
       "  <thead>\n",
       "    <tr style=\"text-align: right;\">\n",
       "      <th></th>\n",
       "      <th>site</th>\n",
       "      <th>experiment</th>\n",
       "      <th>length</th>\n",
       "      <th>width</th>\n",
       "      <th>height</th>\n",
       "      <th>volume</th>\n",
       "      <th>total carbon</th>\n",
       "      <th>class</th>\n",
       "    </tr>\n",
       "  </thead>\n",
       "  <tbody>\n",
       "    <tr>\n",
       "      <th>0</th>\n",
       "      <td>1</td>\n",
       "      <td>1</td>\n",
       "      <td>2.2</td>\n",
       "      <td>1.3</td>\n",
       "      <td>9.6</td>\n",
       "      <td>27.456</td>\n",
       "      <td>8.425169</td>\n",
       "      <td>tall</td>\n",
       "    </tr>\n",
       "    <tr>\n",
       "      <th>1</th>\n",
       "      <td>1</td>\n",
       "      <td>2</td>\n",
       "      <td>2.1</td>\n",
       "      <td>2.2</td>\n",
       "      <td>7.6</td>\n",
       "      <td>35.112</td>\n",
       "      <td>8.917086</td>\n",
       "      <td>tall</td>\n",
       "    </tr>\n",
       "    <tr>\n",
       "      <th>2</th>\n",
       "      <td>1</td>\n",
       "      <td>3</td>\n",
       "      <td>2.7</td>\n",
       "      <td>1.5</td>\n",
       "      <td>2.2</td>\n",
       "      <td>8.910</td>\n",
       "      <td>6.174348</td>\n",
       "      <td>medium</td>\n",
       "    </tr>\n",
       "    <tr>\n",
       "      <th>3</th>\n",
       "      <td>2</td>\n",
       "      <td>1</td>\n",
       "      <td>3.0</td>\n",
       "      <td>4.5</td>\n",
       "      <td>1.5</td>\n",
       "      <td>20.250</td>\n",
       "      <td>7.816310</td>\n",
       "      <td>short</td>\n",
       "    </tr>\n",
       "    <tr>\n",
       "      <th>4</th>\n",
       "      <td>2</td>\n",
       "      <td>2</td>\n",
       "      <td>3.1</td>\n",
       "      <td>3.1</td>\n",
       "      <td>4.0</td>\n",
       "      <td>38.440</td>\n",
       "      <td>9.098197</td>\n",
       "      <td>medium</td>\n",
       "    </tr>\n",
       "    <tr>\n",
       "      <th>5</th>\n",
       "      <td>2</td>\n",
       "      <td>3</td>\n",
       "      <td>2.5</td>\n",
       "      <td>2.8</td>\n",
       "      <td>3.0</td>\n",
       "      <td>21.000</td>\n",
       "      <td>7.889045</td>\n",
       "      <td>medium</td>\n",
       "    </tr>\n",
       "    <tr>\n",
       "      <th>6</th>\n",
       "      <td>3</td>\n",
       "      <td>1</td>\n",
       "      <td>1.9</td>\n",
       "      <td>1.8</td>\n",
       "      <td>4.5</td>\n",
       "      <td>15.390</td>\n",
       "      <td>7.267436</td>\n",
       "      <td>medium</td>\n",
       "    </tr>\n",
       "    <tr>\n",
       "      <th>7</th>\n",
       "      <td>3</td>\n",
       "      <td>2</td>\n",
       "      <td>1.1</td>\n",
       "      <td>0.5</td>\n",
       "      <td>2.3</td>\n",
       "      <td>1.265</td>\n",
       "      <td>2.270144</td>\n",
       "      <td>medium</td>\n",
       "    </tr>\n",
       "    <tr>\n",
       "      <th>8</th>\n",
       "      <td>3</td>\n",
       "      <td>3</td>\n",
       "      <td>3.5</td>\n",
       "      <td>2.0</td>\n",
       "      <td>7.5</td>\n",
       "      <td>52.500</td>\n",
       "      <td>9.721626</td>\n",
       "      <td>tall</td>\n",
       "    </tr>\n",
       "    <tr>\n",
       "      <th>9</th>\n",
       "      <td>4</td>\n",
       "      <td>1</td>\n",
       "      <td>2.9</td>\n",
       "      <td>2.7</td>\n",
       "      <td>3.2</td>\n",
       "      <td>25.056</td>\n",
       "      <td>8.242227</td>\n",
       "      <td>medium</td>\n",
       "    </tr>\n",
       "    <tr>\n",
       "      <th>10</th>\n",
       "      <td>4</td>\n",
       "      <td>2</td>\n",
       "      <td>4.5</td>\n",
       "      <td>4.8</td>\n",
       "      <td>6.5</td>\n",
       "      <td>140.400</td>\n",
       "      <td>11.688991</td>\n",
       "      <td>tall</td>\n",
       "    </tr>\n",
       "    <tr>\n",
       "      <th>11</th>\n",
       "      <td>4</td>\n",
       "      <td>3</td>\n",
       "      <td>1.2</td>\n",
       "      <td>1.8</td>\n",
       "      <td>2.7</td>\n",
       "      <td>5.832</td>\n",
       "      <td>5.326720</td>\n",
       "      <td>medium</td>\n",
       "    </tr>\n",
       "  </tbody>\n",
       "</table>\n",
       "</div>"
      ],
      "text/plain": [
       "    site  experiment  length  width  height   volume  total carbon   class\n",
       "0      1           1     2.2    1.3     9.6   27.456      8.425169    tall\n",
       "1      1           2     2.1    2.2     7.6   35.112      8.917086    tall\n",
       "2      1           3     2.7    1.5     2.2    8.910      6.174348  medium\n",
       "3      2           1     3.0    4.5     1.5   20.250      7.816310   short\n",
       "4      2           2     3.1    3.1     4.0   38.440      9.098197  medium\n",
       "5      2           3     2.5    2.8     3.0   21.000      7.889045  medium\n",
       "6      3           1     1.9    1.8     4.5   15.390      7.267436  medium\n",
       "7      3           2     1.1    0.5     2.3    1.265      2.270144  medium\n",
       "8      3           3     3.5    2.0     7.5   52.500      9.721626    tall\n",
       "9      4           1     2.9    2.7     3.2   25.056      8.242227  medium\n",
       "10     4           2     4.5    4.8     6.5  140.400     11.688991    tall\n",
       "11     4           3     1.2    1.8     2.7    5.832      5.326720  medium"
      ]
     },
     "execution_count": 7,
     "metadata": {},
     "output_type": "execute_result"
    }
   ],
   "source": [
    "# The following code is provided for your test.\n",
    "# You can modify it as you want, to test your function.\n",
    "\n",
    "shrub = pd.read_csv('shrub-volume-data.csv')\n",
    "shrub_carbon(shrub)\n",
    "shrub_class(shrub)\n",
    "shrub"
   ]
  },
  {
   "cell_type": "code",
   "execution_count": null,
   "metadata": {},
   "outputs": [],
   "source": []
  },
  {
   "cell_type": "markdown",
   "metadata": {},
   "source": [
    "---"
   ]
  },
  {
   "cell_type": "markdown",
   "metadata": {},
   "source": [
    "#### Problem 4 solution"
   ]
  },
  {
   "cell_type": "code",
   "execution_count": 8,
   "metadata": {},
   "outputs": [],
   "source": [
    "# Change the following function.\n",
    "\n",
    "# DO NOT CHANGE THE FUNCTION NAME AND ARGUMENTS!!!\n",
    "\n",
    "import numpy as np\n",
    "import pandas as pd\n",
    "\n",
    "def shrub_plot_scatter(shrub):\n",
    "    \n",
    "    # Copy the 'class' column to a variable 'color'\n",
    "    color = shrub.loc[:,'class']\n",
    "    \n",
    "    # Replace 'tall', 'medium', and 'short' in 'color' to 'red', 'blue', and 'cyan'\n",
    "    # Hint: You may want to use 'replace' function we used in the Breast Cancer data.\n",
    "    color = color.replace(to_replace=['tall','medium','short'], value=['red', 'blue', 'cyan'])\n",
    "\n",
    "    # Plot a scatter plot (You don't have to set the 's' argument. But you should set 'c' argument.)\n",
    "    shrub.plot.scatter(x='length',y='total carbon',c=color)"
   ]
  },
  {
   "cell_type": "code",
   "execution_count": 9,
   "metadata": {},
   "outputs": [
    {
     "name": "stdout",
     "output_type": "stream",
     "text": [
      "       total carbon                                                    \\\n",
      "              count      mean       std       min       25%       50%   \n",
      "class                                                                   \n",
      "medium          7.0  6.609731  2.294719  2.270144  5.750534  7.267436   \n",
      "short           1.0  7.816310       NaN  7.816310  7.816310  7.816310   \n",
      "tall            4.0  9.688218  1.436912  8.425169  8.794107  9.319356   \n",
      "\n",
      "                              \n",
      "              75%        max  \n",
      "class                         \n",
      "medium   8.065636   9.098197  \n",
      "short    7.816310   7.816310  \n",
      "tall    10.213468  11.688991  \n"
     ]
    },
    {
     "data": {
      "image/png": "[encoded data removed]",
      "text/plain": [
       "<Figure size 432x288 with 1 Axes>"
      ]
     },
     "metadata": {
      "needs_background": "light"
     },
     "output_type": "display_data"
    }
   ],
   "source": [
    "# The following code is provided for your test.\n",
    "# You can modify it as you want, to test your function.\n",
    "\n",
    "shrub = pd.read_csv('shrub-volume-data.csv')\n",
    "shrub_carbon(shrub)\n",
    "shrub_class(shrub)\n",
    "shrub_plot_scatter(shrub)"
   ]
  },
  {
   "cell_type": "code",
   "execution_count": null,
   "metadata": {},
   "outputs": [],
   "source": []
  }
 ],
 "metadata": {
  "kernelspec": {
   "display_name": "Python 3",
   "language": "python",
   "name": "python3"
  },
  "language_info": {
   "codemirror_mode": {
    "name": "ipython",
    "version": 3
   },
   "file_extension": ".py",
   "mimetype": "text/x-python",
   "name": "python",
   "nbconvert_exporter": "python",
   "pygments_lexer": "ipython3",
   "version": "3.7.4"
  }
 },
 "nbformat": 4,
 "nbformat_minor": 4
}

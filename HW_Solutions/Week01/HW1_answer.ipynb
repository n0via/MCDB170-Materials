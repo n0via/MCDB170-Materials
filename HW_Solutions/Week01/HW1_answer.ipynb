{
 "cells": [
  {
   "cell_type": "markdown",
   "metadata": {},
   "source": [
    "#### Dice() function"
   ]
  },
  {
   "cell_type": "code",
   "execution_count": 1,
   "metadata": {},
   "outputs": [],
   "source": [
    "from random import seed\n",
    "from random import random\n",
    "from time import time\n",
    "from math import ceil\n",
    "seed(time())\n",
    "def dice():\n",
    "    a = ceil(random()*4)\n",
    "    if a>0:\n",
    "        return a\n",
    "    else:\n",
    "        return dice()"
   ]
  },
  {
   "cell_type": "markdown",
   "metadata": {},
   "source": [
    "#### Problem 1 solution"
   ]
  },
  {
   "cell_type": "code",
   "execution_count": 2,
   "metadata": {},
   "outputs": [
    {
     "name": "stdout",
     "output_type": "stream",
     "text": [
      "3\n",
      "2\n",
      "2\n",
      "1\n",
      "2\n",
      "4\n",
      "1\n",
      "3\n",
      "2\n",
      "3\n",
      "2\n",
      "4\n",
      "3\n",
      "2\n",
      "2\n",
      "3\n",
      "4\n",
      "3\n",
      "1\n",
      "2\n",
      "2\n",
      "3\n",
      "3\n",
      "3\n",
      "2\n",
      "2\n",
      "4\n",
      "1\n",
      "4\n",
      "2\n",
      "4\n",
      "4\n",
      "4\n",
      "4\n",
      "1\n",
      "2\n",
      "3\n",
      "3\n",
      "3\n",
      "2\n",
      "3\n",
      "1\n",
      "2\n",
      "4\n",
      "2\n",
      "1\n",
      "2\n",
      "1\n",
      "2\n",
      "3\n",
      "3\n",
      "4\n",
      "2\n",
      "4\n",
      "3\n",
      "4\n",
      "2\n",
      "2\n",
      "3\n",
      "3\n",
      "1\n",
      "2\n",
      "1\n",
      "2\n",
      "2\n",
      "4\n",
      "4\n",
      "2\n",
      "2\n",
      "2\n",
      "2\n",
      "3\n",
      "1\n",
      "3\n",
      "3\n",
      "3\n",
      "2\n",
      "2\n",
      "3\n",
      "1\n",
      "3\n",
      "3\n",
      "2\n",
      "3\n",
      "1\n",
      "1\n",
      "4\n",
      "4\n",
      "3\n",
      "1\n",
      "1\n",
      "3\n",
      "4\n",
      "1\n",
      "3\n",
      "4\n",
      "3\n",
      "3\n",
      "4\n",
      "4\n"
     ]
    }
   ],
   "source": [
    "for x in range(100):\n",
    "    print(dice())"
   ]
  },
  {
   "cell_type": "markdown",
   "metadata": {},
   "source": [
    "#### Problem 2 solution"
   ]
  },
  {
   "cell_type": "code",
   "execution_count": 3,
   "metadata": {},
   "outputs": [
    {
     "name": "stdout",
     "output_type": "stream",
     "text": [
      "Number 1 occurred 28 times\n",
      "Number 2 occurred 20 times\n",
      "Number 3 occurred 22 times\n",
      "Number 4 occurred 30 times\n"
     ]
    }
   ],
   "source": [
    "n1 = 0\n",
    "n2 = 0\n",
    "n3 = 0\n",
    "n4 = 0\n",
    "\n",
    "for x in range(100):\n",
    "    a = dice()\n",
    "    if a == 1:\n",
    "        n1 += 1\n",
    "    elif a == 2:\n",
    "        n2 += 1\n",
    "    elif a == 3:\n",
    "        n3 += 1\n",
    "    else:\n",
    "        n4 += 1\n",
    "        \n",
    "print('Number 1 occurred', n1, 'times')\n",
    "print('Number 2 occurred', n2, 'times')\n",
    "print('Number 3 occurred', n3, 'times')\n",
    "print('Number 4 occurred', n4, 'times')"
   ]
  },
  {
   "cell_type": "markdown",
   "metadata": {},
   "source": [
    "#### Problem 3 solution"
   ]
  },
  {
   "cell_type": "code",
   "execution_count": 4,
   "metadata": {},
   "outputs": [
    {
     "name": "stdout",
     "output_type": "stream",
     "text": [
      "1 A\n"
     ]
    }
   ],
   "source": [
    "a = dice()\n",
    "if a == 1:\n",
    "    print(a, 'A')\n",
    "elif a == 2:\n",
    "    print(a, 'T')\n",
    "elif a == 3:\n",
    "    print(a, 'C')\n",
    "else:\n",
    "    print(a, 'G')"
   ]
  },
  {
   "cell_type": "markdown",
   "metadata": {},
   "source": [
    "#### Problem 4 solution"
   ]
  },
  {
   "cell_type": "code",
   "execution_count": 5,
   "metadata": {},
   "outputs": [
    {
     "name": "stdout",
     "output_type": "stream",
     "text": [
      "TAGGTCTGAGCACCAACAGGATCGAGCACTTGGTTGGCGTGGTTACGTGAAAAAAAGAGACCTTCTCCCTATTCCTTAATATGTGTGATGCATGGGTCAGGCGATGCCCCGTCTAGATTTTCAGCCCCTTCAGGCCATAAGTTGTTCATGACATGGCCAAAAAGACAATCTCCAGTATTCGGTTTACCTGCCTCGGAACCAGCGAACAAGAGGAAGACGGGTCACGGACCAAATAGTCCAGTTAGACCAACCTAAGGTACATCATCCTGTGTGTTGGTGCGACGCCCACTTCGCGACCGAGCGTTTGAGTAGAACCTGCGGCTCCACCCGCCCGTGGCTGGATACCAACTGCATCAAAAACGGACAGCAGAGTGTGAAGCGCTGTCGGGACTTAGTTCGATGCACATTTAAGCGCTTTTATGCGACGATACTAAACATCTAGCATCTGGATTTCCTGCACAAGTTAACCAGCAAACAACTCCGAAAGAATTGCGCGGACC\n"
     ]
    }
   ],
   "source": [
    "seq = ''\n",
    "for x in range(500):\n",
    "    a = dice()\n",
    "    if a == 1:\n",
    "        seq += 'A'\n",
    "    elif a == 2:\n",
    "        seq += 'T'\n",
    "    elif a == 3:\n",
    "        seq += 'C'\n",
    "    else:\n",
    "        seq += 'G'\n",
    "        \n",
    "print(seq)"
   ]
  },
  {
   "cell_type": "markdown",
   "metadata": {},
   "source": [
    "#### Problem 5 solution"
   ]
  },
  {
   "cell_type": "code",
   "execution_count": 6,
   "metadata": {},
   "outputs": [
    {
     "name": "stdout",
     "output_type": "stream",
     "text": [
      "6\n"
     ]
    }
   ],
   "source": [
    "count_ACT = 0;\n",
    "for x in range(498):\n",
    "    s = seq[x:(x+3)]\n",
    "    if s == 'ACT':\n",
    "        count_ACT += 1\n",
    "\n",
    "print(count_ACT)"
   ]
  },
  {
   "cell_type": "markdown",
   "metadata": {},
   "source": [
    "#### Problem 6 solution"
   ]
  },
  {
   "cell_type": "code",
   "execution_count": 7,
   "metadata": {},
   "outputs": [
    {
     "name": "stdout",
     "output_type": "stream",
     "text": [
      "128\n"
     ]
    }
   ],
   "source": [
    "seq = ''\n",
    "for x in range(500):\n",
    "    a = dice()\n",
    "    if a == 1:\n",
    "        seq += 'A'\n",
    "    elif a == 2:\n",
    "        seq += 'T'\n",
    "    elif a == 3:\n",
    "        seq += 'C'\n",
    "    else:\n",
    "        seq += 'G'\n",
    "\n",
    "seq1 = seq;\n",
    "\n",
    "seq = ''\n",
    "for x in range(500):\n",
    "    a = dice()\n",
    "    if a == 1:\n",
    "        seq += 'A'\n",
    "    elif a == 2:\n",
    "        seq += 'T'\n",
    "    elif a == 3:\n",
    "        seq += 'C'\n",
    "    else:\n",
    "        seq += 'G'\n",
    "        \n",
    "seq2 = seq;\n",
    "\n",
    "count_same_pos = 0\n",
    "\n",
    "for ind in range(500):\n",
    "    if seq1[ind] == seq2[ind]:\n",
    "        count_same_pos += 1\n",
    "\n",
    "print(count_same_pos)"
   ]
  },
  {
   "cell_type": "code",
   "execution_count": null,
   "metadata": {},
   "outputs": [],
   "source": []
  }
 ],
 "metadata": {
  "kernelspec": {
   "display_name": "Python 3",
   "language": "python",
   "name": "python3"
  },
  "language_info": {
   "codemirror_mode": {
    "name": "ipython",
    "version": 3
   },
   "file_extension": ".py",
   "mimetype": "text/x-python",
   "name": "python",
   "nbconvert_exporter": "python",
   "pygments_lexer": "ipython3",
   "version": "3.7.4"
  }
 },
 "nbformat": 4,
 "nbformat_minor": 4
}

{
 "cells": [
  {
   "cell_type": "code",
   "execution_count": null,
   "metadata": {},
   "outputs": [],
   "source": [
    "# Here is a skeleton code in which you will need to fill the missing parts.\n",
    "\n",
    "def towerOfHanoi(disks, n_disks_to_move, from_peg, to_peg, aux_peg):\n",
    "    \n",
    "    # In recursive algorithm, we can't keep call itslef forever. We need to\n",
    "    # stop at some point.  In towerOfHanoi, it is when we only need to move\n",
    "    # only one disk.  That is, you simply move the disk and do not call the function\n",
    "    # again.\n",
    "    \n",
    "    if n_disks_to_move == 1:\n",
    "        # If you have solved problem 2, you may use it here instead.\n",
    "        # Check if the move is legit. If legit, print `disks`, then move.\n",
    "        if # check if the move if legit\n",
    "            # 1. print disks\n",
    "            # 2. print how a disk would move\n",
    "            # 3. move (see Problem 1)\n",
    "        else\n",
    "            # print error\n",
    "    \n",
    "    \n",
    "    # If we need to move more than 1 disk, we continue the recursive algorithm.\n",
    "    # In the Youtube video above, pay attention to the image at 2:00 minute mark.\n",
    "    # The image at 2:00 has the answer to this question. (Watch 1:20 - 2:00 for \n",
    "    # more details.)\n",
    "    # Below, the skeleton is provided.\n",
    "    else:\n",
    "        towerOfHanoi(disks, n_disks_to_move-1, from_peg, aux_peg, to_peg)\n",
    "        towerOfHanoi(disks, ???, ???, ???, ???)\n",
    "        towerOfHanoi(disks, ???, ???, ???, ???)\n",
    "    "
   ]
  }
 ],
 "metadata": {
  "kernelspec": {
   "display_name": "Python 3",
   "language": "python",
   "name": "python3"
  },
  "language_info": {
   "codemirror_mode": {
    "name": "ipython",
    "version": 3
   },
   "file_extension": ".py",
   "mimetype": "text/x-python",
   "name": "python",
   "nbconvert_exporter": "python",
   "pygments_lexer": "ipython3",
   "version": "3.7.4"
  }
 },
 "nbformat": 4,
 "nbformat_minor": 4
}

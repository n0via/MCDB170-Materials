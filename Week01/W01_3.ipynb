{
 "cells": [
  {
   "cell_type": "markdown",
   "metadata": {},
   "source": [
    "### Week 1, class 3\n",
    "# *Conditionals, Loops*\n",
    "\n",
    "---\n"
   ]
  },
  {
   "cell_type": "markdown",
   "metadata": {},
   "source": [
    "#### **Boolean expressions**\n",
    "\n",
    "Any expressions that return True or False are Boolean expressions."
   ]
  },
  {
   "cell_type": "code",
   "execution_count": null,
   "metadata": {},
   "outputs": [],
   "source": [
    "c = 1+5j\n",
    "d = 1-5j\n",
    "c.real == d.real"
   ]
  },
  {
   "cell_type": "code",
   "execution_count": null,
   "metadata": {},
   "outputs": [],
   "source": [
    "c.imag == d.imag"
   ]
  },
  {
   "cell_type": "code",
   "execution_count": null,
   "metadata": {},
   "outputs": [],
   "source": [
    "c = 1+3j\n",
    "isinstance(c, complex)"
   ]
  },
  {
   "cell_type": "markdown",
   "metadata": {},
   "source": [
    "#### **IF statement**\n",
    "Syntax\n",
    "```\n",
    "if condition:\n",
    "    do work\n",
    "```\n",
    "The \"condition\" should be *boolean expression*.\n",
    "\"do work\" block should be statements.\n",
    "In a more authentic form, the syntax can be written as\n",
    "```\n",
    "if <expression>:\n",
    "    <statement(s)>\n",
    "```"
   ]
  },
  {
   "cell_type": "code",
   "execution_count": null,
   "metadata": {},
   "outputs": [],
   "source": [
    "# Example\n",
    "if 5>3:\n",
    "    print('5 is greater than 3')"
   ]
  },
  {
   "cell_type": "markdown",
   "metadata": {},
   "source": [
    "**IMPORTANT** \n",
    "- **Do NOT forget the colon \":\" after the 'expression' of the 'if' line.**\n",
    "- **Do NOT forget to indent in front of the 'statement'.**"
   ]
  },
  {
   "cell_type": "markdown",
   "metadata": {},
   "source": [
    "#### Python code block\n",
    "Python uses 'indentation' to indicate a block of code. Use the 'tab' key in the Jupyter Lab to correctly indent each level of code block."
   ]
  },
  {
   "cell_type": "code",
   "execution_count": null,
   "metadata": {},
   "outputs": [],
   "source": [
    "age = int(input(\"How old are you?\"))\n",
    "\n",
    "if age <= 2:\n",
    "    print(\"You are a baby.\")\n",
    "    print(\"The ticket is free for you.\")\n",
    "                    "
   ]
  },
  {
   "cell_type": "markdown",
   "metadata": {},
   "source": [
    "#### **IF/ELSE statement**\n",
    "Syntax\n",
    "\n",
    "```\n",
    "if <expression>:\n",
    "    <statement(s)>\n",
    "else:\n",
    "    <statement(s)>\n",
    "```"
   ]
  },
  {
   "cell_type": "code",
   "execution_count": null,
   "metadata": {},
   "outputs": [],
   "source": [
    "age = int(input(\"How old are you?\"))\n",
    "\n",
    "if age <= 2:\n",
    "    print(\"You are a baby.\")\n",
    "    print(\"The ticket is free for you.\")\n",
    "else:\n",
    "    print(\"You are not a baby.\")\n",
    "    print(\"The ticket is $20.\")"
   ]
  },
  {
   "cell_type": "markdown",
   "metadata": {},
   "source": [
    "#### **IF/ELIF/ELSE statement**\n",
    "Syntax\n",
    "\n",
    "```\n",
    "if <expression>:\n",
    "    <statement(s)>\n",
    "elif <expression>:\n",
    "    <statement(s)>\n",
    "elif <expression>:\n",
    "    <statement(s)>\n",
    "    ...\n",
    "else:\n",
    "    <statement(s)>\n",
    "```"
   ]
  },
  {
   "cell_type": "code",
   "execution_count": null,
   "metadata": {},
   "outputs": [],
   "source": [
    "age = int(input(\"How old are you?\"))\n",
    "\n",
    "if age <= 2:\n",
    "    print(\"You are a baby.\")\n",
    "    print(\"The ticket is free for you.\")\n",
    "elif age <= 18:\n",
    "    print(\"You are not an adult.\")\n",
    "    print(\"The ticket is $10.\")\n",
    "else:\n",
    "    print(\"You are an adult.\")\n",
    "    print(\"The ticket is $20.\")"
   ]
  },
  {
   "cell_type": "markdown",
   "metadata": {},
   "source": [
    "#### **Single line syntax of IF**\n",
    "Syntax\n",
    "\n",
    "```\n",
    "if <expression>: <statement>; <statement>;...; <statement>\n",
    "elif <expression>: <statement>; <statement>;...; <statement>\n",
    "else:  <statement>; <statement>;...; <statement>\n",
    "```"
   ]
  },
  {
   "cell_type": "code",
   "execution_count": null,
   "metadata": {},
   "outputs": [],
   "source": [
    "age = int(input(\"How old are you?\"))\n",
    "\n",
    "if age <= 2: print(\"You are a baby.\"); print(\"The ticket is free for you.\")\n",
    "elif age <= 18: print(\"You are not an adult.\"); print(\"The ticket is $10.\")\n",
    "else: print(\"You are an adult.\"); print(\"The ticket is $20.\")"
   ]
  },
  {
   "cell_type": "markdown",
   "metadata": {},
   "source": [
    "#### **Another single line syntax of IF**\n",
    "Syntax\n",
    "\n",
    "```\n",
    "<statement> if <conditional expression> else <statement>\n",
    "```"
   ]
  },
  {
   "cell_type": "code",
   "execution_count": null,
   "metadata": {},
   "outputs": [],
   "source": [
    "age = int(input(\"How old are you?\"))\n",
    "\n",
    "print(\"You are a baby\") if age <= 2 else print(\"You are not a baby.\")"
   ]
  },
  {
   "cell_type": "markdown",
   "metadata": {},
   "source": [
    "#### **PASS statement**"
   ]
  },
  {
   "cell_type": "code",
   "execution_count": null,
   "metadata": {},
   "outputs": [],
   "source": [
    "if age>100:\n",
    "    pass\n",
    "    \n",
    "print('not in the if statement')"
   ]
  },
  {
   "cell_type": "code",
   "execution_count": null,
   "metadata": {},
   "outputs": [],
   "source": []
  },
  {
   "cell_type": "markdown",
   "metadata": {},
   "source": [
    "---\n",
    "#### **Loops**\n",
    "Remove repetition!"
   ]
  },
  {
   "cell_type": "code",
   "execution_count": null,
   "metadata": {},
   "outputs": [],
   "source": [
    "print(\"Hello, Betsy\")\n",
    "print(\"Hello, Charles\")\n",
    "print(\"Hello, David\")\n",
    "print(\"Hello, Cloe\")\n",
    "print(\"Hello, Adam\")\n",
    "print(\"Hello, Amy\")\n",
    "print(\"Hello, Christine\")\n",
    "print(\"Hello, Kimberly\")\n",
    "print(\"Hello, Ron\")\n",
    "print(\"Hello, Cindy\")\n",
    "print(\"Hello, Paul\")\n",
    "print(\"Hello, Marie\")\n",
    "print(\"Hello, Jack\")\n"
   ]
  },
  {
   "cell_type": "code",
   "execution_count": null,
   "metadata": {},
   "outputs": [],
   "source": [
    "# Do something else\n",
    "\n",
    "print(\"Good bye, Betsy\")\n",
    "print(\"Good bye, Charles\")\n",
    "# Too much repetition! I quit."
   ]
  },
  {
   "cell_type": "code",
   "execution_count": null,
   "metadata": {},
   "outputs": [],
   "source": []
  },
  {
   "cell_type": "code",
   "execution_count": null,
   "metadata": {},
   "outputs": [],
   "source": []
  },
  {
   "cell_type": "markdown",
   "metadata": {},
   "source": [
    "#### **FOR loop**\n",
    "Syntax\n",
    "\n",
    "```\n",
    "for <iterating_var> in <sequence>:\n",
    "    <statement(s)>\n",
    "```\n",
    "Use keyword  **break** to stop the loop, **continue** to jump to the next iteration, and **pass** to fill a blank space where statement(s) are syntactically required.\n",
    "\n",
    "##### **Useful functions**\n",
    "**range** returns numbers, **enumerate** returns an element and its index of sequence."
   ]
  },
  {
   "cell_type": "code",
   "execution_count": null,
   "metadata": {},
   "outputs": [],
   "source": [
    "list_of_people = [\"Betsy\",\"Charles\",\"David\",\"Cloe\",\"Adam\",\"Amy\",\"Christine\",\"Kimberly\",\"Ron\",\"Cindy\",\"Paul\",\"Marie\",\"Jack\"]\n",
    "\n",
    "for person in list_of_people:\n",
    "    print(\"Hello,\", person)"
   ]
  },
  {
   "cell_type": "code",
   "execution_count": null,
   "metadata": {},
   "outputs": [],
   "source": [
    "list_of_people = [\"Betsy\",\"Charles\",\"David\",\"Cloe\",\"Adam\",\"Amy\",\"Christine\",\"Kimberly\",\"Ron\",\"Cindy\",\"Paul\",\"Marie\",\"Jack\"]\n",
    "\n",
    "x = 0\n",
    "for person in list_of_people:\n",
    "    print(\"Hello,\", person)\n",
    "    x += 1\n",
    "    if x==5:\n",
    "        break\n"
   ]
  },
  {
   "cell_type": "code",
   "execution_count": null,
   "metadata": {},
   "outputs": [],
   "source": [
    "list_of_people = [\"Betsy\",\"Charles\",\"David\",\"Cloe\",\"Adam\",\"Amy\",\"Christine\",\"Kimberly\",\"Ron\",\"Cindy\",\"Paul\",\"Marie\",\"Jack\"]\n",
    "\n",
    "x = 0\n",
    "for person in list_of_people:\n",
    "    x += 1\n",
    "    if x<=5:\n",
    "        #print(x)\n",
    "        continue\n",
    "    print(\"Hello,\", person)\n",
    "\n"
   ]
  },
  {
   "cell_type": "code",
   "execution_count": 95,
   "metadata": {},
   "outputs": [
    {
     "name": "stdout",
     "output_type": "stream",
     "text": [
      "Hello, Betsy\n",
      "Hello, Charles\n",
      "Hello, David\n",
      "Hello, Cloe\n",
      "Hello, Adam\n"
     ]
    }
   ],
   "source": [
    "list_of_people = [\"Betsy\",\"Charles\",\"David\",\"Cloe\",\"Adam\",\"Amy\",\"Christine\",\"Kimberly\",\"Ron\",\"Cindy\",\"Paul\",\"Marie\",\"Jack\"]\n",
    "\n",
    "for n,person in enumerate(list_of_people):\n",
    "    print(\"Hello,\", person)\n",
    "    if n==4:\n",
    "        break\n"
   ]
  },
  {
   "cell_type": "code",
   "execution_count": 94,
   "metadata": {},
   "outputs": [
    {
     "name": "stdout",
     "output_type": "stream",
     "text": [
      "5\n",
      "6\n",
      "7\n",
      "8\n",
      "9\n"
     ]
    }
   ],
   "source": [
    "for x in range(5,10):\n",
    "    print(x)"
   ]
  },
  {
   "cell_type": "code",
   "execution_count": 96,
   "metadata": {},
   "outputs": [
    {
     "name": "stdout",
     "output_type": "stream",
     "text": [
      "0\n",
      "1\n",
      "2\n",
      "3\n",
      "4\n",
      "5\n",
      "6\n",
      "7\n",
      "8\n",
      "9\n"
     ]
    }
   ],
   "source": [
    "for x in range(10):\n",
    "    print(x)"
   ]
  },
  {
   "cell_type": "code",
   "execution_count": 98,
   "metadata": {},
   "outputs": [
    {
     "name": "stdout",
     "output_type": "stream",
     "text": [
      "5\n",
      "8\n"
     ]
    }
   ],
   "source": [
    "for x in range(5, 10, 3):\n",
    "    print(x)"
   ]
  },
  {
   "cell_type": "code",
   "execution_count": 100,
   "metadata": {},
   "outputs": [
    {
     "name": "stdout",
     "output_type": "stream",
     "text": [
      "[1, 3, 5, 7, 9]\n",
      "[1, 3, 5, 7, 9]\n"
     ]
    }
   ],
   "source": [
    "a = [1, 3, 5, 7, 9]\n",
    "b = list(range(1, 10, 2))\n",
    "print(a)\n",
    "print(b)"
   ]
  },
  {
   "cell_type": "code",
   "execution_count": null,
   "metadata": {},
   "outputs": [],
   "source": []
  },
  {
   "cell_type": "code",
   "execution_count": null,
   "metadata": {},
   "outputs": [],
   "source": []
  },
  {
   "cell_type": "code",
   "execution_count": null,
   "metadata": {},
   "outputs": [],
   "source": []
  },
  {
   "cell_type": "markdown",
   "metadata": {},
   "source": [
    "#### **WHILE loop**\n",
    "Syntax\n",
    "```\n",
    "while <expression>:\n",
    "    <statement(s)>\n",
    "```\n",
    "One line syntax\n",
    "```\n",
    "while <expression>: <statement>; <statement>;...; <statement> \n",
    "```\n",
    "Use Keyword **break** to stop the loop, **continue** to jump to the next iteration, and **pass** to fill a blank space where statement(s) are syntactically required."
   ]
  },
  {
   "cell_type": "code",
   "execution_count": null,
   "metadata": {},
   "outputs": [],
   "source": [
    "x = 0\n",
    "while x<5:\n",
    "    x += 1\n",
    "    print(x)\n"
   ]
  },
  {
   "cell_type": "code",
   "execution_count": null,
   "metadata": {},
   "outputs": [],
   "source": [
    "x = 0\n",
    "while 0==0:\n",
    "    x += 1\n",
    "    if x<5:\n",
    "        continue\n",
    "    elif x==10:\n",
    "        break\n",
    "    else:\n",
    "        print(x)"
   ]
  },
  {
   "cell_type": "code",
   "execution_count": null,
   "metadata": {},
   "outputs": [],
   "source": []
  },
  {
   "cell_type": "markdown",
   "metadata": {},
   "source": [
    "### **Be careful to avoid an infinite loop**"
   ]
  },
  {
   "cell_type": "code",
   "execution_count": null,
   "metadata": {},
   "outputs": [],
   "source": [
    "while 0==0:\n",
    "    print('in the while loop')\n",
    "print('out of the while loop')"
   ]
  },
  {
   "cell_type": "code",
   "execution_count": null,
   "metadata": {},
   "outputs": [],
   "source": []
  },
  {
   "cell_type": "code",
   "execution_count": null,
   "metadata": {},
   "outputs": [],
   "source": []
  }
 ],
 "metadata": {
  "kernelspec": {
   "display_name": "Python 3",
   "language": "python",
   "name": "python3"
  },
  "language_info": {
   "codemirror_mode": {
    "name": "ipython",
    "version": 3
   },
   "file_extension": ".py",
   "mimetype": "text/x-python",
   "name": "python",
   "nbconvert_exporter": "python",
   "pygments_lexer": "ipython3",
   "version": "3.7.4"
  }
 },
 "nbformat": 4,
 "nbformat_minor": 4
}

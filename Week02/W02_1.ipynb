{
 "cells": [
  {
   "cell_type": "markdown",
   "metadata": {},
   "source": [
    "### Week 2, class 1\n",
    "# *Functions*\n",
    "\n",
    "---\n"
   ]
  },
  {
   "cell_type": "code",
   "execution_count": null,
   "metadata": {},
   "outputs": [],
   "source": [
    "# for-loop example\n",
    "list_of_people = [\"Betsy\",\"Charles\",\"David\",\"Cloe\",\"Adam\",\"Amy\",\"Christine\",\"Kimberly\",\"Ron\",\"Cindy\",\"Paul\",\"Marie\",\"Jack\"]\n",
    "\n",
    "for person in list_of_people:\n",
    "    print(\"Hello,\", person)\n"
   ]
  },
  {
   "cell_type": "markdown",
   "metadata": {},
   "source": [
    "#### **What are functions and why do we use them?**\n",
    "\n",
    "We do not want to write the same code over and over again. It is tedious, messy, and error-prone, especially when you want to change a small part of the code. We define functions and use them to avoid repetition. It is almost always a good practice to not repeate the same code again."
   ]
  },
  {
   "cell_type": "code",
   "execution_count": null,
   "metadata": {},
   "outputs": [],
   "source": [
    "body_temps = [37, 38.5, 39.2, 36.8, \"missing\", 40.1, 38.4, 39.9, 40.2, 39.7, 37.5, 36.8, 39.4, 38.5, 37.9, 37.7]\n",
    "\n",
    "total = 0\n",
    "count = 0\n",
    "\n",
    "for bt in body_temps:\n",
    "    if type(bt)==type(1.0) or type(bt)==type(1):\n",
    "        total += bt\n",
    "        count += 1\n",
    "\n",
    "mean_bt = total/count\n",
    "print('number of patients', count, ', average body temperature', mean_bt)"
   ]
  },
  {
   "cell_type": "code",
   "execution_count": null,
   "metadata": {},
   "outputs": [],
   "source": [
    "income_NYC=[100800, 90834, 112345, 89487, 131928,  \"missing\", 98176, 20928, 1000019]\n",
    "\n",
    "total = 0\n",
    "count = 0\n",
    "\n",
    "for income in income_NYC:\n",
    "    if type(income)==type(1.0) or type(income)==type(1):\n",
    "        total += income\n",
    "        count += 1\n",
    "\n",
    "mean_income = total/count\n",
    "print('number of data', count, ', average income', mean_income)"
   ]
  },
  {
   "cell_type": "code",
   "execution_count": null,
   "metadata": {},
   "outputs": [],
   "source": [
    "def get_average(data):\n",
    "    total = 0\n",
    "    count = 0\n",
    "    \n",
    "    for d in data:\n",
    "        if type(d)==type(1.0) or type(d)==type(1):\n",
    "            total += d\n",
    "            count += 1\n",
    "        \n",
    "    mean_data = total/count\n",
    "    return mean_data, count\n",
    "\n",
    "\n"
   ]
  },
  {
   "cell_type": "code",
   "execution_count": null,
   "metadata": {},
   "outputs": [],
   "source": [
    "mean_bt, count = get_average(body_temps)\n",
    "print('number of patients', count, ', average body temperature', mean_bt)"
   ]
  },
  {
   "cell_type": "code",
   "execution_count": null,
   "metadata": {},
   "outputs": [],
   "source": [
    "mean_income, count = get_average(income_NYC)\n",
    "print('number of data', count, ', average income', mean_income)"
   ]
  },
  {
   "cell_type": "markdown",
   "metadata": {},
   "source": [
    "---\n",
    "See https://www.geeksforgeeks.org/g-fact-41-multiple-return-values-in-python/ for diverse ways of returning multiple values.\n",
    "\n",
    "---"
   ]
  },
  {
   "cell_type": "markdown",
   "metadata": {},
   "source": [
    "#### **Multiple parameters (or arguments)**\n",
    "\n",
    "Python functions can receive multiple parameters."
   ]
  },
  {
   "cell_type": "code",
   "execution_count": null,
   "metadata": {},
   "outputs": [],
   "source": [
    "def power(num, x):\n",
    "    result = 1\n",
    "    for i in range(x):\n",
    "        result = result * num\n",
    "    return result"
   ]
  },
  {
   "cell_type": "code",
   "execution_count": null,
   "metadata": {},
   "outputs": [],
   "source": [
    "print( power(2,3) )"
   ]
  },
  {
   "cell_type": "code",
   "execution_count": null,
   "metadata": {},
   "outputs": [],
   "source": [
    "# Default value of function parameters\n",
    "def power(num, x = 2):\n",
    "    result = 1\n",
    "    for i in range(x):\n",
    "        result = result * num\n",
    "    return result"
   ]
  },
  {
   "cell_type": "code",
   "execution_count": null,
   "metadata": {},
   "outputs": [],
   "source": [
    "print( power(5) )"
   ]
  },
  {
   "cell_type": "code",
   "execution_count": null,
   "metadata": {},
   "outputs": [],
   "source": [
    "# Using the name of function parameters to ignore the order in the definition\n",
    "print( power(x=3, num=5) )"
   ]
  },
  {
   "cell_type": "code",
   "execution_count": null,
   "metadata": {},
   "outputs": [],
   "source": [
    "# variable number of parameters (or arguments)\n",
    "def multi_add(*args):\n",
    "    result = 0\n",
    "    for x in args:\n",
    "        result = result +x\n",
    "    return result\n"
   ]
  },
  {
   "cell_type": "code",
   "execution_count": null,
   "metadata": {},
   "outputs": [],
   "source": [
    "print( multi_add(4,5,10,6) )\n",
    "print( multi_add(4,5,10,6,28,1,29) )"
   ]
  },
  {
   "cell_type": "markdown",
   "metadata": {},
   "source": [
    "---\n",
    "See https://www.geeksforgeeks.org/args-kwargs-python/ for more information about variable arguments in function definition.\n",
    "\n",
    "---"
   ]
  },
  {
   "cell_type": "code",
   "execution_count": null,
   "metadata": {},
   "outputs": [],
   "source": []
  },
  {
   "cell_type": "code",
   "execution_count": null,
   "metadata": {},
   "outputs": [],
   "source": []
  }
 ],
 "metadata": {
  "kernelspec": {
   "display_name": "Python 3",
   "language": "python",
   "name": "python3"
  },
  "language_info": {
   "codemirror_mode": {
    "name": "ipython",
    "version": 3
   },
   "file_extension": ".py",
   "mimetype": "text/x-python",
   "name": "python",
   "nbconvert_exporter": "python",
   "pygments_lexer": "ipython3",
   "version": "3.7.4"
  }
 },
 "nbformat": 4,
 "nbformat_minor": 4
}

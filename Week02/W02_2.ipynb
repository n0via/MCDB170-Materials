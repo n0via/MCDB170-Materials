{
 "cells": [
  {
   "cell_type": "markdown",
   "metadata": {},
   "source": [
    "### Week 1, class 2\n",
    "# *Containers*\n",
    "\n",
    "---\n",
    "This part contains a lot of examples of basic manipulations of lists, tuples, and dictionaries. It is easy for you to quickly forget most of them. So, it is a good idea to practice these manipulations many times. It is like learning real languages. You need to memorize and practice. Initially, it can be challenging to remember all of them, but it will become a natural part of yourself as you accumulate programming experience. Keep practice!\n",
    "\n",
    "---"
   ]
  },
  {
   "cell_type": "markdown",
   "metadata": {},
   "source": [
    "### **List**\n",
    "\n",
    "\"List\" is the most basic and simple container in Python.\n",
    "\n",
    "---\n",
    "#### **Basic usage**\n",
    "\n",
    "* A list can be defined with `[` and `]` as enclosing characters, with comma as separator.\n",
    "* A list can contain multiple elements with heterogeneous types.\n",
    "* A list is mutable.\n",
    "\n",
    "\n",
    "* Negative index correspond to the elements iterated from the end of the list.\n",
    "* For example, index of `-1` correspond to the last element.\n",
    "\n",
    "\n",
    "* `in` : checks the existence of an element.\n",
    "* `len(list)` : the number of elements in the list.\n",
    "* `max(list)` : maximum value in the list. \n",
    "* `min(list)` : minimum value in the list.\n",
    "* `+` operator between lists represent concatnation.\n",
    "* `*` operator represents repeat of a list.\n",
    "* `list.append(element)` : Append an element to the end of the `list`.\n",
    "* `list.extend(newlist)` : Append all elements in the new list to the end of the `list`\n",
    "<br>\n",
    "* `list.sort()` : sorts the list\n",
    "* `list.reverse()` : reverses the order\n",
    "* `list.insert(index, value)` : insert a value at the specified index\n",
    "* `list.clear()` : removes all elements\n",
    "* `sorted(list, reverse_option)` : sorts a list with an option for 'reverse sort'\n",
    "\n",
    "**There are three ways of removing an element**\n",
    "\n",
    "* `list.pop(index)` : removes an element and returns it. Default index = -1.\n",
    "* `del(list[index])` : removes the specified element\n",
    "* `list.remove(value)` : removes the first element matching the value\n",
    "<br>\n",
    "\n"
   ]
  },
  {
   "cell_type": "code",
   "execution_count": null,
   "metadata": {},
   "outputs": [],
   "source": [
    "sample_list1 = [1, 2, 3]\n",
    "print(sample_list1)\n",
    "\n",
    "sample_list2 = ['this','that','it', 1, [2,3]]\n",
    "print(sample_list2)"
   ]
  },
  {
   "cell_type": "code",
   "execution_count": null,
   "metadata": {},
   "outputs": [],
   "source": [
    "mammals = [\"human\", \"monky\", \"mouse\", \"rat\", \"cat\", \"dog\"]        "
   ]
  },
  {
   "cell_type": "code",
   "execution_count": null,
   "metadata": {},
   "outputs": [],
   "source": [
    "len(mammals)"
   ]
  },
  {
   "cell_type": "code",
   "execution_count": null,
   "metadata": {},
   "outputs": [],
   "source": [
    "len(sample_list2)"
   ]
  },
  {
   "cell_type": "code",
   "execution_count": null,
   "metadata": {},
   "outputs": [],
   "source": [
    "mammals[0]"
   ]
  },
  {
   "cell_type": "code",
   "execution_count": null,
   "metadata": {},
   "outputs": [],
   "source": [
    "mammals[3]"
   ]
  },
  {
   "cell_type": "code",
   "execution_count": null,
   "metadata": {},
   "outputs": [],
   "source": [
    "mammals[5]"
   ]
  },
  {
   "cell_type": "code",
   "execution_count": null,
   "metadata": {},
   "outputs": [],
   "source": [
    "mammals[6]"
   ]
  },
  {
   "cell_type": "code",
   "execution_count": null,
   "metadata": {},
   "outputs": [],
   "source": [
    "mammals[-1]"
   ]
  },
  {
   "cell_type": "code",
   "execution_count": null,
   "metadata": {},
   "outputs": [],
   "source": [
    "mammals[-2]"
   ]
  },
  {
   "cell_type": "code",
   "execution_count": null,
   "metadata": {},
   "outputs": [],
   "source": [
    "mammals[-6]"
   ]
  },
  {
   "cell_type": "code",
   "execution_count": null,
   "metadata": {},
   "outputs": [],
   "source": [
    "mammals[-7]"
   ]
  },
  {
   "cell_type": "code",
   "execution_count": null,
   "metadata": {},
   "outputs": [],
   "source": [
    "for m in mammals:\n",
    "    print(m)"
   ]
  },
  {
   "cell_type": "code",
   "execution_count": null,
   "metadata": {},
   "outputs": [],
   "source": [
    "for i in range(len(mammals)):\n",
    "    mammals[i] = mammals[i] + ' runs'\n",
    "    print(mammals[i])"
   ]
  },
  {
   "cell_type": "code",
   "execution_count": null,
   "metadata": {},
   "outputs": [],
   "source": [
    "mammals.append('Cat runs')\n",
    "mammals"
   ]
  },
  {
   "cell_type": "code",
   "execution_count": null,
   "metadata": {},
   "outputs": [],
   "source": [
    "mammals.extend(['Dog runs', 'Horse runs'])\n",
    "mammals"
   ]
  },
  {
   "cell_type": "code",
   "execution_count": null,
   "metadata": {},
   "outputs": [],
   "source": [
    "new_mammals = mammals + ['Koala runs', 'Fox runs']"
   ]
  },
  {
   "cell_type": "code",
   "execution_count": null,
   "metadata": {},
   "outputs": [],
   "source": [
    "new_mammals"
   ]
  },
  {
   "cell_type": "code",
   "execution_count": null,
   "metadata": {},
   "outputs": [],
   "source": [
    "new_mammals.insert(4, 'Zebra runs')"
   ]
  },
  {
   "cell_type": "code",
   "execution_count": null,
   "metadata": {},
   "outputs": [],
   "source": [
    "new_mammals"
   ]
  },
  {
   "cell_type": "code",
   "execution_count": null,
   "metadata": {},
   "outputs": [],
   "source": [
    "del new_mammals[0]"
   ]
  },
  {
   "cell_type": "code",
   "execution_count": null,
   "metadata": {},
   "outputs": [],
   "source": [
    "new_mammals"
   ]
  },
  {
   "cell_type": "code",
   "execution_count": null,
   "metadata": {},
   "outputs": [],
   "source": [
    "new_mammals.remove('Cat runs')\n",
    "new_mammals"
   ]
  },
  {
   "cell_type": "code",
   "execution_count": null,
   "metadata": {},
   "outputs": [],
   "source": [
    "new_mammals.sort()\n",
    "new_mammals"
   ]
  },
  {
   "cell_type": "code",
   "execution_count": null,
   "metadata": {},
   "outputs": [],
   "source": [
    "reverse_runs = sorted(new_mammals, reverse=True)\n",
    "reverse_runs"
   ]
  },
  {
   "cell_type": "code",
   "execution_count": null,
   "metadata": {},
   "outputs": [],
   "source": []
  },
  {
   "cell_type": "markdown",
   "metadata": {
    "colab_type": "text",
    "id": "CeAg-hTAP9OB"
   },
   "source": [
    "#### **Slicing a list**\n",
    "\n",
    "* A subset of list can be generated using `:` operator\n",
    "* `beg:end` represent elements with index from `beg` to `end-1`\n",
    "* If `beg` is empty, it implies 0. If `end` is empty, it implies the length of the list."
   ]
  },
  {
   "cell_type": "code",
   "execution_count": null,
   "metadata": {
    "colab": {},
    "colab_type": "code",
    "id": "FcezM4FmO4FU"
   },
   "outputs": [],
   "source": [
    "t = [42, 1024, 23, 6, 28, 496]  # define a list with 6 elements\n",
    "print(t[-1])   # print the last element\n",
    "print(t)       # print the entire list\n",
    "print(t[1:4])  # print 2nd to 4th elements\n",
    "print(t[3:])   # print from the 4th elements\n",
    "print(t[:2])   # print up to 2nd elements\n",
    "print(t[:])    # print all elements\n",
    "t[2:5] = [2,3,5] # change 3rd, 4th, 5th elements\n",
    "print(t)"
   ]
  },
  {
   "cell_type": "markdown",
   "metadata": {
    "colab_type": "text",
    "id": "Q0qN_xpsRKl1"
   },
   "source": [
    "#### **Extended slicing**\n",
    "\n",
    "* If `beg:end:step` is used, it represents elements from `beg` to `end-1`, with step size of `step`.\n",
    "* The default step size is 1 if omitted."
   ]
  },
  {
   "cell_type": "code",
   "execution_count": null,
   "metadata": {
    "colab": {},
    "colab_type": "code",
    "id": "XSiI0nvkQIn5"
   },
   "outputs": [],
   "source": [
    "t = [42, 1024, 23, 6, 28, 496]  # define a list with 6 elements\n",
    "print(t[1:4:2]) # 2nd to 4th elements, with step size 2 (every other elements)\n",
    "print(t[:5:2])  # 1st to 5th elements, with step size 2 (every other elements)\n",
    "print(t[::3])   # 1st to end, with step size 3 \n",
    "print(t[1:4:1]) # same to t[1:4]"
   ]
  },
  {
   "cell_type": "markdown",
   "metadata": {},
   "source": [
    "#### **enumerate()**\n",
    "\n"
   ]
  },
  {
   "cell_type": "code",
   "execution_count": null,
   "metadata": {},
   "outputs": [],
   "source": [
    "for index, value in enumerate (t):\n",
    "    print(\"Element\", index, \"->\", value)\n"
   ]
  },
  {
   "cell_type": "markdown",
   "metadata": {},
   "source": [
    "#### **zip()**"
   ]
  },
  {
   "cell_type": "code",
   "execution_count": null,
   "metadata": {},
   "outputs": [],
   "source": [
    "first = ['Hyun', 'Bhramar', 'Mike']\n",
    "last = ['Kang', 'Mukherjee', 'Boehnke']\n",
    "\n",
    "print(list(zip(first,last)))\n",
    "\n",
    "for name in zip(first,last):\n",
    "    print(\"Dear\", name[0], name[1], \",\" )\n"
   ]
  },
  {
   "cell_type": "code",
   "execution_count": null,
   "metadata": {},
   "outputs": [],
   "source": []
  },
  {
   "cell_type": "code",
   "execution_count": null,
   "metadata": {},
   "outputs": [],
   "source": []
  },
  {
   "cell_type": "code",
   "execution_count": null,
   "metadata": {},
   "outputs": [],
   "source": []
  },
  {
   "cell_type": "markdown",
   "metadata": {
    "colab_type": "text",
    "id": "0RfM3QvCVINv"
   },
   "source": [
    "#### **Copying or referencing a list**\n",
    "\n",
    "* See lecture slides to learn why the behavior seem to be different."
   ]
  },
  {
   "cell_type": "code",
   "execution_count": null,
   "metadata": {
    "colab": {},
    "colab_type": "code",
    "id": "A1hqGXumUUX7"
   },
   "outputs": [],
   "source": [
    "v1 = 10    # v1 is a integer\n",
    "v2 = v1    # v2 is copied\n",
    "v1 = 8     # let's change v1\n",
    "print(v1)  # would v2 also be changed?\n",
    "print(v2)\n",
    "t1 = [42, 1024, 23]  # t1 is a list\n",
    "print(t1)\n",
    "t2 = t1              # t2 is a copy(?) of list\n",
    "print(t2)\n",
    "t1[1] = 6            # t1 is modified\n",
    "print(t1)            # will t2 also be modified?\n",
    "print(t2)"
   ]
  },
  {
   "cell_type": "markdown",
   "metadata": {
    "colab_type": "text",
    "id": "boF-v0iNVrZY"
   },
   "source": [
    "#### **Shallow copy of a list**\n",
    "\n",
    "* See lecture slides to learn the difference between referencing and copying."
   ]
  },
  {
   "cell_type": "code",
   "execution_count": null,
   "metadata": {
    "colab": {},
    "colab_type": "code",
    "id": "doJv-kreVaJp"
   },
   "outputs": [],
   "source": [
    "t1 = [42, 1024, 23]  # create a list\n",
    "t2 = t1              # this only copies the address (copy by reference)\n",
    "t3 = t1.copy()       # list.copy() function actually makes a copy\n",
    "t1[1] = 6            # now let's modify t1.\n",
    "print(t1)            # t1 is already modified\n",
    "print(t2)            # would t2 be also modified?\n",
    "print(t3)            # would t3 be also modified?"
   ]
  },
  {
   "cell_type": "markdown",
   "metadata": {
    "colab_type": "text",
    "id": "BVJEbpP65Nxs"
   },
   "source": [
    "#### **A nested list**\n",
    "\n",
    "* A list can contain another list, making it nested."
   ]
  },
  {
   "cell_type": "code",
   "execution_count": null,
   "metadata": {
    "colab": {},
    "colab_type": "code",
    "id": "XeaNsrqm5M7j"
   },
   "outputs": [],
   "source": [
    "# create a list of list\n",
    "names = [['Hyun', 'Kang'], ['Bharmar','Mukherjee'], ['Mike', 'Boehnke']] \n",
    "print(names)\n",
    "print(names[1])    # 2nd element is still a list\n",
    "print(names[1][1]) # access the actual element using double index"
   ]
  },
  {
   "cell_type": "markdown",
   "metadata": {
    "colab_type": "text",
    "id": "5kY8OVMFWmUr"
   },
   "source": [
    "#### **Shallow vs. Deep copy**\n",
    "\n",
    "* See lecture slides to learn the difference between shallow and deep copy"
   ]
  },
  {
   "cell_type": "code",
   "execution_count": null,
   "metadata": {
    "colab": {},
    "colab_type": "code",
    "id": "Je0aihfSWQVP"
   },
   "outputs": [],
   "source": [
    "import copy  # copy.deepcopy function performs a deep copy\n",
    "t1 = [ [42, 1024, 23], [6, 3, 28] ] # create a nested list\n",
    "t2 = t1                             # copy by reference\n",
    "t3 = t1.copy()                      # shallow copy\n",
    "t4 = copy.deepcopy(t1)              # deep copy\n",
    "t1[1][1] = 10                       # modified an element\n",
    "print(t1)                           # t1 should be modified already\n",
    "print(t2)                           # would t2 be modified?\n",
    "print(t3)                           # how about t3?\n",
    "print(t4)                           # how about t4?\n"
   ]
  },
  {
   "cell_type": "markdown",
   "metadata": {
    "colab_type": "text",
    "id": "rY7gvOQxM-Y4"
   },
   "source": [
    "#### **Be careful when passing a list as an argument**\n",
    "\n",
    "* When a list is passed as an argument, the function may alter the contents of the input argument."
   ]
  },
  {
   "cell_type": "code",
   "execution_count": null,
   "metadata": {
    "colab": {},
    "colab_type": "code",
    "id": "84YI1LW9W_xH"
   },
   "outputs": [],
   "source": [
    "def double(x):   # Function that doubles all elements\n",
    "    for i in range(len(x)):\n",
    "        x[i] = 2 * x[i]\n",
    "    return x\n",
    "\n",
    "t1 = [42, 1024, 23]     \n",
    "t2 = double(t1)\n",
    "t3 = double(t1.copy())\n",
    "print(t1, t2, t3, sep='\\n')\n",
    "t2[2] = 6\n",
    "t3[2] = 28\n",
    "print(t1, t2, t3, sep='\\n')"
   ]
  },
  {
   "cell_type": "markdown",
   "metadata": {
    "colab_type": "text",
    "id": "a6cV-YiZ_VH9"
   },
   "source": [
    "#### **A simple solution to avoid the problem**\n",
    "\n",
    "* The input argument needs to be copied first before modification, if inteneded to be unchanged."
   ]
  },
  {
   "cell_type": "code",
   "execution_count": null,
   "metadata": {
    "colab": {},
    "colab_type": "code",
    "id": "Rr-0Hf0dOEsA"
   },
   "outputs": [],
   "source": [
    "def double(x):   # Function that doubles all elements\n",
    "    x = x.copy()   # Make a local copy of it\n",
    "    for i in range(len(x)):\n",
    "        x[i] = 2 * x[i]\n",
    "    return x       # Now returning a copy\n",
    "\n",
    "t1 = [42, 1024, 23]     \n",
    "t2 = double(t1)\n",
    "t3 = double(t1.copy())\n",
    "print(t1, t2, t3, sep='\\n')\n",
    "t2[2] = 6\n",
    "t3[2] = 28\n",
    "print(t1, t2, t3, sep='\\n')"
   ]
  },
  {
   "cell_type": "code",
   "execution_count": null,
   "metadata": {},
   "outputs": [],
   "source": []
  },
  {
   "cell_type": "code",
   "execution_count": null,
   "metadata": {},
   "outputs": [],
   "source": []
  },
  {
   "cell_type": "markdown",
   "metadata": {},
   "source": [
    "---\n",
    "### **Tuples**\n",
    "\n",
    "Tuples are similar to lists, except that tuple is immutable. It uses `()` instead of `[]`\n",
    "\n",
    "---"
   ]
  },
  {
   "cell_type": "code",
   "execution_count": null,
   "metadata": {},
   "outputs": [],
   "source": [
    "tup1 = ('physics', 'chemistry', 1997, 2000); \n",
    "tup2 = (1, 2, 3, 4, 5 ); \n",
    "tup3 = \"a\", \"b\", \"c\", \"d\";\n",
    "tup4 = ();\n",
    "tup5 = (50,);   # you need comma if there is only one member. Without a comma, it is simply an integer.\n",
    "\n",
    "\n"
   ]
  },
  {
   "cell_type": "markdown",
   "metadata": {},
   "source": [
    "#### **Unpacking**\n",
    "\n",
    "* Tuples and lists can be unpacked item by item.\n",
    "* In this case, the number of elements must match."
   ]
  },
  {
   "cell_type": "code",
   "execution_count": null,
   "metadata": {},
   "outputs": [],
   "source": [
    "my_tuple = (42, 1024, 23) # define a tuple\n",
    "print(my_tuple)\n",
    "\n",
    "(f1, f2, f3) = my_tuple   # unpack a tuple\n",
    "print(f1, f2, f3)"
   ]
  },
  {
   "cell_type": "code",
   "execution_count": null,
   "metadata": {},
   "outputs": [],
   "source": [
    "my_list = [42, 1024, 23]  # define a list\n",
    "print(my_list)\n",
    "\n",
    "[e1, e2, e3] = my_list    # unpack a list\n",
    "print(e1, e2, e3)"
   ]
  },
  {
   "cell_type": "code",
   "execution_count": null,
   "metadata": {},
   "outputs": [],
   "source": [
    "g1, g2, g3 = my_list  # when unpacking, the parenthesis can be omitted\n",
    "print(g1, g2, g3)"
   ]
  },
  {
   "cell_type": "code",
   "execution_count": null,
   "metadata": {},
   "outputs": [],
   "source": [
    "my_string = \"Wow\"       # string is also like a tuple\n",
    "c1, c2, c3 = my_string  # access individual elements\n",
    "print(c1, c2, c3)"
   ]
  },
  {
   "cell_type": "code",
   "execution_count": null,
   "metadata": {},
   "outputs": [],
   "source": []
  },
  {
   "cell_type": "code",
   "execution_count": null,
   "metadata": {},
   "outputs": [],
   "source": []
  },
  {
   "cell_type": "markdown",
   "metadata": {},
   "source": [
    "#### **Using tuple as a concise function argument**"
   ]
  },
  {
   "cell_type": "code",
   "execution_count": null,
   "metadata": {},
   "outputs": [],
   "source": [
    "def func(a,b,c):\n",
    "    print(a,b,c)\n",
    "\n",
    "my_arg = (1,2,4)\n",
    "func(*my_arg)    # This unpacks the tuple and give it to a function.\n"
   ]
  },
  {
   "cell_type": "code",
   "execution_count": null,
   "metadata": {},
   "outputs": [],
   "source": []
  },
  {
   "cell_type": "code",
   "execution_count": null,
   "metadata": {},
   "outputs": [],
   "source": []
  },
  {
   "cell_type": "code",
   "execution_count": null,
   "metadata": {},
   "outputs": [],
   "source": []
  },
  {
   "cell_type": "markdown",
   "metadata": {},
   "source": [
    "---\n",
    "### **Dictionaries**\n",
    "\n",
    "Dictionary is an unordered associative container of a (key,value) pair. Keys must be unique.\n",
    "\n",
    "\n",
    "---\n",
    "#### **Usage**\n",
    "\n",
    "* A dictionary can be defined using `dict()` function and arbitrary keyword arguments.\n",
    "* Additional element can be added using `[]` and `=` operators.\n",
    "\n",
    "\n",
    "* `dict.update(dict)` : adds more pairs\n",
    "* `del` : removes an element\n",
    "* `key in dict` : checks if a key exists\n",
    "* `key not in dict` : checks if a key exists\n",
    "\n",
    "\n",
    "* `keys(),values(),items()` function can access elements of a dictionary.\n",
    "* Like `range()`, the output is not a list type, but can be easily converted.\n",
    "\n",
    "\n",
    "* Dictionary is also copied by reference.\n",
    "* `.copy()` function can make a shallow copy"
   ]
  },
  {
   "cell_type": "code",
   "execution_count": null,
   "metadata": {},
   "outputs": [],
   "source": [
    "capitals = {'United States': 'Washington, DC', 'France':'Paris', 'Italy':'Rome'}\n",
    "print(capitals)"
   ]
  },
  {
   "cell_type": "code",
   "execution_count": null,
   "metadata": {},
   "outputs": [],
   "source": [
    "capitals['Italy']"
   ]
  },
  {
   "cell_type": "code",
   "execution_count": null,
   "metadata": {},
   "outputs": [],
   "source": [
    "capitals['Spain'] = 'Marid'           # Add new item\n",
    "print(capitals)"
   ]
  },
  {
   "cell_type": "code",
   "execution_count": null,
   "metadata": {},
   "outputs": [],
   "source": [
    "capitals['Germany']  #error"
   ]
  },
  {
   "cell_type": "code",
   "execution_count": null,
   "metadata": {},
   "outputs": [],
   "source": [
    "'Germany' in capitals # False  \"in\" keyword.   \"in\" operator checks if such key exist in the dictionary."
   ]
  },
  {
   "cell_type": "code",
   "execution_count": null,
   "metadata": {},
   "outputs": [],
   "source": [
    "'Italy' in capitals   # True"
   ]
  },
  {
   "cell_type": "code",
   "execution_count": null,
   "metadata": {},
   "outputs": [],
   "source": [
    "'Italy' not in capitals   # False"
   ]
  },
  {
   "cell_type": "code",
   "execution_count": null,
   "metadata": {},
   "outputs": [],
   "source": [
    "morecapitals = {'South Korea': 'Seoul', 'United Kingdom':'London'}\n",
    "capitals + morecapitals   # Error. You can't combine two dict with '+'"
   ]
  },
  {
   "cell_type": "code",
   "execution_count": null,
   "metadata": {},
   "outputs": [],
   "source": [
    "capitals.update(morecapitals)   # addition\n",
    "print(capitals)"
   ]
  },
  {
   "cell_type": "code",
   "execution_count": null,
   "metadata": {},
   "outputs": [],
   "source": [
    "del capitals['United States']\n",
    "print(capitals)"
   ]
  },
  {
   "cell_type": "code",
   "execution_count": null,
   "metadata": {},
   "outputs": [],
   "source": []
  },
  {
   "cell_type": "code",
   "execution_count": null,
   "metadata": {},
   "outputs": [],
   "source": [
    "# These examples of using keys(), values(), and items() are missing from videos\n",
    "for v in capitals.values():\n",
    "    print(v)\n",
    "\n",
    "for k in capitals.keys():\n",
    "    print(k)\n",
    "    \n",
    "for k, v in capitals.items():\n",
    "    print(k,v)"
   ]
  },
  {
   "cell_type": "code",
   "execution_count": null,
   "metadata": {},
   "outputs": [],
   "source": []
  },
  {
   "cell_type": "code",
   "execution_count": null,
   "metadata": {},
   "outputs": [],
   "source": []
  },
  {
   "cell_type": "code",
   "execution_count": null,
   "metadata": {},
   "outputs": [],
   "source": []
  },
  {
   "cell_type": "markdown",
   "metadata": {
    "colab_type": "text",
    "id": "V9QWlFYU7W20"
   },
   "source": [
    "### Defining dictionary from a nested list or tuple\n",
    "\n",
    "* A dictionary can be created from a (nested) list containing `[key,value]` pairs using `dict()` function.\n",
    "* Such a nested list can be generated with `zip()` function too."
   ]
  },
  {
   "cell_type": "code",
   "execution_count": null,
   "metadata": {
    "colab": {},
    "colab_type": "code",
    "id": "f1HOj7427hii"
   },
   "outputs": [],
   "source": [
    "# make a list, where each element is list of two elements\n",
    "t = [['answer', 42], ['kilo', 1024], ['birthday',23]]\n",
    "print(t)\n",
    "\n",
    "d1 = dict(t)  # use dict() function to define a list \n",
    "print(d1)"
   ]
  },
  {
   "cell_type": "code",
   "execution_count": null,
   "metadata": {
    "colab": {},
    "colab_type": "code",
    "id": "f1HOj7427hii"
   },
   "outputs": [],
   "source": [
    "# start with two lists storing keys and values\n",
    "a = ['pi', 'e', 'golden_ratio']\n",
    "b = [3.14, 2.718, 1.618]\n",
    "\n",
    "d2 = dict(zip(a,b))  # using zip() combines two lists in parallel\n",
    "print(d2)"
   ]
  },
  {
   "cell_type": "code",
   "execution_count": null,
   "metadata": {},
   "outputs": [],
   "source": []
  },
  {
   "cell_type": "code",
   "execution_count": null,
   "metadata": {},
   "outputs": [],
   "source": []
  },
  {
   "cell_type": "markdown",
   "metadata": {},
   "source": [
    "---\n",
    "### **Sets**\n",
    "\n",
    "Sets are unordered containers. Sets do not allow duplication.\n",
    "\n",
    "\n",
    "---\n",
    "#### **Usage**\n",
    "\n",
    "* A set can be produced from a list or tuple (including a string)\n",
    "* `-, |, &, ^` : Set union, intersection, and difference operators can be made.\n",
    "\n",
    "\n",
    "* `set(list, tuple, or string)` : constructs a set\n",
    "* `add(value)` : add an element\n",
    "* `remove(value)` : removes an element\n",
    "\n",
    "\n"
   ]
  },
  {
   "cell_type": "code",
   "execution_count": null,
   "metadata": {},
   "outputs": [],
   "source": [
    "names = set(['Claire', 'John', 'Paul']) \n",
    "print(names)"
   ]
  },
  {
   "cell_type": "code",
   "execution_count": null,
   "metadata": {},
   "outputs": [],
   "source": [
    "continents = {'America', 'Europe', 'Asia', 'Oceania', 'Africa'}\n",
    "print(continents)"
   ]
  },
  {
   "cell_type": "code",
   "execution_count": null,
   "metadata": {},
   "outputs": [],
   "source": [
    "'Africa' in continents"
   ]
  },
  {
   "cell_type": "code",
   "execution_count": null,
   "metadata": {},
   "outputs": [],
   "source": [
    "continents.add('Antartica')\n",
    "print(continents)"
   ]
  },
  {
   "cell_type": "code",
   "execution_count": null,
   "metadata": {},
   "outputs": [],
   "source": [
    "continents.remove('Antartica')\n",
    "print(continents)"
   ]
  },
  {
   "cell_type": "code",
   "execution_count": null,
   "metadata": {},
   "outputs": [],
   "source": [
    "for c in continents:\n",
    "    print(c)"
   ]
  },
  {
   "cell_type": "code",
   "execution_count": null,
   "metadata": {
    "colab": {},
    "colab_type": "code",
    "id": "NusaV1QE1Y0j"
   },
   "outputs": [],
   "source": [
    "# set can be made from list, tuple, or string\n",
    "a = set('abracadabra')\n",
    "b = set('wingardiumleviosa')\n",
    "print(a)\n",
    "print(b)"
   ]
  },
  {
   "cell_type": "code",
   "execution_count": null,
   "metadata": {
    "colab": {},
    "colab_type": "code",
    "id": "NusaV1QE1Y0j"
   },
   "outputs": [],
   "source": [
    "# letters in a, but not in b\n",
    "print(a-b)"
   ]
  },
  {
   "cell_type": "code",
   "execution_count": null,
   "metadata": {
    "colab": {},
    "colab_type": "code",
    "id": "NusaV1QE1Y0j"
   },
   "outputs": [],
   "source": [
    "# union of letters in a and b\n",
    "print(a|b)"
   ]
  },
  {
   "cell_type": "code",
   "execution_count": null,
   "metadata": {
    "colab": {},
    "colab_type": "code",
    "id": "NusaV1QE1Y0j"
   },
   "outputs": [],
   "source": [
    "# intersection of letters in a and b\n",
    "print(a&b)"
   ]
  },
  {
   "cell_type": "code",
   "execution_count": null,
   "metadata": {
    "colab": {},
    "colab_type": "code",
    "id": "NusaV1QE1Y0j"
   },
   "outputs": [],
   "source": [
    "# letters exclusively in a or b\n",
    "print(a^b)"
   ]
  },
  {
   "cell_type": "code",
   "execution_count": null,
   "metadata": {},
   "outputs": [],
   "source": []
  },
  {
   "cell_type": "code",
   "execution_count": null,
   "metadata": {},
   "outputs": [],
   "source": []
  },
  {
   "cell_type": "markdown",
   "metadata": {},
   "source": [
    "### **Comprehensions**"
   ]
  },
  {
   "cell_type": "code",
   "execution_count": null,
   "metadata": {},
   "outputs": [],
   "source": [
    "squares = list()\n",
    "\n",
    "for i in range(10):\n",
    "    squares.append(i**2)\n",
    "    \n",
    "print(squares)"
   ]
  },
  {
   "cell_type": "code",
   "execution_count": null,
   "metadata": {},
   "outputs": [],
   "source": [
    "squares2 = [ i**2  for i in range(10)   ]\n",
    "print(squares2)"
   ]
  },
  {
   "cell_type": "code",
   "execution_count": null,
   "metadata": {},
   "outputs": [],
   "source": [
    "squares = list()\n",
    "\n",
    "for i in range(10):\n",
    "    if i%3 == 0:\n",
    "        squares.append(i**2)\n",
    "    \n",
    "print(squares)"
   ]
  },
  {
   "cell_type": "code",
   "execution_count": null,
   "metadata": {},
   "outputs": [],
   "source": [
    "squares3 = [ i**2  for i in range(10) if i%3 == 0  ]\n",
    "print(squares3)"
   ]
  },
  {
   "cell_type": "code",
   "execution_count": null,
   "metadata": {},
   "outputs": [],
   "source": [
    "squares4_dict = {i:i**2 for i in range(10) if i%3==0 }\n",
    "print(squares4_dict)"
   ]
  },
  {
   "cell_type": "code",
   "execution_count": null,
   "metadata": {},
   "outputs": [],
   "source": [
    "counting = []\n",
    "for i in range(1,6):\n",
    "    for j in range(1, i+1):\n",
    "        counting.append(j)\n",
    "\n",
    "print(counting)"
   ]
  },
  {
   "cell_type": "code",
   "execution_count": null,
   "metadata": {},
   "outputs": [],
   "source": [
    "count2 = [ j  for i in range(1,6)   for j in range(1, i+1)   ]\n",
    "print(count2)"
   ]
  },
  {
   "cell_type": "code",
   "execution_count": null,
   "metadata": {},
   "outputs": [],
   "source": []
  },
  {
   "cell_type": "code",
   "execution_count": null,
   "metadata": {},
   "outputs": [],
   "source": []
  },
  {
   "cell_type": "markdown",
   "metadata": {},
   "source": [
    "#### **Transpose**"
   ]
  },
  {
   "cell_type": "code",
   "execution_count": null,
   "metadata": {},
   "outputs": [],
   "source": [
    "capitals = {'United States': 'Washington, DC', 'France':'Paris', 'Italy':'Rome'}\n",
    "print(capitals)"
   ]
  },
  {
   "cell_type": "code",
   "execution_count": null,
   "metadata": {},
   "outputs": [],
   "source": [
    "countries_by_capital = { capitals[key]:key   for key in capitals  }\n",
    "print(countries_by_capital)"
   ]
  },
  {
   "cell_type": "code",
   "execution_count": null,
   "metadata": {},
   "outputs": [],
   "source": [
    "countries_by_capital2 = { capital:country   for country, capital in capitals.items()  }\n",
    "print(countries_by_capital2)"
   ]
  },
  {
   "cell_type": "code",
   "execution_count": null,
   "metadata": {},
   "outputs": [],
   "source": []
  },
  {
   "cell_type": "code",
   "execution_count": null,
   "metadata": {},
   "outputs": [],
   "source": []
  },
  {
   "cell_type": "code",
   "execution_count": null,
   "metadata": {},
   "outputs": [],
   "source": [
    "var1 = 42\n",
    "var2 = 1024\n",
    "var1, var2 = var2, var1"
   ]
  },
  {
   "cell_type": "code",
   "execution_count": null,
   "metadata": {},
   "outputs": [],
   "source": [
    "var1"
   ]
  },
  {
   "cell_type": "code",
   "execution_count": null,
   "metadata": {},
   "outputs": [],
   "source": [
    "var2"
   ]
  },
  {
   "cell_type": "code",
   "execution_count": null,
   "metadata": {},
   "outputs": [],
   "source": [
    "var3 = 6"
   ]
  },
  {
   "cell_type": "code",
   "execution_count": null,
   "metadata": {},
   "outputs": [],
   "source": [
    "var1, var2, var3 = var2, var3, var1"
   ]
  },
  {
   "cell_type": "code",
   "execution_count": null,
   "metadata": {},
   "outputs": [],
   "source": [
    "print(var1,var2,var3)"
   ]
  },
  {
   "cell_type": "code",
   "execution_count": null,
   "metadata": {},
   "outputs": [],
   "source": []
  },
  {
   "cell_type": "code",
   "execution_count": null,
   "metadata": {},
   "outputs": [],
   "source": []
  }
 ],
 "metadata": {
  "kernelspec": {
   "display_name": "Python 3",
   "language": "python",
   "name": "python3"
  },
  "language_info": {
   "codemirror_mode": {
    "name": "ipython",
    "version": 3
   },
   "file_extension": ".py",
   "mimetype": "text/x-python",
   "name": "python",
   "nbconvert_exporter": "python",
   "pygments_lexer": "ipython3",
   "version": "3.7.4"
  }
 },
 "nbformat": 4,
 "nbformat_minor": 4
}

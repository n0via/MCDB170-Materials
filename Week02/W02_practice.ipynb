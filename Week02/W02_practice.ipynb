{
 "cells": [
  {
   "cell_type": "markdown",
   "metadata": {},
   "source": [
    "# **Practice materials for Week 2**"
   ]
  },
  {
   "cell_type": "markdown",
   "metadata": {},
   "source": [
    "Week 2 is the most challenging week for beginners with no previous programming experience. Treat it as your ultimate challenge in learning Python. This will the most challenging week for the entire MCDB 170 course.\n",
    "\n",
    "From Week 3 on, we will not learn many new language features, *if any*, and focus on how to use what we learned. Our focus will also shift to science rather than the minute details of Python.\n",
    "\n",
    "But it will be easier only if you will have sufficiently practiced the materials of Week 2.\n",
    "\n",
    "The reason why Week 2 material is challenging is that it is about the most finicky part of Python. Programming languages, including Python, are extremely sensitive to very minor, seemingly irrelevant, errors.  Unlike any natural spoken languages or written languages, if you miss a colon, it won't work. If you use parentheses instead of brackets, it won't work.  If you use a comma instead of a colon, it won't work. If you don't use indentation, it won't work. If you misspell the variable name it would complain.   Basically, computers are stupid and programming is fragile. You need to pay attention to all minor mistakes.  Programs only work if everything is written without ANY bugs.  (And such bugs happen so many times when you manipulate data structure, such as Lists and Dictionaries.) Learning programming for the first time can, thus, be compared to taking care of an infant who stops crying only after all needs are satisfied. You have to stop that crying of the interpreter/compiler.\n",
    "\n",
    "However, once you got the hook, programming becomes easy and even fun. Again, it is only if you know enough of the Week 2 materials.\n",
    "\n",
    "Therefore, it is incredibly important for you to try to solve the following questions by yourself before you see the answer keys. As you practice, you will become aware of common mistakes and learn how to avoid them. If it is challenging, it is OK to check the answer.  But then, please come back later and try again to solve it.\n",
    "\n",
    "***Click the menu \"View\"->\"Collapse all code\" to hide all questions and answers. Click triple dots to expose each question and answer.***"
   ]
  },
  {
   "cell_type": "markdown",
   "metadata": {},
   "source": [
    "---"
   ]
  },
  {
   "cell_type": "markdown",
   "metadata": {},
   "source": [
    "## Lists"
   ]
  },
  {
   "cell_type": "code",
   "execution_count": null,
   "metadata": {
    "jupyter": {
     "source_hidden": true
    }
   },
   "outputs": [],
   "source": [
    "#Q: Make a list named 'var' that has three letters A, B and C, each of which is an element of the list\n"
   ]
  },
  {
   "cell_type": "code",
   "execution_count": null,
   "metadata": {
    "jupyter": {
     "source_hidden": true
    }
   },
   "outputs": [],
   "source": [
    "var = ['A', 'B', 'C']\n",
    "print(var)"
   ]
  },
  {
   "cell_type": "code",
   "execution_count": null,
   "metadata": {
    "jupyter": {
     "source_hidden": true
    }
   },
   "outputs": [],
   "source": [
    "#Q: Add 'D' at the end of the 'var'\n"
   ]
  },
  {
   "cell_type": "code",
   "execution_count": null,
   "metadata": {
    "jupyter": {
     "source_hidden": true
    }
   },
   "outputs": [],
   "source": [
    "var = ['A', 'B', 'C']\n",
    "var.append('D')\n",
    "print(var)"
   ]
  },
  {
   "cell_type": "code",
   "execution_count": null,
   "metadata": {
    "jupyter": {
     "source_hidden": true
    }
   },
   "outputs": [],
   "source": [
    "#Q: Add 'E' and 'FGH' to the end of the 'var'\n"
   ]
  },
  {
   "cell_type": "code",
   "execution_count": null,
   "metadata": {
    "jupyter": {
     "source_hidden": true
    }
   },
   "outputs": [],
   "source": [
    "# Bogus solution. This adds a list of 'E', 'FGH', not the individual strings\n",
    "var = ['A', 'B', 'C']\n",
    "var.append(['E', 'FGH'])\n",
    "print(var)\n",
    "# compare with the correct solutions below"
   ]
  },
  {
   "cell_type": "code",
   "execution_count": null,
   "metadata": {
    "jupyter": {
     "source_hidden": true
    }
   },
   "outputs": [],
   "source": [
    "# Correct solutions\n",
    "\n",
    "# You may want to append twice\n",
    "var = ['A', 'B', 'C']\n",
    "var.append('E')\n",
    "var.append('FGH')\n",
    "print(var)\n",
    "\n",
    "# or you want to use \"extend\"\n",
    "var = ['A', 'B', 'C']\n",
    "var.extend(['E', 'FGH'])\n",
    "print(var)\n",
    "\n",
    "# or you can use '+' operator\n",
    "var = ['A', 'B', 'C']\n",
    "var = var + ['E', 'FGH']\n",
    "print(var)\n",
    "\n",
    "# error\n",
    "var = ['A', 'B', 'C']\n",
    "var.extend('E', 'FGH')   # extend only accepts a list, not multiple arguments\n",
    "print(var)\n",
    "\n"
   ]
  },
  {
   "cell_type": "code",
   "execution_count": null,
   "metadata": {
    "jupyter": {
     "source_hidden": true
    }
   },
   "outputs": [],
   "source": [
    "#Q. Insert 'Z' to the front of the list.\n",
    "\n"
   ]
  },
  {
   "cell_type": "code",
   "execution_count": null,
   "metadata": {
    "jupyter": {
     "source_hidden": true
    }
   },
   "outputs": [],
   "source": [
    "var = ['A', 'B', 'C']\n",
    "var.insert(0, 'Z')\n",
    "print(var)"
   ]
  },
  {
   "cell_type": "code",
   "execution_count": null,
   "metadata": {
    "jupyter": {
     "source_hidden": true
    }
   },
   "outputs": [],
   "source": [
    "#Q Reverse the order of var\n"
   ]
  },
  {
   "cell_type": "code",
   "execution_count": null,
   "metadata": {
    "jupyter": {
     "source_hidden": true
    }
   },
   "outputs": [],
   "source": [
    "var = ['A', 'B', 'C']\n",
    "var.reverse()\n",
    "print(var)"
   ]
  },
  {
   "cell_type": "code",
   "execution_count": null,
   "metadata": {
    "jupyter": {
     "source_hidden": true
    }
   },
   "outputs": [],
   "source": [
    "# Or\n",
    "var = ['A', 'B', 'C']\n",
    "var = var[::-1]\n",
    "print(var)"
   ]
  },
  {
   "cell_type": "code",
   "execution_count": null,
   "metadata": {
    "jupyter": {
     "source_hidden": true
    }
   },
   "outputs": [],
   "source": [
    "#Q. Insert 'K' at index position 2 (i.e., 3rd position in the list)\n"
   ]
  },
  {
   "cell_type": "code",
   "execution_count": null,
   "metadata": {
    "jupyter": {
     "source_hidden": true
    }
   },
   "outputs": [],
   "source": [
    "var = ['A', 'B', 'C']\n",
    "var.insert(2, 'K')\n",
    "print(var)\n"
   ]
  },
  {
   "cell_type": "code",
   "execution_count": null,
   "metadata": {
    "jupyter": {
     "source_hidden": true
    }
   },
   "outputs": [],
   "source": [
    "#Q. Make a list named abc, containing 1, 2, 'three', '4', 5\n"
   ]
  },
  {
   "cell_type": "code",
   "execution_count": null,
   "metadata": {
    "jupyter": {
     "source_hidden": true
    }
   },
   "outputs": [],
   "source": [
    "abc = [1, 2, 'three', '4', 5]\n",
    "print(abc)"
   ]
  },
  {
   "cell_type": "code",
   "execution_count": null,
   "metadata": {
    "jupyter": {
     "source_hidden": true
    }
   },
   "outputs": [],
   "source": [
    "#Q. Print the type of this list\n"
   ]
  },
  {
   "cell_type": "code",
   "execution_count": null,
   "metadata": {
    "jupyter": {
     "source_hidden": true
    }
   },
   "outputs": [],
   "source": [
    "abc = [1, 2, 'three', '4', 5]\n",
    "print(type(abc))"
   ]
  },
  {
   "cell_type": "code",
   "execution_count": null,
   "metadata": {
    "jupyter": {
     "source_hidden": true
    }
   },
   "outputs": [],
   "source": [
    "#Q. What is the type of the 2nd element (i.e. index pos 1) of abc?\n"
   ]
  },
  {
   "cell_type": "code",
   "execution_count": null,
   "metadata": {
    "jupyter": {
     "source_hidden": true
    }
   },
   "outputs": [],
   "source": [
    "abc = [1, 2, 'three', '4', 5]\n",
    "print(type(abc[1]))"
   ]
  },
  {
   "cell_type": "code",
   "execution_count": null,
   "metadata": {
    "jupyter": {
     "source_hidden": true
    }
   },
   "outputs": [],
   "source": [
    "#bogus solution\n",
    "abc = [1, 2, 'three', '4', 5]\n",
    "print(type(abc[2]))  # this is the 3rd element"
   ]
  },
  {
   "cell_type": "code",
   "execution_count": null,
   "metadata": {
    "jupyter": {
     "source_hidden": true
    }
   },
   "outputs": [],
   "source": [
    "#error\n",
    "abc = [1, 2, 'three', '4', 5]\n",
    "print(type(abc(1)))  # use brackets. Check the error message"
   ]
  },
  {
   "cell_type": "code",
   "execution_count": null,
   "metadata": {
    "jupyter": {
     "source_hidden": true
    }
   },
   "outputs": [],
   "source": [
    "#Q. print the typs of all element of abc.\n"
   ]
  },
  {
   "cell_type": "code",
   "execution_count": null,
   "metadata": {
    "jupyter": {
     "source_hidden": true
    }
   },
   "outputs": [],
   "source": [
    "abc = [1, 2, 'three', '4', 5]\n",
    "for x in abc:\n",
    "    print(type(x))"
   ]
  },
  {
   "cell_type": "code",
   "execution_count": null,
   "metadata": {
    "jupyter": {
     "source_hidden": true
    }
   },
   "outputs": [],
   "source": [
    "#bogus solution\n",
    "abc = [1, 2, 'three', '4', 5]\n",
    "print(type(abc[:]))"
   ]
  },
  {
   "cell_type": "code",
   "execution_count": null,
   "metadata": {
    "jupyter": {
     "source_hidden": true
    }
   },
   "outputs": [],
   "source": [
    "#Q Remove the second element (index = 1)\n"
   ]
  },
  {
   "cell_type": "code",
   "execution_count": null,
   "metadata": {
    "jupyter": {
     "source_hidden": true
    }
   },
   "outputs": [],
   "source": [
    "abc = [1, 2, 'three', '4', 5]\n",
    "del(abc[1])\n",
    "print(abc)"
   ]
  },
  {
   "cell_type": "code",
   "execution_count": null,
   "metadata": {
    "jupyter": {
     "source_hidden": true
    }
   },
   "outputs": [],
   "source": [
    "# OR,\n",
    "abc = [1, 2, 'three', '4', 5]\n",
    "abc.pop(1)\n",
    "print(abc)"
   ]
  },
  {
   "cell_type": "code",
   "execution_count": null,
   "metadata": {
    "jupyter": {
     "source_hidden": true
    }
   },
   "outputs": [],
   "source": [
    "# Q. Remove the element with value 'three'\n"
   ]
  },
  {
   "cell_type": "code",
   "execution_count": null,
   "metadata": {
    "jupyter": {
     "source_hidden": true
    }
   },
   "outputs": [],
   "source": [
    "abc = [1, 2, 'three', '4', 5]\n",
    "abc.remove('three')\n",
    "print(abc)"
   ]
  },
  {
   "cell_type": "code",
   "execution_count": null,
   "metadata": {
    "jupyter": {
     "source_hidden": true
    }
   },
   "outputs": [],
   "source": [
    "#Q. convert '4' in abc to an integer 4.\n"
   ]
  },
  {
   "cell_type": "code",
   "execution_count": null,
   "metadata": {
    "jupyter": {
     "source_hidden": true
    }
   },
   "outputs": [],
   "source": [
    "abc = [1, 2, 'three', '4', 5]\n",
    "print(abc)\n",
    "abc[3] = int(abc[3])\n",
    "print(abc)"
   ]
  },
  {
   "cell_type": "code",
   "execution_count": null,
   "metadata": {
    "jupyter": {
     "source_hidden": true
    }
   },
   "outputs": [],
   "source": [
    "#Q In a for-loop, print the value together with its index.\n",
    "# Hint: Use enumerate(). This is a very commonly used method.\n"
   ]
  },
  {
   "cell_type": "code",
   "execution_count": null,
   "metadata": {
    "jupyter": {
     "source_hidden": true
    }
   },
   "outputs": [],
   "source": [
    "abc = [1, 2, 'three', '4', 5]\n",
    "for idx, x in enumerate(abc):\n",
    "    print(idx, x)"
   ]
  },
  {
   "cell_type": "code",
   "execution_count": null,
   "metadata": {
    "jupyter": {
     "source_hidden": true
    }
   },
   "outputs": [],
   "source": [
    "#Q. Make a list (named 'num') of numbers from 10 to 100.\n",
    "#   Use a for-loop with range().\n"
   ]
  },
  {
   "cell_type": "code",
   "execution_count": null,
   "metadata": {
    "jupyter": {
     "source_hidden": true
    }
   },
   "outputs": [],
   "source": [
    "num = [] # This makes an empty list\n",
    "num = list()  # Or this works too.\n",
    "\n",
    "for x in range(10,101):\n",
    "    num.append(x)\n",
    "\n",
    "print(num)"
   ]
  },
  {
   "cell_type": "code",
   "execution_count": null,
   "metadata": {
    "jupyter": {
     "source_hidden": true
    }
   },
   "outputs": [],
   "source": [
    "#Q. Make a list (named 'num') of numbers from 10 to 100.\n",
    "#   Use a list comprehension\n",
    "\n",
    "num = [  x for x in range(10,101)   ]\n",
    "print(num)"
   ]
  },
  {
   "cell_type": "code",
   "execution_count": null,
   "metadata": {
    "jupyter": {
     "source_hidden": true
    }
   },
   "outputs": [],
   "source": [
    "#Q Print the length of the list num.\n"
   ]
  },
  {
   "cell_type": "code",
   "execution_count": null,
   "metadata": {
    "jupyter": {
     "source_hidden": true
    }
   },
   "outputs": [],
   "source": [
    "num = [  x for x in range(10,101)   ]\n",
    "print(len(num))"
   ]
  },
  {
   "cell_type": "code",
   "execution_count": null,
   "metadata": {
    "jupyter": {
     "source_hidden": true
    }
   },
   "outputs": [],
   "source": [
    "#Q Reverse the order of num\n"
   ]
  },
  {
   "cell_type": "code",
   "execution_count": null,
   "metadata": {
    "jupyter": {
     "source_hidden": true
    }
   },
   "outputs": [],
   "source": [
    "num = [ x for x in range(10,101)   ]\n",
    "num.reverse()\n",
    "print(num)"
   ]
  },
  {
   "cell_type": "code",
   "execution_count": null,
   "metadata": {
    "jupyter": {
     "source_hidden": true
    }
   },
   "outputs": [],
   "source": [
    "#Q Make a list (named num2) of numbers beginning from 5 ending at 99 with\n",
    "# step size 2 You may use a for-loop but comprehension will be short and concise.\n"
   ]
  },
  {
   "cell_type": "code",
   "execution_count": null,
   "metadata": {
    "jupyter": {
     "source_hidden": true
    }
   },
   "outputs": [],
   "source": [
    "num2 = [ x  for x in range(5,100,2) ]  # If you use 99, 99 won't be included.\n",
    "print(num2)"
   ]
  },
  {
   "cell_type": "code",
   "execution_count": null,
   "metadata": {
    "jupyter": {
     "source_hidden": true
    }
   },
   "outputs": [],
   "source": [
    "#Q Print elements at 0th, 2nd, 4th, ..., 30th elements of num2\n"
   ]
  },
  {
   "cell_type": "code",
   "execution_count": null,
   "metadata": {
    "jupyter": {
     "source_hidden": true
    }
   },
   "outputs": [],
   "source": [
    "num2 = [ x  for x in range(5,100,2) ]\n",
    "print(num2[0:31:2])"
   ]
  },
  {
   "cell_type": "code",
   "execution_count": null,
   "metadata": {
    "jupyter": {
     "source_hidden": true
    }
   },
   "outputs": [],
   "source": [
    "#Q What is the last element?\n"
   ]
  },
  {
   "cell_type": "code",
   "execution_count": null,
   "metadata": {
    "jupyter": {
     "source_hidden": true
    }
   },
   "outputs": [],
   "source": [
    "num2 = [ x  for x in range(5,100,2) ]\n",
    "print(num2[-1])"
   ]
  },
  {
   "cell_type": "code",
   "execution_count": null,
   "metadata": {
    "jupyter": {
     "source_hidden": true
    }
   },
   "outputs": [],
   "source": [
    "#Q What is the 2nd to the last element?\n"
   ]
  },
  {
   "cell_type": "code",
   "execution_count": null,
   "metadata": {
    "jupyter": {
     "source_hidden": true
    }
   },
   "outputs": [],
   "source": [
    "num2 = [ x  for x in range(5,100,2) ]\n",
    "print(num2[-2])"
   ]
  },
  {
   "cell_type": "code",
   "execution_count": null,
   "metadata": {
    "jupyter": {
     "source_hidden": true
    }
   },
   "outputs": [],
   "source": [
    "#Q Print the first 10 elements\n"
   ]
  },
  {
   "cell_type": "code",
   "execution_count": null,
   "metadata": {
    "jupyter": {
     "source_hidden": true
    }
   },
   "outputs": [],
   "source": [
    "num2 = [ x  for x in range(5,100,2) ]\n",
    "print(num2[:10])   # Or, print(num2[0:10])"
   ]
  },
  {
   "cell_type": "code",
   "execution_count": null,
   "metadata": {
    "jupyter": {
     "source_hidden": true
    }
   },
   "outputs": [],
   "source": [
    "#Q Print the last 10 elements\n"
   ]
  },
  {
   "cell_type": "code",
   "execution_count": null,
   "metadata": {
    "jupyter": {
     "source_hidden": true
    }
   },
   "outputs": [],
   "source": [
    "num2 = [ x  for x in range(5,100,2) ]\n",
    "print(num2[-10:])"
   ]
  },
  {
   "cell_type": "code",
   "execution_count": null,
   "metadata": {
    "jupyter": {
     "source_hidden": true
    }
   },
   "outputs": [],
   "source": [
    "#Q Combine num and num2 into a single list named num_all\n",
    "# Elements of num2 should come next to those in num\n"
   ]
  },
  {
   "cell_type": "code",
   "execution_count": null,
   "metadata": {
    "jupyter": {
     "source_hidden": true
    }
   },
   "outputs": [],
   "source": [
    "num = [ x for x in range(10,101)   ]\n",
    "num2 = [ x  for x in range(5,100,2) ]\n",
    "num_all = num + num2\n",
    "print(num_all)"
   ]
  },
  {
   "cell_type": "code",
   "execution_count": null,
   "metadata": {
    "jupyter": {
     "source_hidden": true
    }
   },
   "outputs": [],
   "source": [
    "#Q Swap 10th element (index 9) of num and 2th element (index 1) of num2\n"
   ]
  },
  {
   "cell_type": "code",
   "execution_count": null,
   "metadata": {
    "jupyter": {
     "source_hidden": true
    }
   },
   "outputs": [],
   "source": [
    "num = [ x for x in range(10,101)   ]\n",
    "num2 = [ x  for x in range(5,100,2) ]\n",
    "print(num[:10])\n",
    "print(num2[:10])\n",
    "num[9], num2[1] = num2[1], num[9]\n",
    "print(num[:10])\n",
    "print(num2[:10])\n"
   ]
  },
  {
   "cell_type": "code",
   "execution_count": null,
   "metadata": {
    "jupyter": {
     "source_hidden": true
    }
   },
   "outputs": [],
   "source": [
    "#Q Print the first 5 elements of num2 with its index\n"
   ]
  },
  {
   "cell_type": "code",
   "execution_count": null,
   "metadata": {
    "jupyter": {
     "source_hidden": true
    }
   },
   "outputs": [],
   "source": [
    "num2 = [ x  for x in range(5,100,2) ]\n",
    "for idx, x in enumerate(num2[:5]):\n",
    "    print(idx, x)"
   ]
  },
  {
   "cell_type": "code",
   "execution_count": null,
   "metadata": {
    "jupyter": {
     "source_hidden": true
    }
   },
   "outputs": [],
   "source": [
    "#Q Print the first 5 elements in a reverse order\n",
    "#  We did not learn this in the class, but very useful\n",
    "\n"
   ]
  },
  {
   "cell_type": "code",
   "execution_count": null,
   "metadata": {
    "jupyter": {
     "source_hidden": true
    }
   },
   "outputs": [],
   "source": [
    "num2 = [ x  for x in range(5,100,2) ]\n",
    "for x in reversed(num2[:5]):\n",
    "    print(x)"
   ]
  },
  {
   "cell_type": "code",
   "execution_count": null,
   "metadata": {
    "jupyter": {
     "source_hidden": true
    }
   },
   "outputs": [],
   "source": [
    "# bogus solution\n",
    "num2 = [ x  for x in range(5,100,2) ]\n",
    "print( num2[4:0:-1] )   # This does not work in Python\n"
   ]
  },
  {
   "cell_type": "code",
   "execution_count": null,
   "metadata": {
    "jupyter": {
     "source_hidden": true
    }
   },
   "outputs": [],
   "source": [
    "# Another simple way\n",
    "num2 = [ x  for x in range(5,100,2) ]\n",
    "for idx in range(4, -1, -1):\n",
    "    print(num2[idx])"
   ]
  },
  {
   "cell_type": "code",
   "execution_count": null,
   "metadata": {
    "jupyter": {
     "source_hidden": true
    }
   },
   "outputs": [],
   "source": [
    "#Challenge Question\n",
    "#  Print the first 5 elements of num2 with its index, in a reverse order\n",
    "\n"
   ]
  },
  {
   "cell_type": "code",
   "execution_count": null,
   "metadata": {
    "jupyter": {
     "source_hidden": true
    }
   },
   "outputs": [],
   "source": [
    "# bogus solution\n",
    "num2 = [ x  for x in range(5,100,2) ]\n",
    "for idx, x in enumerate(reversed(num2[:5])):\n",
    "    print(idx, x)"
   ]
  },
  {
   "cell_type": "code",
   "execution_count": null,
   "metadata": {
    "jupyter": {
     "source_hidden": true
    }
   },
   "outputs": [],
   "source": [
    "# Correct solution\n",
    "num2 = [ x  for x in range(5,100,2) ]\n",
    "for idx, x in reversed(   list( enumerate(num2[:5]) )   ):\n",
    "    print(idx, x)"
   ]
  },
  {
   "cell_type": "code",
   "execution_count": null,
   "metadata": {
    "jupyter": {
     "source_hidden": true
    }
   },
   "outputs": [],
   "source": [
    "# Another simple and correct solution\n",
    "num2 = [ x  for x in range(5,100,2) ]\n",
    "for idx in range(4, -1, -1):\n",
    "    print(idx, num2[idx])"
   ]
  },
  {
   "cell_type": "code",
   "execution_count": null,
   "metadata": {
    "jupyter": {
     "source_hidden": true
    }
   },
   "outputs": [],
   "source": [
    "#Q  Print the 2nd element (i.e. idx 1) of the 3rd element of the following list.\n",
    "k = [0, [1,2,3], ['A','B','C','D'],[45, 'D', 'Q', 21, 3.0]]\n"
   ]
  },
  {
   "cell_type": "code",
   "execution_count": null,
   "metadata": {
    "jupyter": {
     "source_hidden": true
    }
   },
   "outputs": [],
   "source": [
    "print(k[2][1])"
   ]
  },
  {
   "cell_type": "code",
   "execution_count": null,
   "metadata": {
    "jupyter": {
     "source_hidden": true
    }
   },
   "outputs": [],
   "source": [
    "#Q Print an error message if the type of k[2][0] and k[3][3] are not the same.\n",
    "k = [0, [1,2,3], ['A','B','C','D'],[45, 'D', 'Q', 21, 3.0]]\n"
   ]
  },
  {
   "cell_type": "code",
   "execution_count": null,
   "metadata": {
    "jupyter": {
     "source_hidden": true
    }
   },
   "outputs": [],
   "source": [
    "if type(k[2][0]) != type(k[3][3]):\n",
    "    print('Error: not the same type')"
   ]
  },
  {
   "cell_type": "code",
   "execution_count": null,
   "metadata": {
    "jupyter": {
     "source_hidden": true
    }
   },
   "outputs": [],
   "source": [
    "#Q Shallow copy k to m.\n",
    "k = [0, [1,2,3], ['A','B','C','D'],[45, 'D', 'Q', 21, 3.0]]\n"
   ]
  },
  {
   "cell_type": "code",
   "execution_count": null,
   "metadata": {
    "jupyter": {
     "source_hidden": true
    }
   },
   "outputs": [],
   "source": [
    "m = k.copy()\n",
    "print(m)"
   ]
  },
  {
   "cell_type": "code",
   "execution_count": null,
   "metadata": {
    "jupyter": {
     "source_hidden": true
    }
   },
   "outputs": [],
   "source": [
    "#Q If you shallow copy k to m, would modifying k[0] change m[0] as well?\n",
    "k = [0, [1,2,3], ['A','B','C','D'],[45, 'D', 'Q', 21, 3.0]]\n"
   ]
  },
  {
   "cell_type": "code",
   "execution_count": null,
   "metadata": {
    "jupyter": {
     "source_hidden": true
    }
   },
   "outputs": [],
   "source": [
    "# No.\n",
    "# Changing non-nested element of k won't change that of m.\n",
    "k = [0, [1,2,3], ['A','B','C','D'],[45, 'D', 'Q', 21, 3.0]]\n",
    "m = k.copy()\n",
    "k[0] = 'Z'\n",
    "print(k)\n",
    "print(m)"
   ]
  },
  {
   "cell_type": "code",
   "execution_count": null,
   "metadata": {
    "jupyter": {
     "source_hidden": true
    }
   },
   "outputs": [],
   "source": [
    "#Q If you shallow copy k to m, would modifying k[1][0] change m[1][0] as well?\n",
    "k = [0, [1,2,3], ['A','B','C','D'],[45, 'D', 'Q', 21, 3.0]]\n"
   ]
  },
  {
   "cell_type": "code",
   "execution_count": null,
   "metadata": {
    "jupyter": {
     "source_hidden": true
    }
   },
   "outputs": [],
   "source": [
    "# Yes.\n",
    "# Changing an element in the nested list will change m's element \n",
    "# because this is a shallow copy.\n",
    "k = [0, [1,2,3], ['A','B','C','D'],[45, 'D', 'Q', 21, 3.0]]\n",
    "m = k.copy()\n",
    "k[1][0]='A'\n",
    "print(k)\n",
    "print(m)"
   ]
  },
  {
   "cell_type": "markdown",
   "metadata": {},
   "source": [
    "---\n",
    "\n",
    "This practice should give you a basic idea of how to manipulate Lists. I recommend practicing a few times to get a good grasp of it. Consider these operations as be-, do-, or have- verbs in Python. It is worth memorizing.\n",
    "\n",
    "Also, it helps a lot if you can build your own mental model of how Lists are organized and manipulated in the memory.\n",
    "\n",
    "Of course, this is not everything. I only included essential operations. For more details, see the official [Python document](https://docs.python.org/3/tutorial/datastructures.html).\n",
    "\n",
    "---"
   ]
  },
  {
   "cell_type": "markdown",
   "metadata": {},
   "source": [
    "## Dictionaries"
   ]
  },
  {
   "cell_type": "code",
   "execution_count": null,
   "metadata": {
    "jupyter": {
     "source_hidden": true
    }
   },
   "outputs": [],
   "source": [
    "#Q Make a dictionary named var. For a key 'A', value is [1,2], for 'B', it is 2, for 'C', it is 'abc'.\n"
   ]
  },
  {
   "cell_type": "code",
   "execution_count": null,
   "metadata": {
    "jupyter": {
     "source_hidden": true
    }
   },
   "outputs": [],
   "source": [
    "var = {'A':[1,2], 'B':2, 'C':'abc'}\n",
    "print(var)"
   ]
  },
  {
   "cell_type": "code",
   "execution_count": null,
   "metadata": {
    "jupyter": {
     "source_hidden": true
    }
   },
   "outputs": [],
   "source": [
    "#Q Add another key 'D' with an empty list\n"
   ]
  },
  {
   "cell_type": "code",
   "execution_count": null,
   "metadata": {
    "jupyter": {
     "source_hidden": true
    }
   },
   "outputs": [],
   "source": [
    "var = {'A':[1,2], 'B':2, 'C':'abc'}\n",
    "var['D']=[]\n",
    "print(var)"
   ]
  },
  {
   "cell_type": "code",
   "execution_count": null,
   "metadata": {
    "jupyter": {
     "source_hidden": true
    }
   },
   "outputs": [],
   "source": [
    "#Q Can you make a key [0,1] with a value[2,3]?\n"
   ]
  },
  {
   "cell_type": "code",
   "execution_count": null,
   "metadata": {
    "jupyter": {
     "source_hidden": true
    }
   },
   "outputs": [],
   "source": [
    "#No. Lists cannot be a key. The following code generates an error\n",
    "x = {[0,1]:[2,3]}"
   ]
  },
  {
   "cell_type": "code",
   "execution_count": null,
   "metadata": {
    "jupyter": {
     "source_hidden": true
    }
   },
   "outputs": [],
   "source": [
    "#Q Print keys\n"
   ]
  },
  {
   "cell_type": "code",
   "execution_count": null,
   "metadata": {
    "jupyter": {
     "source_hidden": true
    }
   },
   "outputs": [],
   "source": [
    "print( var.keys() )"
   ]
  },
  {
   "cell_type": "code",
   "execution_count": null,
   "metadata": {
    "jupyter": {
     "source_hidden": true
    }
   },
   "outputs": [],
   "source": [
    "# Or,\n",
    "\n",
    "for key in var.keys():\n",
    "    print(key)"
   ]
  },
  {
   "cell_type": "code",
   "execution_count": null,
   "metadata": {
    "jupyter": {
     "source_hidden": true
    }
   },
   "outputs": [],
   "source": [
    "#Q Add another key 10 with value 'X'\n"
   ]
  },
  {
   "cell_type": "code",
   "execution_count": null,
   "metadata": {
    "jupyter": {
     "source_hidden": true
    }
   },
   "outputs": [],
   "source": [
    "var = {'A':[1,2], 'B':2, 'C':'abc'}\n",
    "var[10] = 'X'\n",
    "print(var)"
   ]
  },
  {
   "cell_type": "code",
   "execution_count": null,
   "metadata": {
    "jupyter": {
     "source_hidden": true
    }
   },
   "outputs": [],
   "source": [
    "#Or, use update()\n",
    "var = {'A':[1,2], 'B':2, 'C':'abc'}\n",
    "var.update({10:'X', 11:'Y', 12:'Z'})    # The argument to the function update() should be a dictionary\n",
    "print(var)\n",
    "\n",
    "# Q without answer: Can you add a key 'A' with a value [5,6,7]? If so, what happens?"
   ]
  },
  {
   "cell_type": "code",
   "execution_count": null,
   "metadata": {
    "jupyter": {
     "source_hidden": true
    }
   },
   "outputs": [],
   "source": [
    "#Q Add a number 100 to the value of key 'A'\n"
   ]
  },
  {
   "cell_type": "code",
   "execution_count": null,
   "metadata": {
    "jupyter": {
     "source_hidden": true
    }
   },
   "outputs": [],
   "source": [
    "var = {'A':[1,2], 'B':2, 'C':'abc'}\n",
    "var['A'].append(100)\n",
    "print(var)"
   ]
  },
  {
   "cell_type": "code",
   "execution_count": null,
   "metadata": {
    "jupyter": {
     "source_hidden": true
    }
   },
   "outputs": [],
   "source": [
    "#Q Can you access the value of key 'K' of the following dictionary?\n",
    "var = {'A':[1,2], 'B':2, 'C':'abc'}\n"
   ]
  },
  {
   "cell_type": "code",
   "execution_count": null,
   "metadata": {
    "jupyter": {
     "source_hidden": true
    }
   },
   "outputs": [],
   "source": [
    "#No. It generates an error because there is no such key\n",
    "var = {'A':[1,2], 'B':2, 'C':'abc'}\n",
    "var['K']"
   ]
  },
  {
   "cell_type": "code",
   "execution_count": null,
   "metadata": {
    "jupyter": {
     "source_hidden": true
    }
   },
   "outputs": [],
   "source": [
    "#Q Check if there is a key 'A' in var\n"
   ]
  },
  {
   "cell_type": "code",
   "execution_count": null,
   "metadata": {
    "jupyter": {
     "source_hidden": true
    }
   },
   "outputs": [],
   "source": [
    "var = {'A':[1,2], 'B':2, 'C':'abc'}\n",
    "print('A' in var)\n",
    "print('A' not in var)"
   ]
  },
  {
   "cell_type": "code",
   "execution_count": null,
   "metadata": {
    "jupyter": {
     "source_hidden": true
    }
   },
   "outputs": [],
   "source": [
    "#Q Print values of var\n"
   ]
  },
  {
   "cell_type": "code",
   "execution_count": null,
   "metadata": {
    "jupyter": {
     "source_hidden": true
    }
   },
   "outputs": [],
   "source": [
    "print(var.values())"
   ]
  },
  {
   "cell_type": "code",
   "execution_count": null,
   "metadata": {
    "jupyter": {
     "source_hidden": true
    }
   },
   "outputs": [],
   "source": [
    "# Or\n",
    "var = {'A':[1,2], 'B':2, 'C':'abc'}\n",
    "for v in var.values():\n",
    "    print(v)"
   ]
  },
  {
   "cell_type": "code",
   "execution_count": null,
   "metadata": {
    "jupyter": {
     "source_hidden": true
    }
   },
   "outputs": [],
   "source": [
    "#Q Remove 'A' and its value from var\n"
   ]
  },
  {
   "cell_type": "code",
   "execution_count": null,
   "metadata": {
    "jupyter": {
     "source_hidden": true
    }
   },
   "outputs": [],
   "source": [
    "var = {'A':[1,2], 'B':2, 'C':'abc'}\n",
    "print(var)\n",
    "del( var['A'] )\n",
    "print(var)"
   ]
  },
  {
   "cell_type": "code",
   "execution_count": null,
   "metadata": {
    "jupyter": {
     "source_hidden": true
    }
   },
   "outputs": [],
   "source": [
    "#Q Remove the first element of the value of 'A'\n"
   ]
  },
  {
   "cell_type": "code",
   "execution_count": null,
   "metadata": {
    "jupyter": {
     "source_hidden": true
    }
   },
   "outputs": [],
   "source": [
    "# Multiple answers\n",
    "var = {'A':[1,2], 'B':2, 'C':'abc'}\n",
    "del(var['A'][0])\n",
    "print(var)"
   ]
  },
  {
   "cell_type": "code",
   "execution_count": null,
   "metadata": {
    "jupyter": {
     "source_hidden": true
    }
   },
   "outputs": [],
   "source": [
    "# Or\n",
    "var = {'A':[1,2], 'B':2, 'C':'abc'}\n",
    "a = var['A'].pop(0)\n",
    "print(a)\n",
    "print(var)"
   ]
  },
  {
   "cell_type": "code",
   "execution_count": null,
   "metadata": {
    "jupyter": {
     "source_hidden": true
    }
   },
   "outputs": [],
   "source": [
    "#Q Insert a value 'm' to the end of the list in 'A'\n"
   ]
  },
  {
   "cell_type": "code",
   "execution_count": null,
   "metadata": {
    "jupyter": {
     "source_hidden": true
    }
   },
   "outputs": [],
   "source": [
    "var = {'A':[1,2], 'B':2, 'C':'abc'}\n",
    "var['A'].append('m')\n",
    "print(var)"
   ]
  },
  {
   "cell_type": "code",
   "execution_count": null,
   "metadata": {
    "jupyter": {
     "source_hidden": true
    }
   },
   "outputs": [],
   "source": [
    "#Q Make a dictionary, named \"dic\", with a key 1 with a value ['A','B','C'], a key 21 with a value 3.14, a key 'Q' with a value [7, 'x', 4.6]\n"
   ]
  },
  {
   "cell_type": "code",
   "execution_count": null,
   "metadata": {
    "jupyter": {
     "source_hidden": true
    }
   },
   "outputs": [],
   "source": [
    "dic = {1:['A','B','C'], 21:3.14, 'Q':[7, 'x', 4.6]}\n",
    "print(dic)"
   ]
  },
  {
   "cell_type": "code",
   "execution_count": null,
   "metadata": {
    "jupyter": {
     "source_hidden": true
    }
   },
   "outputs": [],
   "source": [
    "#Q combine \"dic\" and \"var\"\n",
    "\n"
   ]
  },
  {
   "cell_type": "code",
   "execution_count": null,
   "metadata": {
    "jupyter": {
     "source_hidden": true
    }
   },
   "outputs": [],
   "source": [
    "dic = {1:['A','B','C'], 21:3.14, 'Q':[7, 'x', 4.6]}\n",
    "var = {'A':[1,2], 'B':2, 'C':'abc'}\n",
    "dic.update(var)\n",
    "print(dic)\n",
    "\n",
    "# Or,\n",
    "dic = {1:['A','B','C'], 21:3.14, 'Q':[7, 'x', 4.6]}\n",
    "var = {'A':[1,2], 'B':2, 'C':'abc'}\n",
    "var.update(dic)\n",
    "print(var)\n",
    "\n",
    "# The first solution and the second solution look different (different order in print),\n",
    "#  but they behave identically because dictionary does not have any order."
   ]
  },
  {
   "cell_type": "code",
   "execution_count": null,
   "metadata": {
    "jupyter": {
     "source_hidden": true
    }
   },
   "outputs": [],
   "source": [
    "#Q Print pairs of key and values of dic\n"
   ]
  },
  {
   "cell_type": "code",
   "execution_count": null,
   "metadata": {
    "jupyter": {
     "source_hidden": true
    }
   },
   "outputs": [],
   "source": [
    "dic = {1:['A','B','C'], 21:3.14, 'Q':[7, 'x', 4.6]}\n",
    "for k, v in dic.items():\n",
    "    print(k,v)"
   ]
  },
  {
   "cell_type": "code",
   "execution_count": null,
   "metadata": {
    "jupyter": {
     "source_hidden": true
    }
   },
   "outputs": [],
   "source": [
    "# Or\n",
    "dic = {1:['A','B','C'], 21:3.14, 'Q':[7, 'x', 4.6]}\n",
    "for k in dic.keys():\n",
    "    print(k, dic[k])"
   ]
  },
  {
   "cell_type": "code",
   "execution_count": null,
   "metadata": {
    "jupyter": {
     "source_hidden": true
    }
   },
   "outputs": [],
   "source": [
    "#Q Make a dictionary sq from two lists as shown below.\n",
    "keys = [ n for n in range(100)] # for keys\n",
    "vals = [ n**2 for n in range(100)]  # for values\n"
   ]
  },
  {
   "cell_type": "code",
   "execution_count": null,
   "metadata": {
    "jupyter": {
     "source_hidden": true
    }
   },
   "outputs": [],
   "source": [
    "keys = [ n for n in range(100)] # for keys\n",
    "vals = [ n**2 for n in range(100)]  # for values\n",
    "sq = { }\n",
    "for idx, k in enumerate(keys):\n",
    "    sq.update({k:vals[idx]})\n",
    "    # sq[k]=vals[idx]  # This works as well\n",
    "print(sq)"
   ]
  },
  {
   "cell_type": "code",
   "execution_count": null,
   "metadata": {
    "jupyter": {
     "source_hidden": true
    }
   },
   "outputs": [],
   "source": [
    "# Or, using comprehension\n",
    "keys = [ n for n in range(100)] # for keys\n",
    "vals = [ n**2 for n in range(100)]  # for values\n",
    "sq = {  k:vals[idx]   for idx, k in enumerate(keys) }\n",
    "print(sq)"
   ]
  },
  {
   "cell_type": "code",
   "execution_count": null,
   "metadata": {
    "jupyter": {
     "source_hidden": true
    }
   },
   "outputs": [],
   "source": [
    "# Or\n",
    "keys = [ n for n in range(100)] # for keys\n",
    "vals = [ n**2 for n in range(100)]  # for values\n",
    "sq = dict(zip(keys, vals))\n",
    "print(sq)\n",
    "# This is a very commonly used idiom."
   ]
  },
  {
   "cell_type": "code",
   "execution_count": null,
   "metadata": {
    "jupyter": {
     "source_hidden": true
    }
   },
   "outputs": [],
   "source": [
    "#Q  Swap key and value pair in sq\n"
   ]
  },
  {
   "cell_type": "code",
   "execution_count": null,
   "metadata": {
    "jupyter": {
     "source_hidden": true
    }
   },
   "outputs": [],
   "source": [
    "keys = [ n for n in range(100)] # for keys\n",
    "vals = [ n**2 for n in range(100)]  # for values\n",
    "sq = dict(zip(keys, vals))\n",
    "\n",
    "sq_swap = { v:k  for k, v in sq.items()    }\n",
    "print(sq_swap)"
   ]
  },
  {
   "cell_type": "code",
   "execution_count": null,
   "metadata": {
    "jupyter": {
     "source_hidden": true
    }
   },
   "outputs": [],
   "source": [
    "# Or\n",
    "keys = [ n for n in range(100)] # for keys\n",
    "vals = [ n**2 for n in range(100)]  # for values\n",
    "sq = dict(zip(keys, vals))\n",
    "\n",
    "sq_swap = { sq[k]:k  for k in sq.keys()    }\n",
    "print(sq_swap)"
   ]
  },
  {
   "cell_type": "markdown",
   "metadata": {},
   "source": [
    "---\n",
    "\n",
    "This should have given you a good idea of how to manipulate Dictionaries.\n",
    "\n",
    "---"
   ]
  },
  {
   "cell_type": "markdown",
   "metadata": {},
   "source": [
    "## Functions"
   ]
  },
  {
   "cell_type": "code",
   "execution_count": null,
   "metadata": {
    "jupyter": {
     "source_hidden": true
    }
   },
   "outputs": [],
   "source": [
    "#Q Write a function \"mul2()\" that multiply two values, and returns the result.\n"
   ]
  },
  {
   "cell_type": "code",
   "execution_count": null,
   "metadata": {
    "jupyter": {
     "source_hidden": true
    }
   },
   "outputs": [],
   "source": [
    "def mul2(a,b):\n",
    "    return a*b\n",
    "\n",
    "print( mul2(2,3)  )"
   ]
  },
  {
   "cell_type": "code",
   "execution_count": null,
   "metadata": {
    "jupyter": {
     "source_hidden": true
    }
   },
   "outputs": [],
   "source": [
    "#Q Write a function, \"mull()\" that does the following things.\n",
    "#  1. Checks if the first argument is a list. If so, prints the last element. If not print error.\n",
    "#  2. If the first argument is a list, it multiplies the 2nd argument to all elements of the first list and print them.\n",
    "#  3. This function does not return any value.\n"
   ]
  },
  {
   "cell_type": "code",
   "execution_count": null,
   "metadata": {
    "jupyter": {
     "source_hidden": true
    }
   },
   "outputs": [],
   "source": [
    "def mull(a,b):\n",
    "    if type(a) == type(list()):\n",
    "        print(a[-1])\n",
    "        for idx in range(len(a)):\n",
    "            a[idx] *= b\n",
    "        print(a)\n",
    "    else:\n",
    "        print(\"Error: not a list\")\n",
    "\n",
    "mull([1,2,3], 4)\n",
    "print('-----------')\n",
    "mull(1,4)"
   ]
  },
  {
   "cell_type": "code",
   "execution_count": null,
   "metadata": {
    "jupyter": {
     "source_hidden": true
    }
   },
   "outputs": [],
   "source": [
    "#Q Write a function \"comp2()\"\n",
    "# 1. Receives two numerical lists\n",
    "# 2. Compares elements in two lists at the same position\n",
    "# 3. If the same, print Same, otherwise, Different\n"
   ]
  },
  {
   "cell_type": "code",
   "execution_count": null,
   "metadata": {
    "jupyter": {
     "source_hidden": true
    }
   },
   "outputs": [],
   "source": [
    "def comp2(a,b):\n",
    "    for i in range(len(a)):\n",
    "        if a[i]==b[i]:\n",
    "            print(\"Same\")\n",
    "        else:\n",
    "            print(\"Different\")\n",
    "            \n",
    "comp2([1,2,3],[1,3,3])"
   ]
  },
  {
   "cell_type": "code",
   "execution_count": null,
   "metadata": {
    "jupyter": {
     "source_hidden": true
    }
   },
   "outputs": [],
   "source": [
    "#Q In the function, comp2() defined above, check if the lengths of two lists are the same.\n",
    "#  If not, print an error message and finish.\n"
   ]
  },
  {
   "cell_type": "code",
   "execution_count": null,
   "metadata": {
    "jupyter": {
     "source_hidden": true
    }
   },
   "outputs": [],
   "source": [
    "def comp2(a,b):\n",
    "    if len(a) != len(b):\n",
    "        print(\"Error: not the same length\")\n",
    "        return\n",
    "    for i in range(len(a)):\n",
    "        if a[i]==b[i]:\n",
    "            print(\"Same\")\n",
    "        else:\n",
    "            print(\"Different\")\n",
    "            \n",
    "comp2([1,2,3],[1,3,3])\n",
    "print('--------------')\n",
    "comp2([1,2,3],[1,3])"
   ]
  },
  {
   "cell_type": "code",
   "execution_count": null,
   "metadata": {
    "jupyter": {
     "source_hidden": true
    }
   },
   "outputs": [],
   "source": [
    "#Q In the function mull(a,b) above, give a devault value 1 to the argument b.\n"
   ]
  },
  {
   "cell_type": "code",
   "execution_count": null,
   "metadata": {
    "jupyter": {
     "source_hidden": true
    }
   },
   "outputs": [],
   "source": [
    "def mull(a, b = 1):\n",
    "    if type(a) == type(list()):\n",
    "        print(a[-1])\n",
    "        for idx in range(len(a)):\n",
    "            a[idx] *= b\n",
    "        print(a)\n",
    "    else:\n",
    "        print(\"Error: not a list\")\n",
    "\n",
    "mull([1,2,3], 4)\n",
    "print('-----------')\n",
    "mull(1,4)"
   ]
  },
  {
   "cell_type": "code",
   "execution_count": null,
   "metadata": {
    "jupyter": {
     "source_hidden": true
    }
   },
   "outputs": [],
   "source": [
    "#Q Is it possible to use mull(a,b) like below without an error?\n",
    "mull(b=4, a=[1,2,3])"
   ]
  },
  {
   "cell_type": "code",
   "execution_count": null,
   "metadata": {
    "jupyter": {
     "source_hidden": true
    }
   },
   "outputs": [],
   "source": [
    "#Yes. The name of argument was used to avoid confusion.\n",
    "# It is exactly the same as\n",
    "mull([1,2,3], 4)"
   ]
  },
  {
   "cell_type": "code",
   "execution_count": null,
   "metadata": {
    "jupyter": {
     "source_hidden": true
    }
   },
   "outputs": [],
   "source": [
    "#Q Write a funciton, sqr(), that\n",
    "# 1. Receives a list\n",
    "# 2. Squares each element\n",
    "# 3. Does not return anything\n",
    "# 4. But the caller should see the change in the original list\n"
   ]
  },
  {
   "cell_type": "code",
   "execution_count": null,
   "metadata": {
    "jupyter": {
     "source_hidden": true
    }
   },
   "outputs": [],
   "source": [
    "# There is no special thing to do in the function because the original list will change if we don't make a copy.\n",
    "def sqr(a):\n",
    "    for i in range(len(a)):\n",
    "        a[i] *= a[i]\n",
    "        \n",
    "l = [1,2,3]\n",
    "sqr(l)\n",
    "print(l)"
   ]
  },
  {
   "cell_type": "code",
   "execution_count": null,
   "metadata": {
    "jupyter": {
     "source_hidden": true
    }
   },
   "outputs": [],
   "source": [
    "#Q Write a funciton, sqr_c(), that\n",
    "# 1. Receives a numerical list\n",
    "# 2. Squares each element\n",
    "# 3. Returns the result\n",
    "# 4. The caller should NOT see the change in the original list\n"
   ]
  },
  {
   "cell_type": "code",
   "execution_count": null,
   "metadata": {
    "jupyter": {
     "source_hidden": true
    }
   },
   "outputs": [],
   "source": [
    "def sqr_c(a):\n",
    "    b = a.copy()\n",
    "    for i in range(len(b)):\n",
    "        b[i] *= b[i]\n",
    "    return b\n",
    "        \n",
    "l = [1,2,3]\n",
    "m = sqr_c(l)\n",
    "print(l)\n",
    "print(m)"
   ]
  }
 ],
 "metadata": {
  "kernelspec": {
   "display_name": "Python 3",
   "language": "python",
   "name": "python3"
  },
  "language_info": {
   "codemirror_mode": {
    "name": "ipython",
    "version": 3
   },
   "file_extension": ".py",
   "mimetype": "text/x-python",
   "name": "python",
   "nbconvert_exporter": "python",
   "pygments_lexer": "ipython3",
   "version": "3.7.4"
  }
 },
 "nbformat": 4,
 "nbformat_minor": 4
}

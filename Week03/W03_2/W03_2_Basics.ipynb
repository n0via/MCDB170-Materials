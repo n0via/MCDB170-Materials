{
 "cells": [
  {
   "cell_type": "markdown",
   "metadata": {},
   "source": [
    "# *DNA sequence analysis: Basics*\n",
    "\n",
    "<sub><sub>Acknowledgement: Many parts of this notebook follows the contents of \"Illustrating Python via Bioinformatics Examples\", 2015, by Hans Petter Langtangen, Geir Kjetil Sandve.</sub></sub>\n",
    "\n",
    "---\n"
   ]
  },
  {
   "cell_type": "markdown",
   "metadata": {},
   "source": [
    "### **Let's write a function generating a random DNA sequence.**\n",
    "\n",
    "Bioinformatics, especially for topics in DNA sequences, is to find regular or repeating patterns in the DNA sequence. What are such patterns and what are prominent properties of such patterns? The most obvious property is that such **patterns are not likely to be found in a random sequence**.<br>\n",
    "\n",
    "How can we find such patterns? This is the question that drives the entire field of bioinformatics. Interestingly enough, however, there is a very obvious way to begin with: We compare a real DNA sequence to many randomly generated sequences of DNA. Simple, isn't it? Of course, there are a ton of different methods in bioinformatics. Yet, many of them are built upon statistical comparison between a real and random DNA sequences.<br>\n",
    "\n",
    "An issue then, is how to generate such random sequence, fast and efficiently. The following demonstration is an exercise to use a few language features of Python to write concise, yet easy to understand code.\n",
    "\n",
    "Note: `%timeit` will measure the average execution time. (Any assignment operation is ignored with `%timeit`.)<br>\n",
    "`%time` simply measure the time taken for a single execution of a statement."
   ]
  },
  {
   "cell_type": "code",
   "execution_count": null,
   "metadata": {},
   "outputs": [],
   "source": [
    "# You already wrote a similar function in the HW1.\n",
    "# Below is a slight variation, but the idea behind it is the same.\n",
    "\n",
    "from random import seed\n",
    "from random import random\n",
    "from math import ceil\n",
    "\n",
    "seed(100)\n",
    "def rand_base():\n",
    "    a = ceil(random()*4)\n",
    "    while(a == 0.0):\n",
    "        a = ceil(random()*4)\n",
    "    if a==1:\n",
    "        b = 'A'\n",
    "    elif a==2:\n",
    "        b = 'T'\n",
    "    elif a==3:\n",
    "        b = 'C'\n",
    "    else:\n",
    "        b = 'G'\n",
    "    return b\n",
    "\n",
    "def rand_dna_seq(n):\n",
    "    s = ''\n",
    "    for idx in range(n):\n",
    "        s += rand_base()\n",
    "    return s"
   ]
  },
  {
   "cell_type": "code",
   "execution_count": null,
   "metadata": {},
   "outputs": [],
   "source": [
    "%timeit rand_dna_seq(100)\n",
    "seq = rand_dna_seq(100)\n",
    "print(seq)"
   ]
  },
  {
   "cell_type": "code",
   "execution_count": null,
   "metadata": {},
   "outputs": [],
   "source": [
    "# Let's simplify by replacing the if-elif-else clause\n",
    "\n",
    "def rand_base():\n",
    "    a = ceil(random()*4)\n",
    "    s = 'ATGC'\n",
    "    return s[a-1]\n",
    "\n",
    "def rand_dna_seq(n):\n",
    "    s = ''\n",
    "    for idx in range(n):\n",
    "        s += rand_base()\n",
    "    return s"
   ]
  },
  {
   "cell_type": "code",
   "execution_count": null,
   "metadata": {},
   "outputs": [],
   "source": [
    "%timeit rand_dna_seq(100)\n",
    "seq = rand_dna_seq(100)\n",
    "print(seq)"
   ]
  },
  {
   "cell_type": "code",
   "execution_count": null,
   "metadata": {},
   "outputs": [],
   "source": [
    "# We can also replace ceil with floor to remove '-1'.\n",
    "# This doesn't save much time, but the code is cleaner.\n",
    "\n",
    "from math import floor\n",
    "def rand_base():\n",
    "    s = 'ATGC'\n",
    "    return s[floor(random()*4)]\n",
    "\n",
    "def rand_dna_seq(n):\n",
    "    return ''.join(rand_base() for idx in range(n))"
   ]
  },
  {
   "cell_type": "code",
   "execution_count": null,
   "metadata": {},
   "outputs": [],
   "source": [
    "%timeit rand_dna_seq(100)\n",
    "seq = rand_dna_seq(100)\n",
    "print(seq)"
   ]
  },
  {
   "cell_type": "code",
   "execution_count": null,
   "metadata": {},
   "outputs": [],
   "source": [
    "# Knowing that the random function is very simple, we can combine two functions.\n",
    "\n",
    "from math import floor\n",
    "def rand_dna_seq(n):\n",
    "    s = 'ATGC'\n",
    "    return ''.join([s[floor(random()*4)] for idx in range(n)])"
   ]
  },
  {
   "cell_type": "code",
   "execution_count": null,
   "metadata": {},
   "outputs": [],
   "source": [
    "%timeit rand_dna_seq(100)\n",
    "seq = rand_dna_seq(100)\n",
    "print(seq)"
   ]
  },
  {
   "cell_type": "code",
   "execution_count": null,
   "metadata": {},
   "outputs": [],
   "source": [
    "# There is a function `choice()` that performs the same task.\n",
    "# However, it seems quite slower than our implementation.\n",
    "\n",
    "from random import choice\n",
    "def rand_dna_seq(n):\n",
    "    s = 'ATGC'\n",
    "    return ''.join([choice(s) for idx in range(n)])"
   ]
  },
  {
   "cell_type": "code",
   "execution_count": null,
   "metadata": {},
   "outputs": [],
   "source": [
    "%timeit rand_dna_seq(100)\n",
    "seq = rand_dna_seq(100)\n",
    "print(seq)"
   ]
  },
  {
   "cell_type": "markdown",
   "metadata": {},
   "source": [
    "\n",
    "---\n",
    "\n",
    "### **Counting bases in sequences**\n",
    "\n",
    "Counting the number of bases is a very common task in bioinformatics. \n",
    "\n",
    "In homework 1, we already have implemented it. Let's see how we can simplify it."
   ]
  },
  {
   "cell_type": "code",
   "execution_count": null,
   "metadata": {},
   "outputs": [],
   "source": [
    "# We have implemented this function in HW1.\n",
    "\n",
    "def base_count(seq, base):\n",
    "    count = 0\n",
    "    for b in seq:\n",
    "        if b == base:\n",
    "            count += 1\n",
    "    return count\n",
    "\n",
    "DNA_seq_rand = rand_dna_seq(100)\n",
    "%timeit base_count(DNA_seq_rand, 'A')\n",
    "k = base_count(DNA_seq_rand, 'A')\n",
    "print('A:', k)"
   ]
  },
  {
   "cell_type": "code",
   "execution_count": null,
   "metadata": {},
   "outputs": [],
   "source": [
    "# Just to show that it can be simplified.\n",
    "# Note that `sum()` function converts `True` and `False` to `1` and `0`.\n",
    "\n",
    "def base_count(dna, base):\n",
    "    m = [] # empty list\n",
    "    # Using boolean, then sum at the end\n",
    "    for c in dna:\n",
    "        m.append(True if c == base else False)\n",
    "        # m.append(c == base)  # This is simpler\n",
    "        \n",
    "    return sum(m)\n",
    "\n",
    "DNA_seq_rand = rand_dna_seq(100)\n",
    "%timeit base_count(DNA_seq_rand, 'A')\n",
    "k = base_count(DNA_seq_rand, 'A')\n",
    "print('A:', k)"
   ]
  },
  {
   "cell_type": "code",
   "execution_count": null,
   "metadata": {},
   "outputs": [],
   "source": [
    "# We can even further simplify the code using list comprehension\n",
    "\n",
    "def base_count(seq, base):\n",
    "    return sum([c == base for c in seq]) # using comprehension\n",
    "\n",
    "# Try Pythontutor.com to see what is going on.\n",
    "# (See string_err_fileIO_debugging.ipynb for more details)\n",
    "\n",
    "DNA_seq_rand = rand_dna_seq(100)\n",
    "%timeit base_count(DNA_seq_rand, 'A')\n",
    "k = base_count(DNA_seq_rand, 'A')\n",
    "print('A:', k)"
   ]
  },
  {
   "cell_type": "markdown",
   "metadata": {},
   "source": [
    "#### **Generator expression**\n",
    "\n",
    "A way to save additional memory operations."
   ]
  },
  {
   "cell_type": "code",
   "execution_count": null,
   "metadata": {},
   "outputs": [],
   "source": [
    "# In case the sequence is extremely long, the memory can be an issue.\n",
    "# Above code uses list comprehension to generate a list before summation.\n",
    "#\n",
    "# If this list is big, then it can be a problem.\n",
    "# By removing `[]`, as shown below the following code directly send\n",
    "# individual value to `sum()` funciton, which can accumulate the values.\n",
    "# Because there is no list being made, the memory is saved.\n",
    "# This style of code is called \"Generator expression\" in Python.\n",
    "#\n",
    "# There is a penalty though. In the function above, the `sum()`\n",
    "# is called once. Therefore, addition could be distributed across many\n",
    "# availalbe computation units, speed up the summation several folds.\n",
    "# However, with the implementation shown below, that's not possible.\n",
    "\n",
    "\n",
    "def base_count(seq, base):\n",
    "    return sum(c == base for c in seq)  # Generator: saves memory during execution.\n",
    "                                        \n",
    "\n",
    "# Try Pythontutor.com to see what is different from the previous implementation.\n",
    "# (See string_err_fileIO_debugging.ipynb for more details)\n",
    "\n",
    "DNA_seq_rand = rand_dna_seq(100)\n",
    "%timeit base_count(DNA_seq_rand, 'A')\n",
    "k = base_count(DNA_seq_rand, 'A')\n",
    "print('A:', k)"
   ]
  },
  {
   "cell_type": "code",
   "execution_count": null,
   "metadata": {},
   "outputs": [],
   "source": [
    "# If we use a number `1` instead of `True`, we can save the time for\n",
    "# converting Boolean values to integers before summation.\n",
    "\n",
    "def base_count(seq, base):\n",
    "    return sum(1 for c in seq if c == base) # Again, with generator expression, you can save memory during runtime.\n",
    "\n",
    "# Try Pythontutor.com to see what is different from the previous implementation.\n",
    "# (See string_err_fileIO_debugging.ipynb for more details)\n",
    "\n",
    "DNA_seq_rand = rand_dna_seq(100)\n",
    "%timeit base_count(DNA_seq_rand, 'A')\n",
    "k = base_count(DNA_seq_rand, 'A')\n",
    "print('A:', k)"
   ]
  },
  {
   "cell_type": "code",
   "execution_count": null,
   "metadata": {},
   "outputs": [],
   "source": [
    "# Ultimately though, counting a letter in a string is a very common task.\n",
    "# So, there is a string function: `count()`, which is more than 20 times faster.\n",
    "\n",
    "DNA_seq_rand = rand_dna_seq(100)\n",
    "%timeit DNA_seq_rand.count('A')\n",
    "k = DNA_seq_rand.count('A')\n",
    "print('A:', k)"
   ]
  },
  {
   "cell_type": "code",
   "execution_count": null,
   "metadata": {},
   "outputs": [],
   "source": [
    "# cf) `count()` function can compare string with a non-zero length.\n",
    "DNA_seq_rand = rand_dna_seq(100)\n",
    "%timeit DNA_seq_rand.count('ATGC')\n",
    "k = DNA_seq_rand.count('ATGC')\n",
    "print('A:', k)"
   ]
  },
  {
   "cell_type": "markdown",
   "metadata": {},
   "source": [
    "---\n",
    "\n",
    "### **Frequency matrix**\n",
    "\n",
    "\n",
    "Gene expression is regulated by molecules called **transcription factors** that attach to DNA and turn nearby genes on and off. These molecules bind preferentially to a few specific sequences. This binding preferences can be represented by a table, called **frequency table**. \n",
    "\n",
    "For example, if a transcription factor binds to the following sequences: TAG, GGT, and GGG, the frequency table becomes\n",
    "\n",
    "<table style=\"width:100%\">\n",
    "  <tr>\n",
    "    <th>Position in seq ---> </th>\n",
    "    <th>0</th>\n",
    "    <th>1</th>\n",
    "    <th>2</th>\n",
    "  </tr>\n",
    "  <tr>\n",
    "    <td align=\"center\"><b>A</b></td>\n",
    "    <td align=\"center\">0</td>\n",
    "    <td align=\"center\">1</td>\n",
    "    <td align=\"center\">0</td>\n",
    "  </tr>\n",
    "  <tr>\n",
    "    <td align=\"center\"><b>C</b></td>\n",
    "    <td align=\"center\">0</td>\n",
    "    <td align=\"center\">0</td>\n",
    "    <td align=\"center\">0</td>\n",
    "  </tr>\n",
    "  <tr>\n",
    "    <td align=\"center\"><b>G</b></td>\n",
    "    <td align=\"center\">2</td>\n",
    "    <td align=\"center\">2</td>\n",
    "    <td align=\"center\">2</td>\n",
    "  </tr>\n",
    "  <tr>\n",
    "    <td align=\"center\"><b>T</b></td>\n",
    "    <td align=\"center\">1</td>\n",
    "    <td align=\"center\">0</td>\n",
    "    <td align=\"center\">1</td>\n",
    "  </tr>\n",
    "</table>\n",
    "\n",
    "The frequency table can be implemented in many different ways. Let's begin with the most straight forward method: A list for each base."
   ]
  },
  {
   "cell_type": "code",
   "execution_count": null,
   "metadata": {},
   "outputs": [],
   "source": [
    "def freq_lists(seq_list):\n",
    "    \n",
    "    n = len(seq_list[0])   # the length of each sequence that transcription factor binds\n",
    "                           # It assumes that all sequence in the 'seq_list' have the same length\n",
    "    A = [0]*n              # Initialize a list of length 'n' for base 'A'\n",
    "    C = [0]*n\n",
    "    G = [0]*n\n",
    "    T = [0]*n\n",
    "    \n",
    "    for seq in seq_list:  # for each dna sequence\n",
    "        for idx, base in enumerate(seq):  # for each base and index of the seq\n",
    "            if   base == 'A':\n",
    "                A[idx] += 1\n",
    "            elif base == 'C':\n",
    "                C[idx] += 1\n",
    "            elif base == 'G':\n",
    "                G[idx] += 1\n",
    "            elif base == 'T':\n",
    "                T[idx] += 1\n",
    "    \n",
    "    return A, C, G, T"
   ]
  },
  {
   "cell_type": "code",
   "execution_count": null,
   "metadata": {},
   "outputs": [],
   "source": [
    "seq_list = ['GGTAG', 'GGTAC', 'GGTGC']\n",
    "A, C, G, T = freq_lists(seq_list)\n",
    "print(A)\n",
    "print(C)\n",
    "print(G)\n",
    "print(T)"
   ]
  },
  {
   "cell_type": "markdown",
   "metadata": {},
   "source": [
    "It may be a good idea to keep all lists in a single list."
   ]
  },
  {
   "cell_type": "code",
   "execution_count": null,
   "metadata": {},
   "outputs": [],
   "source": [
    "combined_list = [A, C, G, T]\n",
    "print(combined_list)"
   ]
  },
  {
   "cell_type": "markdown",
   "metadata": {},
   "source": [
    "The problem of this approach is that the programmer should remember the order of 'ACGT'. However, other programmer may prefer 'ATCG'. Without proper documentation, the code in other part of the program can become quite confusing. Therefore, it is desriable to have a variable containing this mapping. Dictionary is an ideal container."
   ]
  },
  {
   "cell_type": "code",
   "execution_count": null,
   "metadata": {},
   "outputs": [],
   "source": [
    "base2idx = {'A': 0, 'C': 1, 'G': 2, 'T': 3}\n",
    "idx2base = { base2idx[key]:key   for key in base2idx  }\n",
    "\n",
    "print(base2idx)\n",
    "print(idx2base)\n",
    "\n",
    "for key in base2idx:\n",
    "    print(\"Frequency of\", key, \":\", combined_list[base2idx[key]])"
   ]
  },
  {
   "cell_type": "markdown",
   "metadata": {},
   "source": [
    "However, having two variables is not convenient. It is prone to future mistakes in coding. It is therefore best to combine everything in a single container. Let's use a dictionary of lists."
   ]
  },
  {
   "cell_type": "code",
   "execution_count": null,
   "metadata": {},
   "outputs": [],
   "source": [
    "def freq_dict_of_lists(seq_list):\n",
    "    n = max([len(seq) for seq in seq_list]) # binding seq length may be different. We use the max length\n",
    "    freq_matrix = {  # Each base is a key and has a list as a value\n",
    "        'A': [0]*n,\n",
    "        'C': [0]*n,\n",
    "        'G': [0]*n,\n",
    "        'T': [0]*n\n",
    "    }\n",
    "    \n",
    "    for seq in seq_list:\n",
    "        for idx, base in enumerate(seq):\n",
    "            freq_matrix[base][idx] += 1\n",
    "            \n",
    "    return freq_matrix"
   ]
  },
  {
   "cell_type": "code",
   "execution_count": null,
   "metadata": {},
   "outputs": [],
   "source": [
    "seq_list = ['GGTAG', 'GGTAC', 'GGTGC']\n",
    "freq_matrix = freq_dict_of_lists(seq_list)\n",
    "print(freq_matrix)"
   ]
  },
  {
   "cell_type": "code",
   "execution_count": null,
   "metadata": {},
   "outputs": [],
   "source": []
  }
 ],
 "metadata": {
  "kernelspec": {
   "display_name": "Python 3",
   "language": "python",
   "name": "python3"
  },
  "language_info": {
   "codemirror_mode": {
    "name": "ipython",
    "version": 3
   },
   "file_extension": ".py",
   "mimetype": "text/x-python",
   "name": "python",
   "nbconvert_exporter": "python",
   "pygments_lexer": "ipython3",
   "version": "3.7.4"
  }
 },
 "nbformat": 4,
 "nbformat_minor": 4
}

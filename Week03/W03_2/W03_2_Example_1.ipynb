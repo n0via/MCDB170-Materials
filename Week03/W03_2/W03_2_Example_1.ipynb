{
 "cells": [
  {
   "cell_type": "markdown",
   "metadata": {},
   "source": [
    "### Week 3, class 2\n",
    "# ***DNA sequence analysis: Example***\n",
    "\n",
    "<sub><sub>Acknowledgement: This notebook follows the contents of \"Illustrating Python via Bioinformatics Examples\", 2015, by Hans Petter Langtangen, Geir Kjetil Sandve.</sub></sub>\n",
    "\n",
    "---\n"
   ]
  },
  {
   "cell_type": "markdown",
   "metadata": {},
   "source": [
    "### **From genes to mRNAs to proteins**\n",
    "\n",
    "Central dogma in genetics:\n",
    "\n",
    "1. A gene is a region of DNA, consisting of several coding parts, called exons, interspersed by non-coding parts, called introns.  The coding parts are concatenated to form a string called mRNA, where the letter Ts (thymine) are replaced by Us (urasil). \n",
    "\n",
    "2. Triplets of mRNA letters encode amino acids, the building blocks of proteins.\n",
    "\n",
    "\n",
    "Here, we will examine a lactase gene, LCT, that is essential to digest milk but would not be expressed in adulthood. We will extract exons from the lactase gene (LCT), generate an mRNA sequence, and finally, translate it into a sequence of lactase protein (LPH)."
   ]
  },
  {
   "cell_type": "markdown",
   "metadata": {},
   "source": [
    "---\n",
    "\n",
    "#### **Reading a gene file**\n",
    "\n",
    "To perform any analysis, we need a gene sequence, which is typically stored in a text file or on the internet. Let's begin with loading a gene file.\n",
    "\n",
    "lactage_gene.txt is in the 'data' directory. Examine it. Each line has 70 characters. At the end, there is a special character called, 'new line', which is only visible to the computer. When the computer reads this character, most editing software changes its line to the next line to display following characters.\n",
    "\n",
    "In our program, we do not need the 'new line' characters. So, we will remove them using a string function called `strip()`."
   ]
  },
  {
   "cell_type": "code",
   "execution_count": null,
   "metadata": {},
   "outputs": [],
   "source": [
    "def read_seq_file(filename):\n",
    "    seq = ''\n",
    "    for line in open(filename, 'r'):\n",
    "        seq += line.strip()\n",
    "    return seq"
   ]
  },
  {
   "cell_type": "markdown",
   "metadata": {},
   "source": [
    "There are multiple ways of readin files. Some examples can be found in 'string_err_fileIO_debugging.ipynb'.  You need to experiment with different methods to understand the logics behind them.  Please ask questions in the forum or in TA sections.\n",
    "\n",
    "Below is another implementation performing the same task."
   ]
  },
  {
   "cell_type": "code",
   "execution_count": null,
   "metadata": {},
   "outputs": [],
   "source": [
    "# This is slightly faster, because it accesses the disk once, which is slow.\n",
    "def read_seq_file(filename):\n",
    "    lines = open(filename,'r').readlines()  # reads in all lines of sequences\n",
    "    return ''.join([  line.strip() for line in lines  ])  # combines all lines without the 'new line' character"
   ]
  },
  {
   "cell_type": "markdown",
   "metadata": {},
   "source": [
    "Your file may be in a differnt location in a different operating system. Therefore, in Windows computers, the name would be 'data\\lactase_gene.txt' and, in Mac or Linux, the name would be 'data/lactase_gene.txt'.\n",
    "\n",
    "To make your code portable between different systems, you need a way to change the '\\' and '/'. Python provides an easy way with `os` package."
   ]
  },
  {
   "cell_type": "code",
   "execution_count": null,
   "metadata": {},
   "outputs": [],
   "source": [
    "# Let's test it\n",
    "import os\n",
    "filename = os.path.join('data', 'lactase_gene.txt')\n",
    "dna_seq = read_seq_file(filename)    # Try %timeit for two different implementations\n",
    "print(dna_seq)"
   ]
  },
  {
   "cell_type": "markdown",
   "metadata": {},
   "source": [
    "---\n",
    "\n",
    "Next step is to convert the dna sequnce to an mRNA sequence. To do this, \n",
    "1. We extract exons\n",
    "2. then convert Ts to Us\n",
    "\n",
    "The exon position information (in Python indexing method) of lactase gene is stored in the 'lactase_exon.tsv' file, which is in 'data' directory.  Examine it by double clicking the file.\n",
    "\n",
    "This file is not similar to the lactase_gene.txt file. It has two columns of numbers separated by a tab between them. We need a different script to read this file.\n",
    "\n",
    "After reading this file, we want each exon position information is loaded in tuples. Each tuple would contain the beginning and the end postions as (begin, end)."
   ]
  },
  {
   "cell_type": "code",
   "execution_count": null,
   "metadata": {},
   "outputs": [],
   "source": [
    "def read_exon_positions(filename):\n",
    "    positions = []     # list of tuples\n",
    "    for line in open(filename, 'r'):\n",
    "        begin, end = line.split()    # This function removes the tab and the new line and returns individual component. See string_err_fileIO_debugging.ipynb for more details\n",
    "        positions.append(  (int(begin),  int(end) ) )  # Add a tuple\n",
    "        \n",
    "    return positions"
   ]
  },
  {
   "cell_type": "markdown",
   "metadata": {},
   "source": [
    "Again, we can simplify it."
   ]
  },
  {
   "cell_type": "code",
   "execution_count": null,
   "metadata": {},
   "outputs": [],
   "source": [
    "def read_exon_positions(filename):\n",
    "    return [ tuple(int(num_str) for num_str in line.split() )  for line in open(filename, 'r') ]\n",
    "    # Uses a comprehension for tuple in a comprehension of list"
   ]
  },
  {
   "cell_type": "code",
   "execution_count": null,
   "metadata": {},
   "outputs": [],
   "source": [
    "# Let's read in the exon position information\n",
    "import os\n",
    "filename = os.path.join('data','lactase_exon.tsv')\n",
    "exon_pos = read_exon_positions(filename)\n",
    "print(exon_pos)"
   ]
  },
  {
   "cell_type": "markdown",
   "metadata": {},
   "source": [
    "Now, it is time to convert the DNA sequence into an mRNA sequence. This process is straight forward. We simply combine exon regions and replace Ts with Us."
   ]
  },
  {
   "cell_type": "code",
   "execution_count": null,
   "metadata": {},
   "outputs": [],
   "source": [
    "def create_mRNA(dna_seq, exon_pos):\n",
    "    mRNA = ''\n",
    "    for begin, end in exon_pos:\n",
    "        mRNA += dna_seq[begin:end]\n",
    "    return mRNA.replace('T','U')   # replacing a letter is a very common task"
   ]
  },
  {
   "cell_type": "code",
   "execution_count": null,
   "metadata": {},
   "outputs": [],
   "source": [
    "# Can you even more simplify it?\n",
    "\n"
   ]
  },
  {
   "cell_type": "code",
   "execution_count": null,
   "metadata": {},
   "outputs": [],
   "source": [
    "# Let's create an mRNA sequence\n",
    "\n",
    "mRNA_seq = create_mRNA(dna_seq, exon_pos)\n",
    "print(mRNA_seq)"
   ]
  },
  {
   "cell_type": "markdown",
   "metadata": {},
   "source": [
    "If the input and output files are huge, then repeating these steps whenever you want to perform next steps would be time-consuming. Therefore, it is a good idea to save intermediate results.\n",
    "\n",
    "Let's create a new directory and save our lactase mRNA sequence. We first want to make a function to save our sequence file."
   ]
  },
  {
   "cell_type": "code",
   "execution_count": null,
   "metadata": {},
   "outputs": [],
   "source": [
    "def save_seq(seq, filename, letters_per_line = 70):\n",
    "    savefile = open(filename, 'w')\n",
    "    for i in range(0, len(seq), letters_per_line):\n",
    "        begin = i\n",
    "        end = begin + letters_per_line\n",
    "        savefile.write(seq[begin:end] + '\\n')\n",
    "    savefile.close()"
   ]
  },
  {
   "cell_type": "markdown",
   "metadata": {},
   "source": [
    "We will make a directory and save the sequence."
   ]
  },
  {
   "cell_type": "code",
   "execution_count": null,
   "metadata": {},
   "outputs": [],
   "source": [
    "output_path = 'output'\n",
    "\n",
    "import os\n",
    "if not os.path.isdir(output_path):\n",
    "    os.mkdir(output_path)\n",
    "\n",
    "filename = os.path.join(output_path, 'lactase_mRNA.txt')\n",
    "save_seq(mRNA_seq, filename)"
   ]
  },
  {
   "cell_type": "markdown",
   "metadata": {},
   "source": [
    "---\n",
    "\n",
    "Finally, we will convert the mRNA sequence to a protein. We will first read the saved mRNA sequence."
   ]
  },
  {
   "cell_type": "code",
   "execution_count": null,
   "metadata": {},
   "outputs": [],
   "source": [
    "import os\n",
    "filename = os.path.join('output', 'lactase_mRNA.txt')\n",
    "mRNA_seq = read_seq_file(filename)\n",
    "print(mRNA_seq)"
   ]
  },
  {
   "cell_type": "markdown",
   "metadata": {},
   "source": [
    "To get a protein sequence, we need to know the conversion rule from mRNA triplets to amino acids. This rule can be hardcoded because it is a fixed information. However, to keep the code more flexbile, it is here provided as a file: \"conversion_map.tsv\" in 'data' directory. Examine it. This file has now 4 columns separated by tabs. The reading procedure would be almost the same as the exon position reading procedure.\n",
    "\n"
   ]
  },
  {
   "cell_type": "code",
   "execution_count": null,
   "metadata": {},
   "outputs": [],
   "source": [
    "def read_conversion_map(filename):\n",
    "    conversion_map = {}     # We will save it into a dictionary\n",
    "    for line in open(filename, 'r'):\n",
    "        m = line.split()\n",
    "        conversion_map[m[0]] = m[1:]\n",
    "    return conversion_map"
   ]
  },
  {
   "cell_type": "code",
   "execution_count": null,
   "metadata": {},
   "outputs": [],
   "source": [
    "# For those who want a shorter code:\n",
    "def read_conversion_map(filename):\n",
    "    return { line.split()[0]:line.split()[1:]  for line in open(filename, 'r') }\n",
    "    # Uses a comprehension for tuple in a comprehension of list"
   ]
  },
  {
   "cell_type": "code",
   "execution_count": null,
   "metadata": {},
   "outputs": [],
   "source": [
    "# Read the conversion map\n",
    "import os\n",
    "filename = os.path.join('data','conversion_map.tsv')\n",
    "conversion_map = read_conversion_map(filename)\n",
    "print(conversion_map)"
   ]
  },
  {
   "cell_type": "markdown",
   "metadata": {},
   "source": [
    "We can now create a protein from the mRNA. One last piece of information we need to remember is this:\n",
    "\n",
    "1. Translation begins from the code for Methionine, i.e., AUG.\n",
    "2. Translation stops with the stop codons (there are multiple)."
   ]
  },
  {
   "cell_type": "code",
   "execution_count": null,
   "metadata": {},
   "outputs": [],
   "source": [
    "def create_protein_seq(mRNA_seq, conversion_map):\n",
    "    protein_seq = ''\n",
    "    begin_pos = mRNA_seq.find('AUG')   # finding a string is also a very common peration\n",
    "    \n",
    "    for i in range(begin_pos, len(mRNA_seq), 3):\n",
    "        triplet = mRNA_seq[i:i+3]\n",
    "        amino_acid = conversion_map[triplet][0]\n",
    "        if amino_acid == 'X':\n",
    "            break;\n",
    "        else:\n",
    "            protein_seq += amino_acid\n",
    "    return protein_seq"
   ]
  },
  {
   "cell_type": "code",
   "execution_count": null,
   "metadata": {},
   "outputs": [],
   "source": [
    "protein_seq = create_protein_seq(mRNA_seq, conversion_map)\n",
    "print('Length:', len(protein_seq))\n",
    "print(protein_seq)"
   ]
  },
  {
   "cell_type": "markdown",
   "metadata": {},
   "source": [
    "---\n",
    "\n",
    "### **Combine all of these functions**\n",
    "\n",
    "We have developed many useful functions. Leaving these functions scattered around woule make future re-use of the code quite frustrating. Here we will write a class that combines all of them.\n",
    "\n"
   ]
  },
  {
   "cell_type": "code",
   "execution_count": null,
   "metadata": {},
   "outputs": [],
   "source": [
    "class Gene():\n",
    "    def __init__(self, gene_name, dna_seq_filename='', exon_position_filename='',  mRNA_seq_filename='', translation_conversion_map_filename=''):\n",
    "\n",
    "        # Define member variables (Class member variables are also called \"attributes\")\n",
    "        self.gene_name = gene_name\n",
    "        self.dna_seq_filename = dna_seq_filename\n",
    "        self.exon_position_filename = exon_position_filename\n",
    "        self.mRNA_seq_filename = mRNA_seq_filename\n",
    "        self.translation_conversion_map_filename = translation_conversion_map_filename\n",
    "        \n",
    "        # Store all information including intermediate results\n",
    "        self.dna_seq = ''\n",
    "        self.exon_positions = []\n",
    "        self.mRNA_seq = ''\n",
    "        self.translation_conversion_map = {}\n",
    "        self.protein_seq = ''\n",
    "        \n",
    "        \n",
    "    def read_dna_seq_file(self, filename=''):\n",
    "        if len(filename) == 0:\n",
    "            filename = self.dna_seq_filename\n",
    "        else:\n",
    "            self.dna_seq_filename = filename\n",
    "            \n",
    "        lines = open(filename,'r').readlines()\n",
    "        self.dna_seq = ''.join([  line.strip() for line in lines  ])\n",
    "        \n",
    "    def read_mRNA_seq_file(self, filename=''):\n",
    "        if len(filename) == 0:\n",
    "            filename = self.mRNA_seq_filename\n",
    "        else:\n",
    "            self.mRNA_seq_filename = filename\n",
    "            \n",
    "        lines = open(filename,'r').readlines()\n",
    "        self.mRNA_seq = ''.join([  line.strip() for line in lines  ])\n",
    "        \n",
    "    def read_exon_positions(self, filename=''):\n",
    "        if len(filename) == 0:\n",
    "            filename = self.exon_position_filename\n",
    "        else:\n",
    "            self.exon_position_filename = filename\n",
    "            \n",
    "        self.exon_positions = [ tuple(int(num_str) for num_str in line.split() )  for line in open(filename, 'r') ]\n",
    "    \n",
    "    def create_mRNA(self):\n",
    "        self.mRNA_seq = ''\n",
    "        for begin, end in self.exon_positions:\n",
    "            self.mRNA_seq += self.dna_seq[begin:end].replace('T','U')\n",
    "\n",
    "    def save_mRNA_seq(self, filename='', letters_per_line = 70):\n",
    "        if len(filename) == 0:\n",
    "            filename = self.mRNA_seq_filename\n",
    "        else:\n",
    "            self.mRNA_seq_filename = filename\n",
    "            \n",
    "        savefile = open(filename, 'w')\n",
    "        for i in range(0, len(self.mRNA_seq), letters_per_line):\n",
    "            begin = i\n",
    "            end = begin + letters_per_line\n",
    "            savefile.write(self.mRNA_seq[begin:end] + '\\n')\n",
    "        savefile.close()\n",
    "        \n",
    "    def read_translation_conversion_map(self, filename=''):\n",
    "        if len(filename) == 0:\n",
    "            filename = self.translation_conversion_map_filename \n",
    "        else:\n",
    "            self.translation_conversion_map_filename = filename\n",
    "            \n",
    "        self.translation_conversion_map = { line.split()[0]:line.split()[1:]  for line in open(filename, 'r') }\n",
    "    \n",
    "    def create_protein_seq(self):\n",
    "        self.protein_seq = ''\n",
    "        begin_pos = self.mRNA_seq.find('AUG')\n",
    "\n",
    "        for i in range(begin_pos, len(self.mRNA_seq), 3):\n",
    "            triplet = self.mRNA_seq[i:i+3]\n",
    "            amino_acid = self.translation_conversion_map[triplet][0]\n",
    "            if amino_acid == 'X':\n",
    "                break;\n",
    "            else:\n",
    "                self.protein_seq += amino_acid\n",
    "\n"
   ]
  },
  {
   "cell_type": "code",
   "execution_count": null,
   "metadata": {},
   "outputs": [],
   "source": [
    "# Example 1: using all initialization values\n",
    "import os\n",
    "dna_seq_filename = os.path.join('data','lactase_gene.txt')\n",
    "exon_position_filename = os.path.join('data', 'lactase_exon.tsv')\n",
    "mRNA_save_filename = os.path.join('output','lactase_mRNA.txt')\n",
    "translation_conversion_map_filename = os.path.join('data', 'conversion_map.tsv')\n",
    "\n",
    "lactase_gene = Gene('lactase', dna_seq_filename, exon_position_filename, mRNA_save_filename, translation_conversion_map_filename)\n",
    "lactase_gene.read_dna_seq_file()\n",
    "lactase_gene.read_exon_positions()\n",
    "lactase_gene.create_mRNA()\n",
    "lactase_gene.save_mRNA_seq()\n",
    "lactase_gene.read_mRNA_seq_file()\n",
    "lactase_gene.read_translation_conversion_map()\n",
    "lactase_gene.create_protein_seq()\n",
    "\n",
    "#print(lactase_gene.dna_seq)\n",
    "seq = lactase_gene.protein_seq\n",
    "len(seq)"
   ]
  },
  {
   "cell_type": "markdown",
   "metadata": {},
   "source": [
    "## Let's make a module\n",
    "\n",
    "Make a Gene.py file as shown in the lecture (a finished file is provided for your examination, but I recommend making one yourself). Run the same code as above in a separate notebook to avoid name conflict with the existing class in this notebook. See W03_2_Example_using_class.ipynb "
   ]
  },
  {
   "cell_type": "code",
   "execution_count": null,
   "metadata": {},
   "outputs": [],
   "source": []
  }
 ],
 "metadata": {
  "kernelspec": {
   "display_name": "Python 3",
   "language": "python",
   "name": "python3"
  },
  "language_info": {
   "codemirror_mode": {
    "name": "ipython",
    "version": 3
   },
   "file_extension": ".py",
   "mimetype": "text/x-python",
   "name": "python",
   "nbconvert_exporter": "python",
   "pygments_lexer": "ipython3",
   "version": "3.7.4"
  }
 },
 "nbformat": 4,
 "nbformat_minor": 4
}

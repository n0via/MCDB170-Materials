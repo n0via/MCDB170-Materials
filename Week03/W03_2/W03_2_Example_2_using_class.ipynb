{
 "cells": [
  {
   "cell_type": "code",
   "execution_count": null,
   "metadata": {},
   "outputs": [],
   "source": [
    "import Gene\n",
    "\n",
    "import os\n",
    "dna_seq_filename = os.path.join('data','lactase_gene.txt')\n",
    "exon_position_filename = os.path.join('data', 'lactase_exon.tsv')\n",
    "mRNA_save_filename = os.path.join('output','lactase_mRNA.txt')\n",
    "translation_conversion_map_filename = os.path.join('data', 'conversion_map.tsv')\n",
    "\n",
    "lactase_gene = Gene.Gene('lactase', dna_seq_filename, exon_position_filename, mRNA_save_filename, translation_conversion_map_filename)\n",
    "lactase_gene.read_dna_seq_file()\n",
    "lactase_gene.read_exon_positions()\n",
    "lactase_gene.create_mRNA()\n",
    "lactase_gene.save_mRNA_seq()\n",
    "lactase_gene.read_mRNA_seq_file()\n",
    "lactase_gene.read_translation_conversion_map()\n",
    "lactase_gene.create_protein_seq()\n",
    "\n",
    "#print(lactase_gene.dna_seq)\n",
    "seq = lactase_gene.protein_seq\n",
    "len(seq)"
   ]
  },
  {
   "cell_type": "code",
   "execution_count": null,
   "metadata": {},
   "outputs": [],
   "source": [
    "from Gene import Gene\n",
    "\n",
    "# Without initializing all filenames\n",
    "import os\n",
    "dna_seq_filename = os.path.join('data','lactase_gene.txt')\n",
    "exon_position_filename = os.path.join('data', 'lactase_exon.tsv')\n",
    "mRNA_save_filename = os.path.join('output','lactase_mRNA.txt')\n",
    "translation_conversion_map_filename = os.path.join('data', 'conversion_map.tsv')\n",
    "\n",
    "lactase_gene = Gene('lactase')   # Note that we don't use Gene.Gene(). Why?\n",
    "lactase_gene.read_dna_seq_file(dna_seq_filename)\n",
    "lactase_gene.read_exon_positions(exon_position_filename)\n",
    "lactase_gene.create_mRNA()\n",
    "lactase_gene.save_mRNA_seq(mRNA_save_filename)\n",
    "lactase_gene.read_mRNA_seq_file()\n",
    "lactase_gene.read_translation_conversion_map(translation_conversion_map_filename)\n",
    "lactase_gene.create_protein_seq()\n",
    "\n",
    "#print(lactase_gene.dna_seq)\n",
    "seq = lactase_gene.protein_seq\n",
    "len(seq)"
   ]
  },
  {
   "cell_type": "code",
   "execution_count": null,
   "metadata": {},
   "outputs": [],
   "source": []
  }
 ],
 "metadata": {
  "kernelspec": {
   "display_name": "Python 3",
   "language": "python",
   "name": "python3"
  },
  "language_info": {
   "codemirror_mode": {
    "name": "ipython",
    "version": 3
   },
   "file_extension": ".py",
   "mimetype": "text/x-python",
   "name": "python",
   "nbconvert_exporter": "python",
   "pygments_lexer": "ipython3",
   "version": "3.7.4"
  }
 },
 "nbformat": 4,
 "nbformat_minor": 4
}

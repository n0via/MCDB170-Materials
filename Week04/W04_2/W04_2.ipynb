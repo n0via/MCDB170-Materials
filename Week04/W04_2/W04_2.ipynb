{
 "cells": [
  {
   "cell_type": "markdown",
   "metadata": {},
   "source": [
    "# **Biopython**\n",
    "\n",
    "If you join a lab or a biotech company, you may well have to deal with many biological sequences. However, using the string type in Python to represent sequences would be quite cumbersome, because it does not provide tools specific to biological sequence analysis. \n",
    "\n",
    "There are many biologists who have experienced the same problem and they have shared their own modules and packages. Eventually, people began to collect the most commonly used tools into a coherent package, Biopython. It provides tools useful for many biological analyses, not just sequence analysis, but also 3D protein structure analysis and statistical analysis specific to biology.\n",
    "\n",
    "In this and the next lectures, we are entering into the territory of real scientific programming. I will show you, as a showcase, how to use Biopython to manipulate biological sequences. You will see a number of classes and functions in these lectures.  Note that **you do not have to memorize them**. Unlike basic Python data structures, such as Lists or Dictionaries that are universally used across the entire Python community, these classes are specific to biological sequence analysis. Even seasoned scientists may not memorize all those functions except those they most frequently use. They constantly google to find useful functions and copy & paste code snippets. Therefore, **it is important to know which functions 'exist' or at least where you can find them**. The chance is that unless you're solving a completely new problem, there is a solution on the internet. Finally, it is very important to **test every single code you copy & paste before using it** in any serious program. A small grammatical error during copy & paste may generate un-recognizable errors. Thus, whenever you use other people's code, test it in a short program and deploy it after you confirmed working.\n",
    "\n",
    "---\n",
    "\n",
    "We will begin this lecture with standard file formats of sequence data.\n",
    "\n",
    "---\n"
   ]
  },
  {
   "cell_type": "markdown",
   "metadata": {},
   "source": [
    "## **FASTA format**\n",
    "\n",
    "A significant part of doing biology involves dealing with files holding biological data, such as the genome, protein sequence, and so on. A FASTA file contains a sequence(s) of the genome (nucleotides) or proteins (amino acids). The first line beginning with \">\" is a description line. If you downloaded a FASTA file from the NCBI genome database, the first alphanumeric word is a unique ID for the sequence. It is followed by other information such as the name of species, chromosome number, etc.\n",
    "\n",
    "There can be multiple sequences in a single FASTA file. In this case, there are multiple description lines beginning with \">\".\n",
    "\n",
    "See [Wikipedia](https://en.wikipedia.org/wiki/FASTA_format) for more details.\n",
    "\n",
    "You can search download a FASTA file of a species from [NCBI](https://www.ncbi.nlm.nih.gov/). In the search box, select \"Genome\" and put a keyword, for example, E. coli. You can download, near the top in the result page, a FASTA file of the genome of E. coli.\n",
    "\n",
    "The description line of the FASTA file needs to be \"parsed\", to extract meta information. You can write your own parsing script. But there are many tools out there for R, Ruby, Python, Perl, and so on. We will use the [Biopython](http://biopython.org/) package.\n"
   ]
  },
  {
   "cell_type": "markdown",
   "metadata": {},
   "source": [
    "## **GenBank format**\n",
    "\n",
    "GenBank file is especially useful because NCBI provides extensive annotation in GenBank format. \n",
    "\n",
    "See [Wikipedia](https://en.wikipedia.org/wiki/GenBank) for more details.\n",
    "\n",
    "Most functions introduced in this class for FASTA files can be used to GenBank files exactly the same way, except that the data stored in Biopython can be different."
   ]
  },
  {
   "cell_type": "markdown",
   "metadata": {},
   "source": [
    "### **Dealing with FASTA and GenBank files**\n",
    "\n",
    "More details follow.\n",
    "\n",
    "- `SeqIO` object: Parses biological data files in various formats.\n",
    "\n",
    "- `SeqIO.parse()`: the main function to parse files. It works like the `open` function for files. It returns a SeqRecord object.\n",
    "\n",
    "- `SeqRecord` object: It holds a `Seq` object with other metadata in the data file."
   ]
  },
  {
   "cell_type": "code",
   "execution_count": null,
   "metadata": {},
   "outputs": [],
   "source": [
    "from Bio import SeqIO\n",
    "\n",
    "for seq_record in SeqIO.parse('GCF_000006745.1_ASM674v1_genomic.fna','fasta'): # Use 'genbank' option for genbank files\n",
    "    print(seq_record)\n",
    "    print('--------------')\n",
    "    print(seq_record.seq[:100])\n",
    "    print(len(seq_record))\n",
    "    print('----------------------------')\n",
    "\n",
    "print('Type of seq_record:', type(seq_record))\n",
    "print('Type of seq:', type(seq_record.seq))\n",
    "\n",
    "    \n",
    "#dir(SeqIO)         # uncomment it to see all methods\n",
    "#dir(seq_record)    # uncomment it to see all member variables"
   ]
  },
  {
   "cell_type": "markdown",
   "metadata": {},
   "source": [
    "---"
   ]
  },
  {
   "cell_type": "markdown",
   "metadata": {},
   "source": [
    "# **Biopython**\n",
    "\n",
    "Biopython provides a huge set of classes and modules useful for biological sequence analyses. If you ever need to do sequence analysis, this package will help you in many ways.  To fully take advantage of this package, you will need to study the [Documentation](https://biopython.org/docs/1.78/api/Bio.html) and [Tutorial](http://biopython.org/DIST/docs/tutorial/Tutorial.html). Covering the entire package in a couple of classes is impossible. In this class, we will focus on essential classes that help to manipulate biological sequences.\n",
    "\n",
    "<sub><sub>Disclaimer: This notebook contains part of the official tutorial, especially Chapter 3, 4, and 5.</sub></sub>"
   ]
  },
  {
   "cell_type": "code",
   "execution_count": null,
   "metadata": {},
   "outputs": [],
   "source": [
    "# Version check\n",
    "import Bio\n",
    "print(Bio.__version__)\n",
    "\n",
    "# Getting help for Biopython functions and classes\n",
    "#from Bio import SeqIO\n",
    "#help(SeqIO)"
   ]
  },
  {
   "cell_type": "markdown",
   "metadata": {},
   "source": [
    "## **`Seq` class**\n",
    "\n",
    "The `Seq` class is the most basic class in Biopython. It behaves very similar to string and supports most string functions. Additional methods useful for sequence manipulation are also provided.\n",
    "\n",
    "- `Seq.complement()`: Generates a complementary sequence of DNA\n",
    "- `Seq.reverse_complement()`: Same as complement() but in the reverse order\n",
    "- `Seq.count(pattern)`: Returns a non-overlapping count (as for string)\n",
    "- `Seq.count_overlap(pattern)`: Returnes an overlapping count\n",
    "- `Seq.join()`: works like string.join()\n",
    "- `Seq.lower()`: returns a lower case sequence\n",
    "- `Seq.upper()`: returns an upper case sequence\n",
    "\n",
    "Run `help(Seq)` for the list of methods available for the Seq object."
   ]
  },
  {
   "cell_type": "code",
   "execution_count": null,
   "metadata": {},
   "outputs": [],
   "source": [
    "from Bio.Seq import Seq\n",
    "#help(Seq)                # Uncomment this line to see the full list of supported methods\n",
    "\n",
    "ex_seq = Seq('AGTACACTGGT')\n",
    "ex_seq"
   ]
  },
  {
   "cell_type": "code",
   "execution_count": null,
   "metadata": {},
   "outputs": [],
   "source": [
    "print(ex_seq)"
   ]
  },
  {
   "cell_type": "code",
   "execution_count": null,
   "metadata": {},
   "outputs": [],
   "source": [
    "print(ex_seq.complement())\n",
    "print(ex_seq.reverse_complement())\n",
    "print(ex_seq)     # The original sequence does not change"
   ]
  },
  {
   "cell_type": "code",
   "execution_count": null,
   "metadata": {},
   "outputs": [],
   "source": [
    "print(  \"AAAA\".count(\"AA\")  )       # count function of string\n",
    "print(  Seq(\"AAAA\").count(\"AA\")  )  # coutn function of Seq"
   ]
  },
  {
   "cell_type": "code",
   "execution_count": null,
   "metadata": {},
   "outputs": [],
   "source": [
    "print(Seq(\"AAAA\").count_overlap(\"AA\"))\n",
    "print(Seq(\"ATATATATA\").count_overlap(\"ATA\"))\n",
    "print(Seq(\"ATATATATA\").count_overlap(\"ATA\", 3, -1))    # index for start (3) and end (-1)"
   ]
  },
  {
   "cell_type": "code",
   "execution_count": null,
   "metadata": {},
   "outputs": [],
   "source": [
    "# slicing of Seq is identical to string\n",
    "\n",
    "print(ex_seq[2::2])\n",
    "print(ex_seq[:3])\n",
    "print(ex_seq[::-1])  # reversing the string"
   ]
  },
  {
   "cell_type": "code",
   "execution_count": null,
   "metadata": {},
   "outputs": [],
   "source": [
    "# You may change Seq to string\n",
    "\n",
    "s = str(ex_seq)\n",
    "s"
   ]
  },
  {
   "cell_type": "code",
   "execution_count": null,
   "metadata": {},
   "outputs": [],
   "source": [
    "# Concatenation is similar to string concatenation\n",
    "ex_seq1 = Seq('AGTACACTGGT')\n",
    "ex_seq2 = Seq('TCGAACTTGAT')\n",
    "\n",
    "c = ex_seq1 + ex_seq2\n",
    "print(c)\n",
    "\n",
    "# Or you can use join method\n",
    "print(Seq(\"N\"*10).join([ex_seq1, ex_seq2]))"
   ]
  },
  {
   "cell_type": "code",
   "execution_count": null,
   "metadata": {},
   "outputs": [],
   "source": [
    "# Changing case\n",
    "print(ex_seq.lower())\n",
    "print(ex_seq)\n",
    "ex_seq3 = Seq('atgcttggac')\n",
    "print(ex_seq3.upper())\n",
    "\n",
    "# Useful to run case-sensitive matching\n",
    "print(\"CTT\" in ex_seq3)\n",
    "print(\"CTT\" in ex_seq3.upper())\n"
   ]
  },
  {
   "cell_type": "markdown",
   "metadata": {},
   "source": [
    "### **Transcription**\n",
    "\n",
    "Transcription happens in the template strand in the reverse order. However, in Biopython, the transcription only changes T to U. Thus, you should use the coding strand to get a proper mRNA sequence.\n",
    "\n",
    "- `Seq.transcribe()`: Generates an mRNA sequence from coding strand of DNA\n",
    "- `Seq.back_transcribe()`: Generates coding strand of DNA from mRNA sequence\n"
   ]
  },
  {
   "cell_type": "code",
   "execution_count": null,
   "metadata": {},
   "outputs": [],
   "source": [
    "template_strand = Seq('CTATCGGGCACCCTTTCAGCGGCCCATTACAATGGCCAT')\n",
    "coding_strand = template_strand.reverse_complement()\n",
    "mRNA = coding_strand.transcribe()\n",
    "print(mRNA)\n",
    "\n",
    "# One line operation\n",
    "mRNA2 = template_strand.reverse_complement().transcribe()\n",
    "print(mRNA2)\n",
    "\n",
    "# Back transcription\n",
    "coding_dna = mRNA.back_transcribe()\n",
    "print(coding_dna)"
   ]
  },
  {
   "cell_type": "markdown",
   "metadata": {},
   "source": [
    "### **Translation**\n",
    "- `Seq.translate()`: Generates a sequence of amino acids\n",
    "Note that you can use a different genetic code table. The default is the *standard* code. But mitochondrial sequences may use a different table. See [NCBI](https://www.ncbi.nlm.nih.gov/Taxonomy/Utils/wprintgc.cgi) for more details."
   ]
  },
  {
   "cell_type": "code",
   "execution_count": null,
   "metadata": {},
   "outputs": [],
   "source": [
    "from Bio.Seq import Seq\n",
    "mRNA = Seq('AUGGCCAUUGUAAUGGGCCGCUGAAAGGGUGCCCGAUAG')\n",
    "print(mRNA.translate())\n",
    "# '*' means stop codon. Biopython does not stop translation at the stop codon to provide\n",
    "# more information to consecutive analyses. To stop translation, use an option to_stop\n",
    "print(mRNA.translate(to_stop = True))"
   ]
  },
  {
   "cell_type": "code",
   "execution_count": null,
   "metadata": {},
   "outputs": [],
   "source": [
    "\n",
    "# using a different genetic code\n",
    "mRNA.translate(table=\"Vertebrate Mitochondrial\")\n",
    "# Note that the stop codon in the middle disappeared."
   ]
  },
  {
   "cell_type": "code",
   "execution_count": null,
   "metadata": {},
   "outputs": [],
   "source": [
    "# Bacterial gene\n",
    "gene = Seq(\"GTGAAAAAGATGCAATCTATCGTACTCGCACTTTCCCTGGTTCTGGTCGCTCCCATGGCAGCACAGGCTGCGGAAATTACGTTAGTCCCGTCAGTAAAATTACAGATAGGCGATCGTGATAATCGTGGCTATTACTGGGATGGAGGTCACTGGCGCGACCACGGCTGGTGGAAACAACATTATGAATGGCGAGGCAATCGCTGGCACCTACACGGACCGCCGCCACCGCCGCGCCACCATAAGAAAGCTCCTCATGATCATCACGGCGGTCATGGTCCAGGCAAACATCACCGCTAA\")\n",
    "\n",
    "print(gene.translate(table=\"Bacterial\"))\n",
    "# In baterial genome, GTG is a valid start codon and should be translated as M (methionine).\n",
    "# To that end, you should tell Biopython that the sequence is a complete sequence beginning\n",
    "# with a start codon and ending with a stop codon.\n",
    "print(gene.translate(table=\"Bacterial\", cds=True))\n",
    "# Note that the first letter has been changed from V to M. Also, it omits '*'."
   ]
  },
  {
   "cell_type": "code",
   "execution_count": null,
   "metadata": {},
   "outputs": [],
   "source": [
    "# Genetic code can be examined\n",
    "from Bio.Data import CodonTable\n",
    "standard_table = CodonTable.unambiguous_dna_by_name[\"Standard\"]\n",
    "mito_table = CodonTable.unambiguous_dna_by_name[\"Vertebrate Mitochondrial\"]\n",
    "bac_table = CodonTable.unambiguous_dna_by_name[\"Bacterial\"]\n",
    "\n",
    "print(standard_table)\n",
    "print('============================================================')\n",
    "print(mito_table)\n",
    "print('============================================================')\n",
    "print(bac_table)"
   ]
  },
  {
   "cell_type": "code",
   "execution_count": null,
   "metadata": {},
   "outputs": [],
   "source": [
    "# codon table gives you a few variables with useful information\n",
    "dir(mito_table)\n",
    "# See \"back_table\", \"forward_table\", etc."
   ]
  },
  {
   "cell_type": "code",
   "execution_count": null,
   "metadata": {},
   "outputs": [],
   "source": [
    "# This was not covered in the lecture, but it is quite useufl.\n",
    "mito_table.stop_codons"
   ]
  },
  {
   "cell_type": "code",
   "execution_count": null,
   "metadata": {},
   "outputs": [],
   "source": [
    "mito_table.forward_table"
   ]
  },
  {
   "cell_type": "code",
   "execution_count": null,
   "metadata": {},
   "outputs": [],
   "source": [
    "help(Seq)"
   ]
  },
  {
   "cell_type": "markdown",
   "metadata": {},
   "source": [
    "---"
   ]
  },
  {
   "cell_type": "markdown",
   "metadata": {},
   "source": [
    "## **`MutableSeq` class**\n",
    "\n",
    "`Seq` is not mutable. Use `MutableSeq` to change any letter in the sequence. `MutableSeq` operates very differently from `Seq`. Most functions, such as `reverse_complement()`, **would directly change the sequence of the object**.\n",
    "\n"
   ]
  },
  {
   "cell_type": "code",
   "execution_count": null,
   "metadata": {},
   "outputs": [],
   "source": [
    "from Bio.Seq import MutableSeq\n",
    "mu_seq = MutableSeq('GCCATTGTAATGGGCCGCTGAAAGGGTGCCCGA')\n",
    "print(mu_seq)\n",
    "\n",
    "# Or you can convert Seq to MutableSeq\n",
    "mu_ex_seq = ex_seq.tomutable()\n",
    "\n",
    "\n",
    "mu_seq[5] = 'C'  # directly modifies the sequence\n",
    "print(mu_seq)\n",
    "mu_seq.reverse_complement()  # directly modifies the sequence\n",
    "print(mu_seq)\n",
    "\n",
    "\n",
    "ex_seq_from_mu = mu_seq.toseq()  # converts to an immutable Seq object\n",
    "print(ex_seq_from_mu)\n",
    "ex_seq_from_mu[5] = 'T'  # generates an error"
   ]
  },
  {
   "cell_type": "markdown",
   "metadata": {},
   "source": [
    "---"
   ]
  },
  {
   "cell_type": "markdown",
   "metadata": {},
   "source": [
    "## **`SeqRecord` class**\n",
    "\n",
    "This is a simple class that wraps the `Seq` class and stores metadata. It has a few member variables.\n",
    "\n",
    "- `SeqRecord.seq`: A sequence. Typically `Seq` object\n",
    "- `SeqRecord.id`: Typically, a unique ID of the sequence (such as from the FASTA file)\n",
    "- `SeqRecord.name`: Name of the sequence\n",
    "- `SeqRecord.description`: A short description. If read from a FASTA file, it is the first line of the file.\n",
    "- `SeqRecord.annotations`: A dictionary to store additional information about the sequence.\n",
    "- `SeqRecord.letter_annotations`: A dictionary to store information of every letter in the sequence, typically numbers, to represent the quality of each letter in the sequence.\n",
    "- `SeqRecord.format()`: Generates a string in a specific format\n",
    "\n",
    "See documentation for more information. (Or you can use dir() to see the list.)\n",
    "\n",
    "You could use this class to store any sequence that you may want to tag, comment, record, make notes, and so on.  You will save the record into your own FASTA file using SeqIO to share the information of your sequence, which will be shown below."
   ]
  },
  {
   "cell_type": "code",
   "execution_count": null,
   "metadata": {},
   "outputs": [],
   "source": [
    "from Bio.SeqRecord import SeqRecord\n",
    "\n",
    "my_seq_rec = SeqRecord(Seq('ATGCTGTA'))\n",
    "my_seq_rec.id = 'my_unique_id_389101932'\n",
    "my_seq_rec.name = 'Pythonrandseq'\n",
    "my_seq_rec.description = 'An awesome random sequence'\n",
    "print(my_seq_rec)"
   ]
  },
  {
   "cell_type": "code",
   "execution_count": null,
   "metadata": {},
   "outputs": [],
   "source": [
    "# You can use class's init feature\n",
    "\n",
    "my_seq_rec = SeqRecord(Seq('ATGCTGTA'),\n",
    "                      id = 'my_unique_id_389101932',\n",
    "                      name = 'Pythonrandseq',\n",
    "                      description = 'An awesome random sequence')\n",
    "\n",
    "print(my_seq_rec)"
   ]
  },
  {
   "cell_type": "code",
   "execution_count": null,
   "metadata": {},
   "outputs": [],
   "source": [
    "# You can use \"annotations\" to store additional information. It is a dictionary. It is up to you to make any useful keywords\n",
    "my_seq_rec.annotations['my_note']='experiment on 1/18/21: sequencing was successful'\n",
    "my_seq_rec.annotations['weather']='was sunny in Santa Barbara'\n",
    "my_seq_rec.annotations\n",
    "\n",
    "# However, if you import other gene files such as GenBank files, it may already have\n",
    "# some annotations filled in. NCBI has a strict rule for the format and type of data."
   ]
  },
  {
   "cell_type": "code",
   "execution_count": null,
   "metadata": {},
   "outputs": [],
   "source": [
    "# Unlike annotations, \"letter_annoations\" is for every single letter in the sequence.\n",
    "# Therefore, the length of the value should match with the number of letters in the sequnce.\n",
    "\n",
    "my_seq_rec.letter_annotations[\"phred_quality\"] = [40, 40, 38, 30,42, 37, 32, 44]\n",
    "print(my_seq_rec.letter_annotations[\"phred_quality\"])"
   ]
  },
  {
   "cell_type": "code",
   "execution_count": null,
   "metadata": {},
   "outputs": [],
   "source": [
    "# Use 'format()' function to generate a string in a specific format. This can be used\n",
    "# when you save the sequence data into a file.\n",
    "my_seq_rec.format('fasta')"
   ]
  },
  {
   "cell_type": "code",
   "execution_count": null,
   "metadata": {},
   "outputs": [],
   "source": [
    "print(my_seq_rec.format('fasta'))"
   ]
  },
  {
   "cell_type": "markdown",
   "metadata": {},
   "source": [
    "---"
   ]
  },
  {
   "cell_type": "markdown",
   "metadata": {},
   "source": [
    "## **`SeqIO` class**\n",
    "\n",
    "Use `SeqIO` to read and write files in standard formats, such as FASTA and GenBank. Use help to get more information.\n",
    "```\n",
    "from Bio import SeqIO\n",
    "help(SeqIO)\n",
    "```\n",
    "\n",
    "`SeqIO` uses `SeqRecord` to store or extract relevant information during I/O.\n",
    "\n",
    "- `SeqIO.read()` : parses standard gene files. Useful for a single record. See a section below *Parsing directly from NCBI*\n",
    "- `SeqIO.parse()`: parses standard gene files. This is for many records. It returns an iterator that you can use in the for-loop.\n"
   ]
  },
  {
   "cell_type": "code",
   "execution_count": null,
   "metadata": {},
   "outputs": [],
   "source": [
    "for seq_record in SeqIO.parse('GCF_000006745.1_ASM674v1_genomic.fna', 'fasta'):\n",
    "    print(seq_record.id)\n",
    "    print(seq_record.description)\n",
    "    print('Length:', len(seq_record))\n",
    "    print('---------------------------------')\n"
   ]
  },
  {
   "cell_type": "code",
   "execution_count": null,
   "metadata": {},
   "outputs": [],
   "source": [
    "# You can use comprehension to collect specific information\n",
    "\n",
    "[ seq_record.id for seq_record in SeqIO.parse('GCF_000006745.1_ASM674v1_genomic.fna', 'fasta')]"
   ]
  },
  {
   "cell_type": "code",
   "execution_count": null,
   "metadata": {},
   "outputs": [],
   "source": [
    "# To store the entire records in the file\n",
    "\n",
    "from Bio import SeqIO\n",
    "\n",
    "records = list(SeqIO.parse('GCF_000006745.1_ASM674v1_genomic.fna', 'fasta')) # makes a list\n",
    "\n",
    "print(\"Found\", len(records), \"records\")\n",
    "\n",
    "print(\"The last record\")\n",
    "last_record = records[-1]  # using Python's list tricks\n",
    "print(last_record.id)\n",
    "print(last_record.description)\n",
    "\n",
    "print(\"The first record\")\n",
    "first_record = records[0]  # remember, Python counts from zero\n",
    "print(first_record.id)\n",
    "print(last_record.description)\n"
   ]
  },
  {
   "cell_type": "code",
   "execution_count": null,
   "metadata": {},
   "outputs": [],
   "source": [
    "# For this particular species (Vibrio cholerae), the name is in the 2nd and 3rd words\n",
    "# So the name can be accessible with the following method\n",
    "\n",
    "tmp = records[0].description.split()[1:3]  # splits the description and pick 2nd and 3rd words\n",
    "records[0].name = ' '.join(tmp)  # joins two word with a space.\n",
    "print(records[0].name)"
   ]
  },
  {
   "cell_type": "markdown",
   "metadata": {},
   "source": [
    "### **Writing sequence into a file**\n",
    "\n",
    "- `Seq.write(records, filename, format)`: Saves records of sequences into a file using a format\n",
    "- `Seq.convert(file1, format1, file2, format2)`: Converts the file format from file1 to file2. Note: Using `parse()` then `write()` has some complicated issues. Use `convert()` to convert the file format. Furhter, some conversion is impossible, because different formats contain different information."
   ]
  },
  {
   "cell_type": "code",
   "execution_count": null,
   "metadata": {},
   "outputs": [],
   "source": [
    "from Bio import SeqIO\n",
    "records = list(SeqIO.parse('GCF_000006745.1_ASM674v1_genomic.fna', 'fasta')) # makes a list\n",
    "\n",
    "# Write\n",
    "SeqIO.write(records, 'test_save_file.fna', 'fasta')\n",
    "\n",
    "# Read it\n",
    "new_records = list(SeqIO.parse('test_save_file.fna', 'fasta'))"
   ]
  },
  {
   "cell_type": "code",
   "execution_count": null,
   "metadata": {},
   "outputs": [],
   "source": [
    "SeqIO.convert(\"NM_001316525.1.gbk\", \"genbank\", \"test_conversion.fna\", \"fasta\")"
   ]
  },
  {
   "cell_type": "markdown",
   "metadata": {},
   "source": [
    "### **Parsing directly from NCBI**\n",
    "\n",
    "See the example below to see the basic usage."
   ]
  },
  {
   "cell_type": "code",
   "execution_count": null,
   "metadata": {},
   "outputs": [],
   "source": [
    "from Bio import Entrez\n",
    "Entrez.email = \"your_email_address\""
   ]
  },
  {
   "cell_type": "code",
   "execution_count": null,
   "metadata": {},
   "outputs": [],
   "source": [
    "# FASTA format\n",
    "handle = Entrez.efetch(db=\"nucleotide\", id=\"NM_206006.2\", rettype=\"fasta\", retmode=\"text\")\n",
    "#print(handle.read())  # This prints all data. Too long!\n",
    "\n",
    "# To parse directly,\n",
    "fasta_seq_record = SeqIO.read(handle, 'fasta')\n",
    "print(fasta_seq_record)"
   ]
  },
  {
   "cell_type": "code",
   "execution_count": null,
   "metadata": {},
   "outputs": [],
   "source": [
    "# GenBank format gives you more annotation\n",
    "handle = Entrez.efetch(db=\"nucleotide\", id=\"NM_206006.2\", rettype=\"gbwithparts\", retmode=\"text\")\n",
    "### IMPORTANT: Not mentioned in the lecture. If the GenBank record is too long, only\n",
    "###            the summary of the record is returned.  If you GenBank record is long and \n",
    "###            you still want a full record, use rettype=\"gbwithparts\" as shown here,\n",
    "###            instead of \"gb\". It will return the full GenBank record regardless of\n",
    "###            the length.\n",
    "\n",
    "#print(handle.read())\n",
    "\n",
    "\n",
    "# Reading GenBank format from NCBI does not always returns proper sequence data.\n",
    "# Below, the sequence data is missing.\n",
    "# Therefore, sometimes, you may want to download both FASTA and GenBank data then combine them.\n",
    "gb_seq_record = SeqIO.read(handle, 'genbank')\n",
    "print(gb_seq_record)"
   ]
  },
  {
   "cell_type": "markdown",
   "metadata": {},
   "source": [
    "We can combine these routines into a neat function that first saves the information into a file and read it in."
   ]
  },
  {
   "cell_type": "code",
   "execution_count": null,
   "metadata": {},
   "outputs": [],
   "source": [
    "import os\n",
    "from Bio import SeqIO\n",
    "from Bio import Entrez\n",
    "Entrez.email = \"your_email_address\"  # Always tell NCBI who you are"
   ]
  },
  {
   "cell_type": "code",
   "execution_count": null,
   "metadata": {},
   "outputs": [],
   "source": [
    "# This function retrieves GenBank record of the id.\n",
    "\n",
    "def retrieve_GenBank_info(id):\n",
    "    filename = id + \".gbk\"\n",
    "\n",
    "    print(\"Downloading GenBank information of\", id, \"...\")\n",
    "    net_handle = Entrez.efetch( db=\"nucleotide\", id=id, rettype=\"gbwithparts\", retmode=\"text\" )\n",
    "    ### IMPORTANT: Unlike the lecture, here we use rettype=\"gbwithparts\" to save the full\n",
    "    ###            GenBank record.\n",
    "    \n",
    "    out_handle = open(filename, \"w\")\n",
    "    out_handle.write(net_handle.read())\n",
    "    out_handle.close()\n",
    "    net_handle.close()\n",
    "    print(\"Saved\")\n",
    "\n",
    "    print(\"Parsing...\")\n",
    "    # Here, we use \"read()\" instead of \"parse()\", because we know this is a single record.\n",
    "    # If you modify this function so that 'id' is a list of genes, you may want to use\n",
    "    # parse() instead and put it in the for-loop as we did above in the first section of \"SeqIO\".\n",
    "    record = SeqIO.read(filename, \"genbank\")\n",
    "    return record"
   ]
  },
  {
   "cell_type": "code",
   "execution_count": null,
   "metadata": {},
   "outputs": [],
   "source": [
    "# Here are a couple of examples.\n",
    "\n",
    "ids=[]\n",
    "ids.append(\"NM_001316525.1\") # ID of D. melanogaster Dop1R1 variant F (dopamine receptor)\n",
    "ids.append(\"NM_206006.2\")  # D.melanogaster Brain-specific homeobox (bsh)\n",
    "\n",
    "for id in ids: \n",
    "    record = retrieve_GenBank_info(id)\n",
    "    print('----------------------------------------')\n",
    "    print('ID:', record.id)\n",
    "    print('   ', record.description)\n",
    "    print('----------------------------------------')\n",
    "    print(record.seq[:500])\n",
    "    print('-------------------------------------------------------------------------')\n",
    "    "
   ]
  },
  {
   "cell_type": "code",
   "execution_count": null,
   "metadata": {},
   "outputs": [],
   "source": []
  },
  {
   "cell_type": "markdown",
   "metadata": {},
   "source": [
    "---\n",
    "\n",
    "# **Summary**\n",
    "\n",
    "It was a long lecture. But the bottom line is simple: (1) We now know how to retrieve biological sequences from the world's largest database (copy & paste any code you think useful for your work), (2) We also know that retrieved sequences and the metadata can be accessed using the `Seq` class and the `SeqRecord` class. We know that there are useful functions in these classes to easily manipulate the information (you don't have to remember them, but it is good to know what kind of functions are available and where to find how to use them).\n",
    "\n",
    "So, what do we do with this?  Well, you are now at a position where you can begin your own sequence analysis. Now everything depends on what scientific questions you have. \n"
   ]
  },
  {
   "cell_type": "code",
   "execution_count": null,
   "metadata": {},
   "outputs": [],
   "source": []
  }
 ],
 "metadata": {
  "kernelspec": {
   "display_name": "Python 3",
   "language": "python",
   "name": "python3"
  },
  "language_info": {
   "codemirror_mode": {
    "name": "ipython",
    "version": 3
   },
   "file_extension": ".py",
   "mimetype": "text/x-python",
   "name": "python",
   "nbconvert_exporter": "python",
   "pygments_lexer": "ipython3",
   "version": "3.7.4"
  }
 },
 "nbformat": 4,
 "nbformat_minor": 4
}

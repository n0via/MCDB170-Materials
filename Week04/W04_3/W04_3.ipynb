{
 "cells": [
  {
   "cell_type": "markdown",
   "metadata": {},
   "source": [
    "# **Sequence alignment**\n",
    "\n",
    "In many biological questions, you may want to compare your sequence to those in many other species to gain insights. BLAST is an extremely powerful tool specialized for paired sequence alignment. In the first part of this lecture, we will see how to use the NCBI web interface to perform BLAST, how to download the result, and finally how to perform multiple sequence alignment using the MUSCLE software.\n",
    "\n",
    "It will be followed by an *optional* lecture, showcasing how to automate all of these steps using Biopython's special classes.\n",
    "\n"
   ]
  },
  {
   "cell_type": "markdown",
   "metadata": {},
   "source": [
    "---"
   ]
  },
  {
   "cell_type": "markdown",
   "metadata": {},
   "source": [
    "## **Sequence alignment using BLAST and MUSCLE**"
   ]
  },
  {
   "cell_type": "markdown",
   "metadata": {},
   "source": [
    "Let's pick a protein and do some alignment.\n",
    "\n",
    "Visit [NCBI](https://www.ncbi.nlm.nih.gov/taxonomy) and search for a species and a sequene you want to analyze. (Skimming the [Taxonomy Project](https://www.ncbi.nlm.nih.gov/books/NBK21100/) is helpful.)\n",
    "\n",
    "1. In the search box, you can enter whatever species you want.\n",
    "   Or, you can browse. Follow the \"Browser\" link under \"Taxonomy Tools\". \n",
    "2. Once you land in a page of your species, familiarize yourself to the contents. Check out the **Taxonomy ID, Genetic code translation table, Mitochondrial genetic code translation table**, etc.\n",
    "3. On the right, click, the number link of **nucleotide**. It will bring you to the list of nucleotide records related to the species.  \n",
    "4. In the search box, you can add specific protein names or other keywords to narrow down the search result.\n",
    "5. Click an entry you want to check. It will show a GenBank information of the entry.\n",
    "6. At the top, you can find the **ID**, which is you want to use to retrieve from Biopython. Make a note of it.\n",
    "7. On the right side, click **Run BLAST** under **Analyze this sequence**.\n",
    "8. In the **BLAST** page, read options. For example, you can specify the organism you want to search.\n",
    "9. Click the **BLAST** button at the bottom. If you don't see any matching sequence, go back to the BLAST page and loosen the similarity threshold under **Program Selection** to \"More dissimilar sequences\". (\"Somewhat similar sequences\" is too loose.)\n",
    "10. In the result page, the similar sequences are typically sorted in the order of **E-value**. For more details, check out [How_to_read_result](https://ftp.ncbi.nlm.nih.gov/pub/factsheets/HowTo_BLAST_NewResultPage.pdf).\n",
    "11. You can refine the result using **Filter Results** box on the top right.\n",
    "12. There are serveral tabs you can explore. For example, **Alignments** tab shows alignment between your sequence and found sequences.\n",
    "13. You can download the result in various standard formats. Try downloading **FASTA (complete sequence)**, **FASTA (aligned sequences)**, and **XML**. Check the difference of these files. Limit the number of sequences reasonably small (5-10) if you want to perform multiple sequence alignment, as described next.\n",
    "14. Download **FASTA (complete sequence)**. Then run the following command in the terminal:\n",
    "```\n",
    ">> MUSCLE/muscle3.8.31_i86linux64 -in downloade_filename -out output_filename\n",
    "```\n",
    "15. Exam the output file to see the result of multiple alignment.\n",
    "\n",
    "Note: BLAST is a paired sequence alignment algorithm. For multiple sequence (simultaneous) alignment, other algorithms are used, such as ClustalW (oldest), MAFFT, and MUSCLE. MUSCLE is the most recent algorithm and can be downloade at https://www.drive5.com/muscle/downloads.htm. MAFFT and MUSCLE are the most used algorithms to align multiple sequences.\n",
    "\n",
    "REF: You can find more information about BLAST at https://www.youtube.com/playlist?list=PLH-TjWpFfWrtjzMCIvUe-YbrlIeFQlKMq\n",
    "\n",
    "\n"
   ]
  },
  {
   "cell_type": "markdown",
   "metadata": {},
   "source": [
    "---"
   ]
  },
  {
   "cell_type": "markdown",
   "metadata": {},
   "source": [
    "### *(OPTIONAL)*\n",
    "\n",
    "\n",
    "## **Running BLAST over the internet**\n",
    "\n",
    "- `qblast()`: calls the onilne BLAST and returns the result in various formats\n",
    "\n",
    "<sub><sub>For more details, see **Chapter 7** of the official [Tutorial](http://biopython.org/DIST/docs/tutorial/Tutorial.html).</sub></sub>"
   ]
  },
  {
   "cell_type": "code",
   "execution_count": null,
   "metadata": {},
   "outputs": [],
   "source": [
    "from Bio.Blast import NCBIWWW\n",
    "#help(NCBIWWW.qblast)"
   ]
  },
  {
   "cell_type": "code",
   "execution_count": null,
   "metadata": {},
   "outputs": [],
   "source": [
    "# \"plastn\": search method, \"nt\": database, the last argument is a query sequence ID\n",
    "# The last option is used to limit our search in Homo Spaiens. ([ORGN] means that we \n",
    "# search \"organism\" with name Homo Sapiens.)\n",
    "result_handle = NCBIWWW.qblast(\"blastn\", \"nt\", \"NM_001316525\", entrez_query='homo sapiens[ORGN]')\n",
    "\n",
    "# \"plastn\" can be very slow, not because the algorithm is slow, but because\n",
    "# its search is quite forgiving and thus it searches a huge database.\n",
    "# See https://ncbi.github.io/blast-cloud/dev/api.html for more options"
   ]
  },
  {
   "cell_type": "code",
   "execution_count": null,
   "metadata": {},
   "outputs": [],
   "source": [
    "##### BE CAREFUL!!! \"read()\" function will discard the content after reading.\n",
    "##### Therefore, the second reading will result in an empty string.\n",
    "##### It is a good practice to save the result.\n",
    "\n",
    "save_handle = open(\"NM_001316525_HS.xml\", 'w')\n",
    "save_handle.write(result_handle.read())"
   ]
  },
  {
   "cell_type": "code",
   "execution_count": null,
   "metadata": {},
   "outputs": [],
   "source": [
    "# For qblast, we can directly use a sequence\n",
    "\n",
    "from Bio.Seq import Seq\n",
    "mystery_seq = Seq(\"ATGCGTTAAAGCGTTAGCTAGCTTAAAGCTAGTATCGACTGCATCGACTCATCATCCTA\")\n",
    "\n",
    "result_handle = NCBIWWW.qblast(\"blastn\", \"nt\", mystery_seq)\n",
    "save_handle = open(\"mystery_seq.xml\", 'w')\n",
    "save_handle.write(result_handle.read())"
   ]
  },
  {
   "cell_type": "code",
   "execution_count": null,
   "metadata": {},
   "outputs": [],
   "source": [
    "# If we have a fasta file, that can be used without modification\n",
    "\n",
    "from Bio.Blast import NCBIWWW\n",
    "fasta_string = open(\"some.fasta\").read()\n",
    "result_handle = NCBIWWW.qblast(\"blastn\", \"nt\", fasta_string)\n",
    "save_handle = open(\"some.xml\", 'w')\n",
    "save_handle.write(result_handle.read())\n",
    "\n",
    "# Of if we have used SeqIO to read in the fasta file, we can pass the 'seq'\n",
    "from Bio.Blast import NCBIWWW\n",
    "from Bio import SeqIO\n",
    "record = SeqIO.read(\"some.fasta\", format=\"fasta\")\n",
    "result_handle = NCBIWWW.qblast(\"blastn\", \"nt\", record.seq)\n",
    "save_handle = open(\"some.xml\", 'w')\n",
    "save_handle.write(result_handle.read())\n",
    "\n"
   ]
  },
  {
   "cell_type": "code",
   "execution_count": null,
   "metadata": {},
   "outputs": [],
   "source": []
  },
  {
   "cell_type": "markdown",
   "metadata": {},
   "source": [
    "## **Parsing the BLAST result**"
   ]
  },
  {
   "cell_type": "code",
   "execution_count": null,
   "metadata": {},
   "outputs": [],
   "source": [
    "# Basic parsing\n",
    "\n",
    "from Bio.Blast import NCBIXML\n",
    "\n",
    "result_handle = open(\"NM_001316525.xml\")\n",
    "blast_record = NCBIXML.read(result_handle) \n",
    "result_handle.close()"
   ]
  },
  {
   "cell_type": "code",
   "execution_count": null,
   "metadata": {},
   "outputs": [],
   "source": [
    "# use parse() if many results. This allows for-loop iteration\n",
    "result_handle = open(\"NM_001316525.xml\")\n",
    "blast_record_iter = NCBIXML.parse(result_handle)\n",
    "for blast_record in blast_record_iter:\n",
    "    print(blast_record)\n",
    "\n",
    "dir(blast_record)"
   ]
  },
  {
   "cell_type": "code",
   "execution_count": null,
   "metadata": {},
   "outputs": [],
   "source": [
    "# OR, if you want to combine all results,\n",
    "result_handle = open(\"NM_001316525.xml\")\n",
    "blast_record_iter = NCBIXML.parse(result_handle)\n",
    "blast_records = list(blast_record_iter)\n",
    "print(blast_records)\n",
    "blast_record = blast_records[0]\n",
    "print(blast_record)"
   ]
  },
  {
   "cell_type": "code",
   "execution_count": null,
   "metadata": {},
   "outputs": [],
   "source": [
    "print('There are', len(blast_record.alignments), 'records')\n",
    "blast_record.alignments[0]"
   ]
  },
  {
   "cell_type": "code",
   "execution_count": null,
   "metadata": {},
   "outputs": [],
   "source": [
    "# 'Bio.Blast.Record.Blast' has alignments, which is list of hit sequences\n",
    "# In each alignment, there are HSPs (High Scoring Pair). In BLAST, there are usually\n",
    "# only 1. But in other search engines, such as BLAT, it can be many.\n",
    "# Within each HSP, there is a value called \"expect\" that contains e-value.\n",
    "\n",
    "# Use dir() to examine the properties\n",
    "\n",
    "for alignment in blast_record.alignments[10:15]:\n",
    "    print(\"    \")\n",
    "    print(\"******************************************* Alignment ************************\")\n",
    "    print(\"Sequence:\", alignment.title)\n",
    "    print(\"Hit seq ID:\", alignment.hit_id)\n",
    "    print(\"Accession:\", alignment.accession)\n",
    "    print(\"Length:\", alignment.length)\n",
    "    \n",
    "    for hsp in alignment.hsps: # High Scoring Pairs. Occasionally more than 1 for BLAST. (Other serach engines often return more than 1 HSPs for each alignment.)\n",
    "        if hsp.expect < 10e-30: # This filters out low quality alignments.\n",
    "                                # You should change this option for your research need.\n",
    "            print(\"***** HSP *****\")\n",
    "            print(\"e value:\", hsp.expect)\n",
    "            print(hsp.query[0:75] + \"...\")\n",
    "            print(hsp.match[0:75] + \"...\")\n",
    "            print(hsp.sbjct[0:75] + \"...\")\n",
    "\n",
    "# Now you can do whatever you wish to do. If you're interested, Biopython provides \n",
    "# more systematic way of parsing the result."
   ]
  },
  {
   "cell_type": "code",
   "execution_count": null,
   "metadata": {},
   "outputs": [],
   "source": []
  },
  {
   "cell_type": "code",
   "execution_count": null,
   "metadata": {},
   "outputs": [],
   "source": []
  },
  {
   "cell_type": "markdown",
   "metadata": {},
   "source": [
    "# **Automate the whole process**"
   ]
  },
  {
   "cell_type": "markdown",
   "metadata": {},
   "source": [
    "### **Step 1: BLAST**"
   ]
  },
  {
   "cell_type": "code",
   "execution_count": null,
   "metadata": {},
   "outputs": [],
   "source": [
    "from Bio.Blast import NCBIWWW\n",
    "result_handle = NCBIWWW.qblast(\"blastn\", \"nt\", \"NM_001316525\", entrez_query='homo sapiens[ORGN]')\n",
    "save_handle = open(\"NM_001316525_HS.xml\", 'w')\n",
    "save_handle.write(result_handle.read())"
   ]
  },
  {
   "cell_type": "markdown",
   "metadata": {},
   "source": [
    "### **Step 2: Parse**"
   ]
  },
  {
   "cell_type": "code",
   "execution_count": null,
   "metadata": {},
   "outputs": [],
   "source": [
    "from Bio.Blast import NCBIXML\n",
    "result_handle = open(\"NM_001316525_HS.xml\")\n",
    "blast_record = NCBIXML.read(result_handle) \n",
    "result_handle.close()"
   ]
  },
  {
   "cell_type": "markdown",
   "metadata": {},
   "source": [
    "### **Step 3: Collect accession IDs**\n",
    "This is an important step in real life situation. The criteria to select interesting sequence depend on the biological question. The criteria should be quantitative and should be programmed for objective results."
   ]
  },
  {
   "cell_type": "code",
   "execution_count": null,
   "metadata": {},
   "outputs": [],
   "source": [
    "# Here, we will simply pick the top 5.\n",
    "\n",
    "top_ids = [ alignment.accession  for alignment in blast_record.alignments[:5]]\n",
    "top_ids"
   ]
  },
  {
   "cell_type": "markdown",
   "metadata": {},
   "source": [
    "### **Step 4: Download sequence data**"
   ]
  },
  {
   "cell_type": "code",
   "execution_count": null,
   "metadata": {},
   "outputs": [],
   "source": [
    "# The following function, \"retrieve_GenBank_info()\" is from the last class\n",
    "import os\n",
    "from Bio import SeqIO\n",
    "from Bio import Entrez\n",
    "Entrez.email = \"sungsoo@ucsb.edu\"  # Always tell NCBI who you are"
   ]
  },
  {
   "cell_type": "code",
   "execution_count": null,
   "metadata": {},
   "outputs": [],
   "source": [
    "# This function retrieves GenBank record of the id.\n",
    "\n",
    "def retrieve_GenBank_info(id):\n",
    "    filename = id + \".gbk\"\n",
    "\n",
    "    print(\"Downloading GenBank information of\", id, \"...\")\n",
    "    net_handle = Entrez.efetch(\n",
    "        db=\"nucleotide\", id=id, rettype=\"gb\", retmode=\"text\"\n",
    "    )\n",
    "    out_handle = open(filename, \"w\")\n",
    "    out_handle.write(net_handle.read())\n",
    "    out_handle.close()\n",
    "    net_handle.close()\n",
    "    print(\"Saved\")\n",
    "\n",
    "    print(\"Parsing...\")\n",
    "    record = SeqIO.read(filename, \"genbank\")\n",
    "    return record"
   ]
  },
  {
   "cell_type": "code",
   "execution_count": null,
   "metadata": {},
   "outputs": [],
   "source": [
    "ids=top_ids\n",
    "records = [ retrieve_GenBank_info(id)  for id in ids ]\n",
    "print('Done')"
   ]
  },
  {
   "cell_type": "code",
   "execution_count": null,
   "metadata": {},
   "outputs": [],
   "source": [
    "records"
   ]
  },
  {
   "cell_type": "code",
   "execution_count": null,
   "metadata": {},
   "outputs": [],
   "source": [
    "# Write it into a fasta format file to use MUSCLE\n",
    "SeqIO.write(records, 'homo_sapiens_dop1r1_similar.fna', 'fasta')"
   ]
  },
  {
   "cell_type": "markdown",
   "metadata": {},
   "source": [
    "### **Step 5: Run MUSCLE to align multiple sequences**"
   ]
  },
  {
   "cell_type": "code",
   "execution_count": null,
   "metadata": {},
   "outputs": [],
   "source": [
    "# Biopython can run MUSCLE from inside Python.\n",
    "\n",
    "from Bio.Align.Applications import MuscleCommandline\n",
    "muscle_app = 'MUSCLE/muscle3.8.31_i86linux64'  # Path to the binary file.\n",
    "cline = MuscleCommandline(muscle_app, input=\"homo_sapiens_dop1r1_similar.fna\", out=\"homo_sapiens_dop1r1_similar.txt\")\n",
    "print(cline)\n",
    "output = cline()\n",
    "print(output[1])  # print commandline output of the MUSCLE"
   ]
  },
  {
   "cell_type": "markdown",
   "metadata": {},
   "source": [
    "### **Step 6: Check the results**"
   ]
  },
  {
   "cell_type": "code",
   "execution_count": null,
   "metadata": {},
   "outputs": [],
   "source": [
    "# The multiple sequence alignemnt result is in the homo_sapiens_dop1r1_similar.txt\n",
    "\n",
    "for seq_record in SeqIO.parse('homo_sapiens_dop1r1_similar.txt', 'fasta'):\n",
    "    print(seq_record.id)\n",
    "    print(seq_record.description)\n",
    "    print('Length:', len(seq_record))\n",
    "    print(seq_record.seq)\n",
    "    print('---------------------------------')\n",
    "    \n",
    "    \n",
    "# Now you can further analyze this data as you wish."
   ]
  },
  {
   "cell_type": "markdown",
   "metadata": {},
   "source": [
    "---\n",
    "\n",
    "## **Endnote**\n",
    "\n",
    "A real biologist may need to spend one or more days or even weeks studying Biopython to collect useful code and establish his or her own automated pipeline for the first time. That is, you will spend much time selecting a right package, finding the right code snippets, rewriting them to fit the need, and testing them. If you add your own analysis code that is not available out there (congrats! you're on the frontline of science), it may take even months to write just a few lines of code (remember the G-C skew plot that took many years of research to come up with a few lines of simple code?).\n",
    "\n",
    "\n",
    "Now you have seen real-life examples of biological sequence analyses and code writing practice, I hope you can begin your own scientific exploration.\n"
   ]
  },
  {
   "cell_type": "code",
   "execution_count": null,
   "metadata": {},
   "outputs": [],
   "source": []
  }
 ],
 "metadata": {
  "kernelspec": {
   "display_name": "Python 3",
   "language": "python",
   "name": "python3"
  },
  "language_info": {
   "codemirror_mode": {
    "name": "ipython",
    "version": 3
   },
   "file_extension": ".py",
   "mimetype": "text/x-python",
   "name": "python",
   "nbconvert_exporter": "python",
   "pygments_lexer": "ipython3",
   "version": "3.7.4"
  }
 },
 "nbformat": 4,
 "nbformat_minor": 4
}

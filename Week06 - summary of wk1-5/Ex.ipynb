{
 "cells": [
  {
   "cell_type": "markdown",
   "metadata": {},
   "source": [
    "### Why Python?\n",
    "\n",
    "- Syntax is simple and easy to understand compared to other more machine-friendly languages\n",
    "\n",
    "- Most science fields have adopted Python\n",
    "\n",
    "- Libraries are mature\n",
    "\n",
    "- Programming environment is highly polished"
   ]
  },
  {
   "cell_type": "markdown",
   "metadata": {},
   "source": [
    "### What is programming?\n",
    "\n",
    "- Instructions\n",
    "    - operators, loops, conidtionals, functions\n",
    "    \n",
    "    \n",
    "- Data\n",
    "    - basic data types, containers\n",
    "    \n",
    "    \n",
    "- Collection of both instructions and data\n",
    "    - classes, modules, packages"
   ]
  },
  {
   "cell_type": "markdown",
   "metadata": {},
   "source": [
    "### Data structures and algorithms\n",
    "\n",
    "- All software has data and instructions to manipulate the data.\n",
    "\n",
    "- To efficiently solve a problem, we need a data structure and an algorithm appropriate for the task. (Ex: array vs. linked list)\n",
    "\n",
    "- Big O notation is used to describe the asymptotic behavior of an algorithm.\n",
    "\n"
   ]
  },
  {
   "cell_type": "code",
   "execution_count": null,
   "metadata": {},
   "outputs": [],
   "source": []
  },
  {
   "cell_type": "markdown",
   "metadata": {},
   "source": [
    "---"
   ]
  },
  {
   "cell_type": "markdown",
   "metadata": {},
   "source": [
    "### Expression vs. Statments\n",
    "\n",
    "- An expression generates a value\n",
    "\n",
    "\n",
    "- A statement is a unit of execution\n",
    "    - An expression can always be a statement\n",
    "    - A statement may not always be an expression\n"
   ]
  },
  {
   "cell_type": "code",
   "execution_count": null,
   "metadata": {},
   "outputs": [],
   "source": []
  },
  {
   "cell_type": "markdown",
   "metadata": {},
   "source": [
    "---"
   ]
  },
  {
   "cell_type": "markdown",
   "metadata": {},
   "source": [
    "### Operators\n",
    "\n",
    "#### Order of precedence\n",
    "\n",
    "https://docs.python.org/3/reference/expressions.html\n",
    "(Hightest priority at bottom)\n",
    "![table](order_of_precedence.png)"
   ]
  },
  {
   "cell_type": "code",
   "execution_count": null,
   "metadata": {},
   "outputs": [],
   "source": []
  },
  {
   "cell_type": "markdown",
   "metadata": {},
   "source": [
    "### Conditionals\n",
    "\n",
    "- `if` statement\n",
    "\n",
    "- `if`/`else`\n",
    "\n",
    "- `if`/`elif`/`else`\n",
    "\n",
    "- `pass`: fills a space that requires a statement\n",
    "\n",
    "- A single line synatx\n",
    "\n",
    "```\n",
    "if <expression>: <statement>; <statement>;...; <statement>\n",
    "elif <expression>: <statement>; <statement>;...; <statement>\n",
    "else:  <statement>; <statement>;...; <statement>\n",
    "```\n",
    "\n",
    "- Another way\n",
    "\n",
    "```\n",
    "<statement> if <conditional expression> else <statement>\n",
    "```\n",
    "\n"
   ]
  },
  {
   "cell_type": "code",
   "execution_count": null,
   "metadata": {},
   "outputs": [],
   "source": [
    "age = 10\n",
    "if age > 100:\n",
    "    pass"
   ]
  },
  {
   "cell_type": "code",
   "execution_count": null,
   "metadata": {},
   "outputs": [],
   "source": []
  },
  {
   "cell_type": "markdown",
   "metadata": {},
   "source": [
    "### Loops\n",
    "\n",
    "- `for`...`in`\n",
    "    - `range()`\n",
    "    - `enumerate()`\n",
    "\n",
    "- `while`\n",
    "    - One line syntax:\n",
    "    ```\n",
    "while <expression>: <statement>; <statement>;...; <statement> \n",
    "```\n",
    "\n",
    "- `break`, `continue`, `pass`\n",
    "    \n",
    "- Avoid an inifinite loop\n"
   ]
  },
  {
   "cell_type": "code",
   "execution_count": null,
   "metadata": {},
   "outputs": [],
   "source": []
  },
  {
   "cell_type": "markdown",
   "metadata": {},
   "source": [
    "### Functions"
   ]
  },
  {
   "cell_type": "code",
   "execution_count": null,
   "metadata": {},
   "outputs": [],
   "source": [
    "def function_name(argument1, arg2_name = 3):\n",
    "    some_statements\n",
    "    return something_to_return_if_any"
   ]
  },
  {
   "cell_type": "markdown",
   "metadata": {},
   "source": [
    "- Variable number of arguments"
   ]
  },
  {
   "cell_type": "code",
   "execution_count": null,
   "metadata": {},
   "outputs": [],
   "source": [
    "def func_name(*args):\n",
    "    for x in args:\n",
    "        do_something"
   ]
  },
  {
   "cell_type": "code",
   "execution_count": null,
   "metadata": {},
   "outputs": [],
   "source": []
  },
  {
   "cell_type": "markdown",
   "metadata": {},
   "source": [
    "---"
   ]
  },
  {
   "cell_type": "markdown",
   "metadata": {},
   "source": [
    "### Variable names vs. Keywords\n",
    "\n",
    "- A variable name is a combination of case sensitive alphanumeric characters and '_'. It should not start with a number and should not have any space.\n",
    "\n",
    "- Keywords are reserved words for Python and cannot be used as a variable name."
   ]
  },
  {
   "cell_type": "code",
   "execution_count": null,
   "metadata": {},
   "outputs": [],
   "source": []
  },
  {
   "cell_type": "markdown",
   "metadata": {},
   "source": [
    "### Data types\n",
    "\n",
    "- string\n",
    "\n",
    "- int, float, complex\n",
    "\n",
    "- boolean\n",
    "\n",
    "- how to convert types?  ex: `int(a)`"
   ]
  },
  {
   "cell_type": "code",
   "execution_count": null,
   "metadata": {},
   "outputs": [],
   "source": [
    "a = 1.0\n",
    "type(a)"
   ]
  },
  {
   "cell_type": "code",
   "execution_count": null,
   "metadata": {},
   "outputs": [],
   "source": [
    "b = int(a)\n",
    "type(b)"
   ]
  },
  {
   "cell_type": "code",
   "execution_count": null,
   "metadata": {},
   "outputs": [],
   "source": []
  },
  {
   "cell_type": "markdown",
   "metadata": {},
   "source": [
    "### Contiainers\n",
    "\n",
    "**The practice file of the week 2 is probably the single most important practice you need to master for the entire course.**\n",
    "\n",
    "- List: Check out the W02_2.ipynb for details\n",
    "    - methods: len(), max(), min(), append(), extend(), del, in, etc... \n",
    "    - slicing\n",
    "\n",
    "\n",
    "- Dictionary\n",
    "    - `update()`, del, in, not in, keys(), values(), items(), etc\n",
    "    - A nested list or tuple can be used to make a dictionary\n",
    "\n",
    "\n",
    "- Tuple: Unmutable list\n",
    "\n",
    "\n",
    "- Set\n",
    "    - Operators: `-`, `|`, `&`, `^`\n",
    "    - `add()`, `remove()`, `set()`, etc\n",
    "\n"
   ]
  },
  {
   "cell_type": "code",
   "execution_count": null,
   "metadata": {},
   "outputs": [],
   "source": []
  },
  {
   "cell_type": "markdown",
   "metadata": {},
   "source": [
    "### Assignment vs. Shallow copy vs. Deep copy\n",
    "\n",
    "Check out the W02_2.pdf for details\n",
    "\n",
    "- `=` adds a nickname (exception: int, float, complex copies the value, not adding a nickname)\n",
    "\n",
    "- `.copy()` simply copy the first level data\n",
    "\n",
    "- `copy.deepcopy()` is a special funciton copying every level."
   ]
  },
  {
   "cell_type": "code",
   "execution_count": null,
   "metadata": {},
   "outputs": [],
   "source": []
  },
  {
   "cell_type": "markdown",
   "metadata": {},
   "source": [
    "### Unpacking"
   ]
  },
  {
   "cell_type": "code",
   "execution_count": null,
   "metadata": {},
   "outputs": [],
   "source": [
    "my_string = \"Wow\"       # string is also like a tuple\n",
    "c1, c2, c3 = my_string  # access individual elements\n",
    "print(c1, c2, c3)"
   ]
  },
  {
   "cell_type": "code",
   "execution_count": null,
   "metadata": {},
   "outputs": [],
   "source": [
    "def func(a,b,c):\n",
    "    print(a,b,c)\n",
    "\n",
    "my_arg = (1,2,4)\n",
    "func(*my_arg)    # This unpacks the tuple (or a list) and give it to a function.\n"
   ]
  },
  {
   "cell_type": "markdown",
   "metadata": {},
   "source": [
    "### Comprehension\n",
    "\n",
    "- Check out the Week 05 video (W05_3 -2 comprehension) for more details"
   ]
  },
  {
   "cell_type": "code",
   "execution_count": null,
   "metadata": {},
   "outputs": [],
   "source": [
    "squares = list()\n",
    "\n",
    "for i in range(10):\n",
    "    squares.append(i**2)\n",
    "    \n",
    "print(squares)"
   ]
  },
  {
   "cell_type": "code",
   "execution_count": null,
   "metadata": {},
   "outputs": [],
   "source": [
    "squares2 = [ i**2  for i in range(10)   ]\n",
    "print(squares2)"
   ]
  },
  {
   "cell_type": "code",
   "execution_count": null,
   "metadata": {},
   "outputs": [],
   "source": []
  },
  {
   "cell_type": "markdown",
   "metadata": {},
   "source": [
    "### Generator expression\n",
    "\n",
    "- Using `()` instead of `[]` in the list comprehension returns a generator of a list, not a full list.\n",
    "\n",
    "- Generator returns a component of a list one after another, saving space, because it does not make a full list\n",
    "\n",
    "- If the memory is not an issue, using a generator is slower than using a list comprehension.\n",
    "\n",
    "- If a list is big, then using a generator is a better option becuase there is no memory problem."
   ]
  },
  {
   "cell_type": "code",
   "execution_count": null,
   "metadata": {},
   "outputs": [],
   "source": []
  },
  {
   "cell_type": "markdown",
   "metadata": {},
   "source": [
    "### Transpose\n",
    "\n",
    "Python provides an easy way of swapping values."
   ]
  },
  {
   "cell_type": "code",
   "execution_count": null,
   "metadata": {},
   "outputs": [],
   "source": [
    "# Using comprehension\n",
    "capitals = {'United States': 'Washington, DC', 'France':'Paris', 'Italy':'Rome'}\n",
    "countries_by_capital = { capitals[key]:key   for key in capitals  }"
   ]
  },
  {
   "cell_type": "code",
   "execution_count": null,
   "metadata": {},
   "outputs": [],
   "source": []
  },
  {
   "cell_type": "code",
   "execution_count": null,
   "metadata": {},
   "outputs": [],
   "source": [
    "var1, var2, var3 = var2, var3, var1"
   ]
  },
  {
   "cell_type": "code",
   "execution_count": null,
   "metadata": {},
   "outputs": [],
   "source": []
  },
  {
   "cell_type": "markdown",
   "metadata": {},
   "source": [
    "---"
   ]
  },
  {
   "cell_type": "markdown",
   "metadata": {},
   "source": [
    "### Classes (Read and understand the Gene.py of Week 3)\n",
    "\n",
    "In Python, almost everything is an object.\n",
    "\n",
    "(Watch week 5 videos (W05_1 and W05_2) for details.)\n",
    "\n",
    "- `type(object_name)` function\n",
    "\n",
    "- `dir(object_name)` function\n",
    "\n",
    "- `callable(object_name)` function\n",
    "\n",
    "- `isinstance(instance_name, class_name)` function\n",
    "\n",
    "\n",
    "#### Use of class\n",
    "\n",
    "- `__init__(...)`\n",
    "\n",
    "- `self`\n",
    "\n",
    "- Making a new instance\n",
    "\n",
    "- Convention of using methods with an instance\n",
    "\n",
    "\n"
   ]
  },
  {
   "cell_type": "code",
   "execution_count": null,
   "metadata": {},
   "outputs": [],
   "source": [
    "# A basic structure of a class definition\n",
    "class petClass():\n",
    "    def __init__(self, name, color=\"brown\"):\n",
    "        self.name = name\n",
    "        self.color = color\n",
    "    \n",
    "    def petColor(self):\n",
    "        print(self.name, 'is', self.color)\n",
    "        \n",
    "    def dye(self, color):\n",
    "        self.color = color\n",
    "        self.petColor()"
   ]
  },
  {
   "cell_type": "code",
   "execution_count": null,
   "metadata": {},
   "outputs": [],
   "source": []
  },
  {
   "cell_type": "code",
   "execution_count": null,
   "metadata": {},
   "outputs": [],
   "source": []
  },
  {
   "cell_type": "markdown",
   "metadata": {},
   "source": [
    "### Modules\n",
    "\n",
    "`script` : Performs tasks, execute instructions<br>\n",
    "`module` : Contains only definitions<br>\n",
    "`package` : A directory that contains modules with a common theme<br>\n",
    "`libraries` : A collection of packages\n",
    "\n",
    "- keywords to import a module\n",
    "    - `import`, `from`, `as`\n",
    "    - `dir(module_name)` shows all available functions in a model\n",
    "    "
   ]
  },
  {
   "cell_type": "code",
   "execution_count": null,
   "metadata": {},
   "outputs": [],
   "source": []
  },
  {
   "cell_type": "markdown",
   "metadata": {},
   "source": [
    "---"
   ]
  },
  {
   "cell_type": "markdown",
   "metadata": {},
   "source": [
    "### Bioinformatics application\n",
    "\n",
    "- G-C skew plot\n",
    "\n",
    "- Biopython\n",
    "    - `Seq` class\n",
    "    - `MutableSeq` class\n",
    "    - `SeqRecord` class\n",
    "    - `SeqIO` class\n",
    "    - `Entrez` class\n",
    "    \n",
    "    \n",
    "- Using `BLAST` and `MUSCLE`\n",
    "\n",
    "\n",
    "- (Optional) You can automate the entire process in Python. "
   ]
  },
  {
   "cell_type": "code",
   "execution_count": null,
   "metadata": {},
   "outputs": [],
   "source": []
  },
  {
   "cell_type": "markdown",
   "metadata": {},
   "source": [
    "---"
   ]
  },
  {
   "cell_type": "markdown",
   "metadata": {},
   "source": [
    "### Study guide of individual package or module\n",
    "\n",
    "- Using tutorials or documents, figure out the basic data types (or classes) and how to initialize them.\n",
    "\n",
    "- The figure out how to manipulate the data\n",
    "\n",
    "- Finally, check if there are syntactic sugars.\n",
    "\n"
   ]
  },
  {
   "cell_type": "code",
   "execution_count": null,
   "metadata": {},
   "outputs": [],
   "source": []
  }
 ],
 "metadata": {
  "kernelspec": {
   "display_name": "Python 3",
   "language": "python",
   "name": "python3"
  },
  "language_info": {
   "codemirror_mode": {
    "name": "ipython",
    "version": 3
   },
   "file_extension": ".py",
   "mimetype": "text/x-python",
   "name": "python",
   "nbconvert_exporter": "python",
   "pygments_lexer": "ipython3",
   "version": "3.7.4"
  }
 },
 "nbformat": 4,
 "nbformat_minor": 4
}

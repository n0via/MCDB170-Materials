{
 "cells": [
  {
   "cell_type": "markdown",
   "metadata": {},
   "source": [
    "# **Numpy - Examples**"
   ]
  },
  {
   "cell_type": "markdown",
   "metadata": {},
   "source": [
    "### **Find prime numbers between 1 and 100,000**"
   ]
  },
  {
   "cell_type": "code",
   "execution_count": 20,
   "metadata": {},
   "outputs": [],
   "source": [
    "import numpy as np"
   ]
  },
  {
   "cell_type": "code",
   "execution_count": 26,
   "metadata": {},
   "outputs": [],
   "source": [
    "numbers = np.arange(20)\n",
    "is_prime = np.ones(numbers.size, dtype='int8')\n",
    "is_prime[0] = 0\n",
    "is_prime[1] = 0"
   ]
  },
  {
   "cell_type": "code",
   "execution_count": 27,
   "metadata": {},
   "outputs": [
    {
     "name": "stdout",
     "output_type": "stream",
     "text": [
      "[ 2  3  5  7 11 13 17 19]\n"
     ]
    }
   ],
   "source": [
    "for n in numbers:\n",
    "    if is_prime[n] == 0:\n",
    "        continue\n",
    "    else:\n",
    "        is_prime[  (2*n)::n  ] = 0\n",
    "\n",
    "print(numbers[np.nonzero(is_prime)])"
   ]
  },
  {
   "cell_type": "code",
   "execution_count": null,
   "metadata": {},
   "outputs": [],
   "source": []
  },
  {
   "cell_type": "markdown",
   "metadata": {},
   "source": [
    "### **Find a Fibonacci numbers from 1 and 100,000**"
   ]
  },
  {
   "cell_type": "code",
   "execution_count": 28,
   "metadata": {},
   "outputs": [],
   "source": [
    "import numpy as np"
   ]
  },
  {
   "cell_type": "code",
   "execution_count": 38,
   "metadata": {},
   "outputs": [],
   "source": [
    "fib = np.zeros(100, dtype='int64')\n",
    "fib[0] = 1\n",
    "fib[1] = 1"
   ]
  },
  {
   "cell_type": "code",
   "execution_count": 40,
   "metadata": {},
   "outputs": [
    {
     "data": {
      "text/plain": [
       "array([     1,      1,      2,      3,      5,      8,     13,     21,\n",
       "           34,     55,     89,    144,    233,    377,    610,    987,\n",
       "         1597,   2584,   4181,   6765,  10946,  17711,  28657,  46368,\n",
       "        75025, 121393])"
      ]
     },
     "execution_count": 40,
     "metadata": {},
     "output_type": "execute_result"
    }
   ],
   "source": [
    "last_idx = 2\n",
    "for idx in range(2, fib.size):\n",
    "    fib[idx] = fib[idx-2]+fib[idx-1]\n",
    "    if (fib[idx]>100000) or (idx+1 == fib.size):\n",
    "        last_idx = idx\n",
    "        break\n",
    "\n",
    "fib = fib[:(last_idx+1)]\n",
    "\n",
    "fib"
   ]
  },
  {
   "cell_type": "code",
   "execution_count": null,
   "metadata": {},
   "outputs": [],
   "source": []
  },
  {
   "cell_type": "markdown",
   "metadata": {},
   "source": [
    "### **Collatz Conjecture**\n",
    "\n",
    "For any positive number, repeat the following\n",
    "\n",
    "- If the number is odd, a new number is 3x+1\n",
    "\n",
    "- If the number is even, a new number is x/2\n",
    "\n",
    "Then, it will end up 4-2-1 cycle.\n",
    "\n",
    "https://en.wikipedia.org/wiki/Collatz_conjecture\n",
    "\n",
    "Test this for integers between 1000 and 10000. (Test it for the 1st 1,000,000 iterations to prevent computer crash.)"
   ]
  },
  {
   "cell_type": "code",
   "execution_count": 41,
   "metadata": {},
   "outputs": [],
   "source": [
    "import numpy as np"
   ]
  },
  {
   "cell_type": "code",
   "execution_count": null,
   "metadata": {},
   "outputs": [],
   "source": [
    "#initial_number = 10\n",
    "\n",
    "sequence = np.zeros(1000000, dtype='int64')\n",
    "\n",
    "for initial_number in range(1000, 10001):\n",
    "\n",
    "    sequence[0] = initial_number\n",
    "    idx = 0\n",
    "\n",
    "    number = initial_number\n",
    "    tested_good = 1\n",
    "    while number>1:\n",
    "        if number%2 == 1:\n",
    "            number = number*3 + 1\n",
    "        else:\n",
    "            number = number/2\n",
    "\n",
    "        if idx<sequence.size:\n",
    "            idx += 1\n",
    "            sequence[idx] = number\n",
    "        else:\n",
    "            tested_good = 0\n",
    "            break\n",
    "\n",
    "        if number == 1:\n",
    "            tested_good = 1\n",
    "            print(initial_number)\n",
    "            print(\"Good\")\n",
    "            break\n",
    "\n",
    "    if tested_good == 0:\n",
    "        print(initial_number)\n",
    "        print(\"BAD one found\")\n",
    "        break"
   ]
  },
  {
   "cell_type": "code",
   "execution_count": 65,
   "metadata": {},
   "outputs": [
    {
     "data": {
      "image/png": "[encoded data removed]",
      "text/plain": [
       "<Figure size 864x720 with 1 Axes>"
      ]
     },
     "metadata": {
      "needs_background": "light"
     },
     "output_type": "display_data"
    }
   ],
   "source": [
    "import matplotlib.pyplot as plt\n",
    "plt.figure(1, figsize=(12,10))\n",
    "plt.plot(sequence[:(idx+1)])\n",
    "plt.grid(color='g', linestyle=':', linewidth=0.5)\n"
   ]
  },
  {
   "cell_type": "code",
   "execution_count": null,
   "metadata": {},
   "outputs": [],
   "source": []
  },
  {
   "cell_type": "markdown",
   "metadata": {},
   "source": [
    "### **test**"
   ]
  },
  {
   "cell_type": "code",
   "execution_count": 62,
   "metadata": {},
   "outputs": [],
   "source": [
    "import numpy as np"
   ]
  },
  {
   "cell_type": "code",
   "execution_count": null,
   "metadata": {},
   "outputs": [],
   "source": []
  },
  {
   "cell_type": "code",
   "execution_count": null,
   "metadata": {},
   "outputs": [],
   "source": []
  },
  {
   "cell_type": "code",
   "execution_count": null,
   "metadata": {},
   "outputs": [],
   "source": []
  },
  {
   "cell_type": "code",
   "execution_count": null,
   "metadata": {},
   "outputs": [],
   "source": []
  }
 ],
 "metadata": {
  "kernelspec": {
   "display_name": "Python 3",
   "language": "python",
   "name": "python3"
  },
  "language_info": {
   "codemirror_mode": {
    "name": "ipython",
    "version": 3
   },
   "file_extension": ".py",
   "mimetype": "text/x-python",
   "name": "python",
   "nbconvert_exporter": "python",
   "pygments_lexer": "ipython3",
   "version": "3.7.4"
  }
 },
 "nbformat": 4,
 "nbformat_minor": 4
}
